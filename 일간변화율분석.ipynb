{
 "cells": [
  {
   "cell_type": "code",
   "execution_count": 6,
   "metadata": {
    "collapsed": true
   },
   "outputs": [],
   "source": [
    "%matplotlib inline\n",
    "import numpy as np\n",
    "import pandas as pd\n",
    "import matplotlib.pyplot as plt\n",
    "import tables as tb"
   ]
  },
  {
   "cell_type": "code",
   "execution_count": 7,
   "metadata": {
    "collapsed": true
   },
   "outputs": [],
   "source": [
    "db = tb.open_file('data/market.hdf5')"
   ]
  },
  {
   "cell_type": "code",
   "execution_count": 8,
   "metadata": {
    "collapsed": true
   },
   "outputs": [],
   "source": [
    "# 종목코드\n",
    "group = 'ZC'"
   ]
  },
  {
   "cell_type": "code",
   "execution_count": 9,
   "metadata": {
    "collapsed": true
   },
   "outputs": [],
   "source": [
    "# 일일 ohlc 데이터프레임 생성\n",
    "daily = pd.DataFrame(getattr(db.root, group).Daily.read())\n",
    "daily = daily.sort_values('date', ascending=True) # 날짜 정렬\n",
    "daily = daily.assign(date=daily.date.astype('M8[s]'))"
   ]
  },
  {
   "cell_type": "markdown",
   "metadata": {},
   "source": [
    "### 1. Kurtosis, Autocorrelation coefficient 구하기"
   ]
  },
  {
   "cell_type": "code",
   "execution_count": 22,
   "metadata": {},
   "outputs": [
    {
     "data": {
      "image/png": "[encoded data removed]",
      "text/plain": [
       "<matplotlib.figure.Figure at 0x176d50959b0>"
      ]
     },
     "metadata": {},
     "output_type": "display_data"
    }
   ],
   "source": [
    "# 일일 종가 변화율 =log(전일종가/오늘종가)\n",
    "dist = daily[['date','close']].copy(deep=True)\n",
    "\n",
    "# time frame\n",
    "TIMEFRAME = 1\n",
    "dist = dist[0:-1:TIMEFRAME]\n",
    "dist['change'] = dist.close.pct_change()\n",
    "\n",
    "ax = dist.plot.kde(x='date',y='change', color='red', figsize=(10,5))\n",
    "\n",
    "#plot normal distribution\n",
    "np.random.seed(1000)\n",
    "mean = dist.change.mean()\n",
    "std = dist.change.std()\n",
    "size = 3000#en(dist)\n",
    "norm_data = pd.DataFrame(np.random.normal(loc=mean, scale=std, size=size))\n",
    "norm_data.plot.kde(color='black',label='norm', ax=ax)\n",
    "\n",
    "#평균 수직선\n",
    "#plt.vlines(dist.range.mean(), ymin=0, ymax=65, linewidth=2.0, color='green')\n",
    "\n",
    "#legend\n",
    "ax.legend([group, 'NORMAL']); #legend"
   ]
  },
  {
   "cell_type": "code",
   "execution_count": 23,
   "metadata": {
    "scrolled": true
   },
   "outputs": [
    {
     "name": "stdout",
     "output_type": "stream",
     "text": [
      "mean:  0.000275554657579\n",
      "kurtosis:  3.75575478532\n",
      "skewness:  0.204977230737\n",
      "autocorr:  0.0340878347127\n"
     ]
    }
   ],
   "source": [
    "print('mean: ', dist.change.mean())\n",
    "print('kurtosis: ', dist.change.kurtosis())\n",
    "print('skewness: ', dist.change.skew())\n",
    "print('autocorr: ', dist.change.autocorr())"
   ]
  },
  {
   "cell_type": "markdown",
   "metadata": {},
   "source": [
    "### 2. kurtosis와 autocorrelation coefficient의 상관계수 구하기"
   ]
  },
  {
   "cell_type": "code",
   "execution_count": 7,
   "metadata": {
    "collapsed": true
   },
   "outputs": [],
   "source": [
    "kurtosis = []\n",
    "autocorr = []\n",
    "for item in db.iter_nodes('/'):\n",
    "    grp = item._v_name\n",
    "    daily = pd.DataFrame(getattr(db.root, grp).Daily.read())\n",
    "    daily = daily.sort_values('date', ascending=True) # 날짜 정렬\n",
    "    daily['change'] = np.log(daily.close.shift(1)/daily.close)\n",
    "    temp = daily['change'][-300:]\n",
    "    if temp.kurtosis() is not np.nan:\n",
    "        kurtosis.append(temp.kurtosis())\n",
    "        autocorr.append(abs(temp.autocorr()))\n",
    "    #kurtosis.append(daily.change.kurtosis())\n",
    "    #autocorr.append(abs(daily.change.autocorr()))\n",
    "    #print(f\"{item._v_title} : kurtosis: {daily.change.kurtosis()}, autocorr: {daily.change.autocorr()}\")"
   ]
  },
  {
   "cell_type": "code",
   "execution_count": 8,
   "metadata": {},
   "outputs": [
    {
     "data": {
      "text/plain": [
       "[<matplotlib.lines.Line2D at 0x18bba584160>]"
      ]
     },
     "execution_count": 8,
     "metadata": {},
     "output_type": "execute_result"
    },
    {
     "data": {
      "image/png": "[encoded data removed]",
      "text/plain": [
       "<matplotlib.figure.Figure at 0x18bb99d2b70>"
      ]
     },
     "metadata": {},
     "output_type": "display_data"
    }
   ],
   "source": [
    "plt.plot(autocorr,kurtosis, 'ro')\n",
    "#plt.axis([0, 0.1, 0, 50])"
   ]
  },
  {
   "cell_type": "code",
   "execution_count": 77,
   "metadata": {},
   "outputs": [
    {
     "data": {
      "text/plain": [
       "array([[ 1.       ,  0.1651994],\n",
       "       [ 0.1651994,  1.       ]])"
      ]
     },
     "execution_count": 77,
     "metadata": {},
     "output_type": "execute_result"
    }
   ],
   "source": [
    "# 상관계수\n",
    "np.corrcoef([kurtosis, autocorr])"
   ]
  },
  {
   "cell_type": "code",
   "execution_count": null,
   "metadata": {
    "collapsed": true
   },
   "outputs": [],
   "source": []
  }
 ],
 "metadata": {
  "kernelspec": {
   "display_name": "Python 3",
   "language": "python",
   "name": "python3"
  },
  "language_info": {
   "codemirror_mode": {
    "name": "ipython",
    "version": 3
   },
   "file_extension": ".py",
   "mimetype": "text/x-python",
   "name": "python",
   "nbconvert_exporter": "python",
   "pygments_lexer": "ipython3",
   "version": "3.6.1"
  }
 },
 "nbformat": 4,
 "nbformat_minor": 2
}
