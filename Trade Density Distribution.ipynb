{
 "cells": [
  {
   "cell_type": "code",
   "execution_count": 1,
   "metadata": {
    "collapsed": true
   },
   "outputs": [],
   "source": [
    "%matplotlib inline\n",
    "import tables as tb\n",
    "import numpy as np\n",
    "import pandas as pd\n",
    "import json\n",
    "from datetime import datetime, timedelta\n",
    "import scipy.sparse as sp\n",
    "import matplotlib.pyplot as plt\n",
    "import tables as tb\n",
    "import scipy.sparse as sp\n",
    "import sqlite3 as lite"
   ]
  },
  {
   "cell_type": "code",
   "execution_count": 2,
   "metadata": {
    "collapsed": true
   },
   "outputs": [],
   "source": [
    "# DB 로드\n",
    "db = tb.open_file('data/market.hdf5', mode='r')\n",
    "\n",
    "#종목정보 불러오기\n",
    "con = lite.connect('data/db.sqlite3')\n",
    "products = pd.read_sql('select * from trading_product', con)\n",
    "products.set_index(['group'], drop=False, inplace=True)\n",
    "products = products.to_dict(orient='index')"
   ]
  },
  {
   "cell_type": "code",
   "execution_count": 22,
   "metadata": {
    "collapsed": true
   },
   "outputs": [],
   "source": [
    "def density():\n",
    "    \"\"\"\n",
    "    density distribution\n",
    "    각 가격대별 누적 거래량을 구함\n",
    "    거래량은 시간차의 제곱근에 비례하여 감소함\n",
    "    \"\"\"\n",
    "    now = np.datetime64(datetime.now()+timedelta(hours=1))\n",
    "    cnt = 0\n",
    "    result= dict()\n",
    "    for grp in products.values():\n",
    "        cnt += 1\n",
    "        print(grp['name'], ' cnt: %s'%cnt)\n",
    "        \n",
    "        #환경변수\n",
    "        source = getattr(db.root, grp['group']).Minute.read()\n",
    "        tick = grp['tick_unit']\n",
    "        digit = grp['decimal_places']\n",
    "        \n",
    "        #rawdata 불러오기\n",
    "        value = source['value'] #density\n",
    "        #1. inf --> 0\n",
    "        value[value == np.inf] = 0 #inf 값은 0으로..\n",
    "        #2. std * 15 보다 큰값 --> 0\n",
    "        value[value > value.std()*15] = 0\n",
    "        #3. Nan --> 0\n",
    "        value[value == np.NaN] = 0\n",
    "        \n",
    "        price = source['price'].round(digit)\n",
    "        rows = source['row']\n",
    "        dates = getattr(db.root, grp['group']).DateMapper.read(field='date').astype('M8[s]')\n",
    "        # price range --> column array 변경 \n",
    "        # (가격 - 최소가)/가격변동단위\n",
    "        columns = np.rint((price-price.min())/tick)\n",
    "        \n",
    "        #sparse matrix creation\n",
    "        shape = (rows.max()+1, columns.max()+1)\n",
    "        matrix = sp.csr_matrix((value, (rows, columns)), shape=shape)\n",
    "        \n",
    "        #scale factor\n",
    "        delta = (now - dates)/np.timedelta64(1,'D')+1 #시간델타 - 현재가 1임\n",
    "        scale = sp.diags(1/(np.sqrt(delta))) #sqrt(deltaT) diagonal matrix\n",
    "        \n",
    "        #normalized density distribution\n",
    "        density = np.squeeze(np.asarray((scale*matrix).sum(axis=0)))\n",
    "        normed_density = density/density.sum()\n",
    "        x_ticks = np.arange(price.min(), price.max()+tick/2, tick).round(digit).tolist()\n",
    "        array = np.array([x_ticks, normed_density])\n",
    "        \n",
    "        result[grp['group']] = array\n",
    "    print(\"Done\")\n",
    "    return result"
   ]
  },
  {
   "cell_type": "code",
   "execution_count": 23,
   "metadata": {
    "collapsed": true
   },
   "outputs": [
    {
     "name": "stdout",
     "output_type": "stream",
     "text": [
      "5Year U.S. T-Note  cnt: 1\n",
      "Corn  cnt: 2\n",
      "RBOB Gasoline  cnt: 3\n",
      "Eurodollar  cnt: 4\n",
      "10-year JGB Futures  cnt: 5\n",
      "Silver  cnt: 6\n",
      "ICE ORANGE JUICE  cnt: 7\n",
      "ICE Gasoil  cnt: 8\n",
      "FTSE 100  cnt: 9\n",
      "VSTOXX  cnt: 10\n",
      "2Year U.S.T-Note  cnt: 11\n",
      "ICE WTI Crude  cnt: 12\n",
      "Wheat  cnt: 13\n",
      "Platinum  cnt: 14\n",
      "Long-term Euro-BTP  cnt: 15\n",
      "CAC40  cnt: 16\n",
      "Rough Rice  cnt: 17\n",
      "Swiss Franc  cnt: 18\n",
      "SIMSCI  cnt: 19\n",
      "Long Gilt  cnt: 20\n",
      "Lean Hogs  cnt: 21\n",
      "Live Cattle  cnt: 22\n",
      "ICE Sugar  cnt: 23\n",
      "Renminbi_USD/CNH  cnt: 24\n",
      "TOPIX  cnt: 25\n",
      "10Year U.S. T-Note  cnt: 26\n",
      "Australian Dollar  cnt: 27\n",
      "ICE Cotton  cnt: 28\n",
      "British Pound  cnt: 29\n",
      "New Zealand Dollar  cnt: 30\n",
      "SGX FTSE China A50  cnt: 31\n",
      "30Year U.S. T-Bond  cnt: 32\n",
      "H-Share  cnt: 33\n",
      "Euro Schatz  cnt: 34\n",
      "Soybean Meal  cnt: 35\n",
      "ICE Coffee  cnt: 36\n",
      "Euro FX  cnt: 37\n",
      "DAX  cnt: 38\n",
      "Copper  cnt: 39\n",
      "DJ Euro Stoxx 50  cnt: 40\n",
      "Crude Oil (WTI)  cnt: 41\n",
      "Euro Bobl  cnt: 42\n",
      "Soybeans  cnt: 43\n",
      "Nikkei 225 Dollar-based  cnt: 44\n",
      "Euro Bund  cnt: 45\n",
      "Brazilian Real  cnt: 46\n",
      "Palladium  cnt: 47\n",
      "Heating Oil  cnt: 48\n",
      "Gold  cnt: 49\n",
      "Feeder Cattle  cnt: 50\n",
      "SGX Nikkei 225  cnt: 51\n",
      "MSCI Taiwan  cnt: 52\n",
      "ICE Cocoa  cnt: 53\n",
      "SGX INR/USD FX  cnt: 54\n",
      "SGX Nifty  cnt: 55\n",
      "Canadian Dollar  cnt: 56\n",
      "Euro/Yen Cross  cnt: 57\n",
      "SGX USD Nikkei 225  cnt: 58\n",
      "Natural Gas  cnt: 59\n",
      "Nikkei 225 Yen-based  cnt: 60\n",
      "ICE Brent Crude  cnt: 61\n",
      "Oats  cnt: 62\n",
      "Soybean Oil  cnt: 63\n",
      "Hang Seng  cnt: 64\n",
      "US Dollar Index  cnt: 65\n",
      "Japanese Yen  cnt: 66\n",
      "Done\n"
     ]
    }
   ],
   "source": [
    "dens = density()"
   ]
  },
  {
   "cell_type": "code",
   "execution_count": 25,
   "metadata": {},
   "outputs": [
    {
     "data": {
      "text/plain": [
       "array([[  4.76400000e-01,   4.76500000e-01,   4.76600000e-01, ...,\n",
       "          1.09920000e+00,   1.09930000e+00,   1.09940000e+00],\n",
       "       [  6.56181384e-08,   6.56181384e-08,   6.56181384e-08, ...,\n",
       "          4.98379584e-06,   4.98379584e-06,   4.98379584e-06]])"
      ]
     },
     "execution_count": 25,
     "metadata": {},
     "output_type": "execute_result"
    }
   ],
   "source": [
    "dens['AD']"
   ]
  },
  {
   "cell_type": "code",
   "execution_count": 31,
   "metadata": {
    "scrolled": false
   },
   "outputs": [
    {
     "data": {
      "text/plain": [
       "[<matplotlib.lines.Line2D at 0x19927f92f98>]"
      ]
     },
     "execution_count": 31,
     "metadata": {},
     "output_type": "execute_result"
    },
    {
     "data": {
      "image/png": "[encoded data removed]",
      "text/plain": [
       "<matplotlib.figure.Figure at 0x19927ec4978>"
      ]
     },
     "metadata": {},
     "output_type": "display_data"
    }
   ],
   "source": [
    "x,y = dens['AD']\n",
    "plt.plot(x,y)"
   ]
  }
 ],
 "metadata": {
  "kernelspec": {
   "display_name": "Python 3",
   "language": "python",
   "name": "python3"
  },
  "language_info": {
   "codemirror_mode": {
    "name": "ipython",
    "version": 3
   },
   "file_extension": ".py",
   "mimetype": "text/x-python",
   "name": "python",
   "nbconvert_exporter": "python",
   "pygments_lexer": "ipython3",
   "version": "3.6.2"
  }
 },
 "nbformat": 4,
 "nbformat_minor": 2
}
