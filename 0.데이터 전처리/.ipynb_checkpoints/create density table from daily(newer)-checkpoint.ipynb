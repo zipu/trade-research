{
 "cells": [
  {
   "cell_type": "code",
   "execution_count": 1,
   "metadata": {
    "collapsed": true
   },
   "outputs": [],
   "source": [
    "%matplotlib inline\n",
    "import sys\n",
    "sys.path.append('..')\n",
    "import tables as tb\n",
    "import h5py\n",
    "import numpy as np\n",
    "import pandas as pd\n",
    "from datetime import datetime\n",
    "import scipy.sparse as sp\n",
    "import matplotlib.pyplot as plt\n",
    "import sqlite3 as lite\n",
    "from modules.tbmodels import DateMapper, Minute"
   ]
  },
  {
   "cell_type": "markdown",
   "metadata": {},
   "source": [
    "### 일별 OHLC 변환하여 TDOP (Trade Density Over Price) 만들기 "
   ]
  },
  {
   "cell_type": "code",
   "execution_count": 6,
   "metadata": {
    "collapsed": true
   },
   "outputs": [],
   "source": [
    "filters = tb.Filters(complib='blosc', complevel=9)\n",
    "raw_data = h5py.File('../data/raw data/daily_futures.h5', mode='r')"
   ]
  },
  {
   "cell_type": "code",
   "execution_count": 28,
   "metadata": {
    "collapsed": true
   },
   "outputs": [],
   "source": [
    "tdob = tb.open_file('../data/etc/tdop.hdf5', mode='a', filters=filters)"
   ]
  },
  {
   "cell_type": "code",
   "execution_count": 8,
   "metadata": {
    "collapsed": true
   },
   "outputs": [],
   "source": [
    "#종목정보 불러오기\n",
    "con = lite.connect('../data/db.sqlite3')\n",
    "products = pd.read_sql('select * from trading_product', con)\n",
    "products.set_index(['group'], drop=False, inplace=True)\n",
    "products = products.to_dict(orient='index')"
   ]
  },
  {
   "cell_type": "code",
   "execution_count": 29,
   "metadata": {},
   "outputs": [
    {
     "name": "stdout",
     "output_type": "stream",
     "text": [
      " ICE WTI Crude Oil (61/75)5)44/75)/75)\n",
      "Everythin fin.\n"
     ]
    }
   ],
   "source": [
    "for cnt, file in enumerate(raw_data.values()):\n",
    "    #if cnt == 2:\n",
    "    #    break\n",
    "    \n",
    "    code = file.attrs['symbol']\n",
    "    name = file.attrs['name']\n",
    "    source = file.value[:,[0,2,3,5]] #date,high,low,volume\n",
    "    \n",
    "    if code == 'None':\n",
    "        continue\n",
    "    \n",
    "    print('\\r %s (%s/%s)'%(name,cnt,len(raw_data)), end='', flush=True)\n",
    "\n",
    "    #pytables cursor\n",
    "    group = tdob.create_group('/', code, name)\n",
    "    datemapper = tdob.create_table(group, 'DateMapper', DateMapper)\n",
    "    minute = tdob.create_table(group, 'Minute', Minute)\n",
    "    \n",
    "    data = []\n",
    "    dates = []\n",
    "\n",
    "    #환경변수\n",
    "    tick_unit = products[code]['tick_unit']\n",
    "    digit = products[code]['decimal_places']\n",
    "    \n",
    "    #pandas dataframe\n",
    "    #df = pd.DataFrame(group.Daily.read()).sort_values('date', ascending=True)\n",
    "    \n",
    "    for date, high, low, volume in source:\n",
    "        idx = len(dates) #datemapper\n",
    "        #date, high, low, volume = datum\n",
    "        \n",
    "        if round(low, digit) == round(high, digit):\n",
    "            item = (idx, round(low, digit), volume)\n",
    "            dateitem = (date, idx)\n",
    "            data.append(item)\n",
    "            dates.append(dateitem)\n",
    "        \n",
    "        else:\n",
    "            length = (high - low)/tick_unit + 1\n",
    "            length = np.rint(length)\n",
    "            value = volume/length\n",
    "            \n",
    "            if np.isinf(value) or (value < 0.1): #inf 또는 틱탕 너무 작은 value 버림\n",
    "                #print(\"wrong volume\", row.volume, length, name, str(row.date.astype('M8[s]').astype('M8[D]')))\n",
    "                continue\n",
    "            else:\n",
    "                dateitem = (date, idx)\n",
    "                dates.append(dateitem)\n",
    "                for price in np.arange(round(low, digit), high-tick_unit/2, tick_unit):\n",
    "                    item = (idx, price, value)\n",
    "                    data.append(item)\n",
    "    if dates:\n",
    "        datemapper.append(dates)\n",
    "        minute.append(data)\n",
    "        minute.flush()\n",
    "        datemapper.flush()\n",
    "print(\"\\nEverythin fin.\")"
   ]
  },
  {
   "cell_type": "markdown",
   "metadata": {},
   "source": [
    "### Verification"
   ]
  },
  {
   "cell_type": "code",
   "execution_count": 36,
   "metadata": {},
   "outputs": [
    {
     "name": "stdout",
     "output_type": "stream",
     "text": [
      "done\n"
     ]
    }
   ],
   "source": [
    "# 중복데이터 체크\n",
    "from collections import Counter\n",
    "\n",
    "for grp in tdob.iter_nodes('/'):\n",
    "    item = grp.DateMapper.cols.date[:]\n",
    "    dup = [item for item, count in Counter(item).items() if count > 1]\n",
    "    if dup:\n",
    "        print(grp._v_title, \" has duplicated data\")\n",
    "print('done')"
   ]
  }
 ],
 "metadata": {
  "kernelspec": {
   "display_name": "Python 3",
   "language": "python",
   "name": "python3"
  },
  "language_info": {
   "codemirror_mode": {
    "name": "ipython",
    "version": 3
   },
   "file_extension": ".py",
   "mimetype": "text/x-python",
   "name": "python",
   "nbconvert_exporter": "python",
   "pygments_lexer": "ipython3",
   "version": "3.6.2"
  }
 },
 "nbformat": 4,
 "nbformat_minor": 2
}
