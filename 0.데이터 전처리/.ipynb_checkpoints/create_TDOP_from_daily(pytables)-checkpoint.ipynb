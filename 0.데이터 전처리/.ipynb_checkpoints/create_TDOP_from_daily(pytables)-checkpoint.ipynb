{
 "cells": [
  {
   "cell_type": "code",
   "execution_count": 1,
   "metadata": {},
   "outputs": [
    {
     "ename": "ModuleNotFoundError",
     "evalue": "No module named 'modules'",
     "output_type": "error",
     "traceback": [
      "\u001b[1;31m---------------------------------------------------------------------------\u001b[0m",
      "\u001b[1;31mModuleNotFoundError\u001b[0m                       Traceback (most recent call last)",
      "\u001b[1;32m<ipython-input-1-5e04aa0edb62>\u001b[0m in \u001b[0;36m<module>\u001b[1;34m()\u001b[0m\n\u001b[0;32m      9\u001b[0m \u001b[1;32mimport\u001b[0m \u001b[0mmatplotlib\u001b[0m\u001b[1;33m.\u001b[0m\u001b[0mpyplot\u001b[0m \u001b[1;32mas\u001b[0m \u001b[0mplt\u001b[0m\u001b[1;33m\u001b[0m\u001b[0m\n\u001b[0;32m     10\u001b[0m \u001b[1;32mimport\u001b[0m \u001b[0msqlite3\u001b[0m \u001b[1;32mas\u001b[0m \u001b[0mlite\u001b[0m\u001b[1;33m\u001b[0m\u001b[0m\n\u001b[1;32m---> 11\u001b[1;33m \u001b[1;32mfrom\u001b[0m \u001b[0mmodules\u001b[0m\u001b[1;33m.\u001b[0m\u001b[0mtbmodels\u001b[0m \u001b[1;32mimport\u001b[0m \u001b[0mDateMapper\u001b[0m\u001b[1;33m,\u001b[0m \u001b[0mMinute\u001b[0m\u001b[1;33m\u001b[0m\u001b[0m\n\u001b[0m",
      "\u001b[1;31mModuleNotFoundError\u001b[0m: No module named 'modules'"
     ]
    }
   ],
   "source": [
    "%matplotlib inline\n",
    "import sys\n",
    "#sys.path.append('..')\n",
    "import tables as tb\n",
    "import numpy as np\n",
    "import pandas as pd\n",
    "from datetime import datetime\n",
    "import scipy.sparse as sp\n",
    "import matplotlib.pyplot as plt\n",
    "import sqlite3 as lite\n",
    "from modules.tbmodels import DateMapper, Minute"
   ]
  },
  {
   "cell_type": "markdown",
   "metadata": {},
   "source": [
    "### 일별 OHLC 변환하여 TDOP (Trade Density Over Price) 만들기 "
   ]
  },
  {
   "cell_type": "code",
   "execution_count": 107,
   "metadata": {
    "collapsed": true
   },
   "outputs": [],
   "source": [
    "db = tb.open_file('data/market.hdf5', mode='a')"
   ]
  },
  {
   "cell_type": "code",
   "execution_count": 108,
   "metadata": {
    "collapsed": true
   },
   "outputs": [],
   "source": [
    "#종목정보 불러오기\n",
    "con = lite.connect('data/db.sqlite3')\n",
    "products = pd.read_sql('select * from trading_product', con)\n",
    "products.set_index(['group'], drop=False, inplace=True)\n",
    "products = products.to_dict(orient='index')"
   ]
  },
  {
   "cell_type": "code",
   "execution_count": 112,
   "metadata": {
    "collapsed": true
   },
   "outputs": [],
   "source": [
    "#테이블 삭제후 생성\n",
    "for group in db.iter_nodes('/'):\n",
    "    #group.DateMapper.remove()\n",
    "    #group.Minute.remove()\n",
    "    db.create_table(group, 'DateMapper', DateMapper)\n",
    "    db.create_table(group, 'Minute', Minute)"
   ]
  },
  {
   "cell_type": "code",
   "execution_count": 122,
   "metadata": {},
   "outputs": [
    {
     "name": "stdout",
     "output_type": "stream",
     "text": [
      "Everythin fin.\n"
     ]
    }
   ],
   "source": [
    "for group in db.iter_nodes('/'):\n",
    "    grpname = group._v_name\n",
    "    name = group._v_title\n",
    "    #print(group._v_name)\n",
    "\n",
    "    data = []\n",
    "    dates = []\n",
    "    #db cursors\n",
    "    datecur = group.DateMapper \n",
    "    minute = group.Minute\n",
    "        \n",
    "    #환경변수\n",
    "    tick_unit = products[grpname]['tick_unit']\n",
    "    digit = products[grpname]['decimal_places']\n",
    "        \n",
    "    #pandas dataframe\n",
    "    df = pd.DataFrame(group.Daily.read()).sort_values('date', ascending=True)\n",
    "    \n",
    "    for row in df.itertuples():\n",
    "        idx = len(dates) #datemapper\n",
    "        \n",
    "        if round(row.low, digit) == round(row.high, digit):\n",
    "            item = (idx, round(row.low, digit), row.volume)\n",
    "            dateitem = (row.date, idx)\n",
    "            data.append(item)\n",
    "            dates.append(dateitem)\n",
    "        \n",
    "        else:\n",
    "            length = (row.high - row.low)/tick_unit + 1\n",
    "            length = np.rint(length)\n",
    "            value = row.volume/length\n",
    "            \n",
    "            if np.isinf(value) or (value < 0.1): #inf 또는 틱탕 너무 작은 value 버림\n",
    "                #print(\"wrong volume\", row.volume, length, name, str(row.date.astype('M8[s]').astype('M8[D]')))\n",
    "                continue\n",
    "            else:\n",
    "                dateitem = (row.date, idx)\n",
    "                dates.append(dateitem)\n",
    "                for price in np.arange(round(row.low, digit), row.high-tick_unit/2, tick_unit):\n",
    "                    item = (idx, price, value)\n",
    "                    data.append(item)\n",
    "    if dates:\n",
    "        datecur.append(dates)\n",
    "        minute.append(data)\n",
    "        minute.flush()\n",
    "        datecur.flush()\n",
    "print(\"Everythin fin.\")"
   ]
  },
  {
   "cell_type": "markdown",
   "metadata": {},
   "source": [
    "### Verification"
   ]
  },
  {
   "cell_type": "code",
   "execution_count": 118,
   "metadata": {
    "collapsed": true
   },
   "outputs": [],
   "source": [
    "# 중복데이터 체크\n",
    "from collections import Counter\n",
    "\n",
    "for grp in db.iter_nodes('/'):\n",
    "    item = grp.DateMapper.cols.date[:]\n",
    "    dup = [item for item, count in Counter(df2).items() if count > 1]\n",
    "    if dup:\n",
    "        print(grp._v_title, \" has duplicated data\")"
   ]
  }
 ],
 "metadata": {
  "kernelspec": {
   "display_name": "Python 3",
   "language": "python",
   "name": "python3"
  }
 },
 "nbformat": 4,
 "nbformat_minor": 2
}
