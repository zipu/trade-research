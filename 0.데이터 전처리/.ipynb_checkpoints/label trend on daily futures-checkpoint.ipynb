{
 "cells": [
  {
   "cell_type": "code",
   "execution_count": 1,
   "metadata": {},
   "outputs": [
    {
     "name": "stderr",
     "output_type": "stream",
     "text": [
      "Using TensorFlow backend.\n"
     ]
    }
   ],
   "source": [
    "%matplotlib inline\n",
    "import sys\n",
    "sys.path.append('..')\n",
    "import matplotlib.pyplot as plt\n",
    "import numpy as np\n",
    "import pandas as pd\n",
    "import csv\n",
    "from keras.models import load_model\n",
    "import h5py"
   ]
  },
  {
   "cell_type": "code",
   "execution_count": 2,
   "metadata": {
    "collapsed": true
   },
   "outputs": [],
   "source": [
    "from tools import norm"
   ]
  },
  {
   "cell_type": "code",
   "execution_count": 3,
   "metadata": {
    "collapsed": true
   },
   "outputs": [],
   "source": [
    "rawfile = '../data/raw data/daily_futures.h5'\n",
    "#trainedfile = '../data/training set/40day_trend_labeled_futures.h5'\n",
    "trainedfile = '../data/etc/ohlct.h5'\n",
    "modelfile = '../data/keras models/40day-trend.h5'"
   ]
  },
  {
   "cell_type": "code",
   "execution_count": 4,
   "metadata": {
    "collapsed": true
   },
   "outputs": [],
   "source": [
    "period = 40"
   ]
  },
  {
   "cell_type": "code",
   "execution_count": 17,
   "metadata": {
    "collapsed": true
   },
   "outputs": [],
   "source": [
    "raw_file = h5py.File(rawfile, \"r\")\n",
    "trained_file = h5py.File(trainedfile, \"w\")"
   ]
  },
  {
   "cell_type": "code",
   "execution_count": 10,
   "metadata": {
    "collapsed": true
   },
   "outputs": [],
   "source": [
    "model = load_model(modelfile)"
   ]
  },
  {
   "cell_type": "code",
   "execution_count": 12,
   "metadata": {
    "scrolled": true
   },
   "outputs": [
    {
     "name": "stdout",
     "output_type": "stream",
     "text": [
      "processing ICE Russell 2000 Index Mini...(63/77)              "
     ]
    }
   ],
   "source": [
    "'''\n",
    "index N의 trend index는\n",
    "N-period 에서 N-1 동안의 period 일에 대한 trend index임\n",
    "\n",
    "'''\n",
    "\n",
    "for idx, file in enumerate(raw_file.values()):\n",
    "    if file.attrs['symbol'] == 'None':\n",
    "        continue\n",
    "    \n",
    "    name = file.attrs['name']\n",
    "    print(\"\\rprocessing %s...(%s/%s)            \"%(name, idx, len(raw_file)),end='', flush=True)\n",
    "    columns = ['date', 'open','high','low','close','volume','open interest']\n",
    "    raw_data = pd.DataFrame(file.value, columns=columns)\n",
    "    trend=[np.nan for i in range(period)]\n",
    "    \n",
    "    for i in range(period, len(raw_data)):\n",
    "        data = raw_data[i-period:i][['open','high','low','close']]\n",
    "        data = norm(data)\n",
    "        \n",
    "        pred = model.predict(np.array([data.values]))\n",
    "        trend.append(pred[0].argmax())\n",
    "    raw_data['trend'] = pd.DataFrame(trend)\n",
    "    raw_data = raw_data[period:]\n",
    "    dset = trained_file.create_dataset(file.attrs['symbol'], shape=raw_data.shape, data=raw_data.values)\n",
    "    dset.attrs['name'] = file.attrs['name']\n",
    "    dset.attrs['symbol'] = file.attrs['symbol']\n",
    "    dset.attrs['exchange'] = file.attrs['exchange']    "
   ]
  },
  {
   "cell_type": "code",
   "execution_count": 18,
   "metadata": {},
   "outputs": [],
   "source": [
    "trained_file.attrs['columns'] = 'date;open;high;low;close;trend'"
   ]
  },
  {
   "cell_type": "code",
   "execution_count": 19,
   "metadata": {
    "collapsed": true
   },
   "outputs": [],
   "source": [
    "raw_file.close()\n",
    "trained_file.close()"
   ]
  },
  {
   "cell_type": "code",
   "execution_count": 30,
   "metadata": {
    "collapsed": true
   },
   "outputs": [],
   "source": [
    "from collections import Counter"
   ]
  },
  {
   "cell_type": "code",
   "execution_count": 32,
   "metadata": {
    "collapsed": true
   },
   "outputs": [],
   "source": [
    "f = h5py.File(trainedfile, \"r\")"
   ]
  },
  {
   "cell_type": "code",
   "execution_count": 38,
   "metadata": {
    "collapsed": true
   },
   "outputs": [],
   "source": [
    "trend = np.array([])\n",
    "for file in f.values():\n",
    "    trend = np.append(trend, file.value[:,4])"
   ]
  },
  {
   "cell_type": "code",
   "execution_count": 42,
   "metadata": {},
   "outputs": [
    {
     "data": {
      "text/plain": [
       "Counter({0.0: 30492, 1.0: 105057, 2.0: 47026})"
      ]
     },
     "execution_count": 42,
     "metadata": {},
     "output_type": "execute_result"
    }
   ],
   "source": [
    "Counter(trend)"
   ]
  },
  {
   "cell_type": "code",
   "execution_count": 27,
   "metadata": {},
   "outputs": [
    {
     "data": {
      "text/plain": [
       "'None'"
      ]
     },
     "execution_count": 27,
     "metadata": {},
     "output_type": "execute_result"
    }
   ],
   "source": [
    "v.attrs['symbol']"
   ]
  },
  {
   "cell_type": "code",
   "execution_count": null,
   "metadata": {
    "collapsed": true
   },
   "outputs": [],
   "source": []
  }
 ],
 "metadata": {
  "kernelspec": {
   "display_name": "Python 3",
   "language": "python",
   "name": "python3"
  },
  "language_info": {
   "codemirror_mode": {
    "name": "ipython",
    "version": 3
   },
   "file_extension": ".py",
   "mimetype": "text/x-python",
   "name": "python",
   "nbconvert_exporter": "python",
   "pygments_lexer": "ipython3",
   "version": "3.6.2"
  }
 },
 "nbformat": 4,
 "nbformat_minor": 2
}
