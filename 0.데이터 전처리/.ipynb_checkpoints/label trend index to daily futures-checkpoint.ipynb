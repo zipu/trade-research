{
 "cells": [
  {
   "cell_type": "code",
   "execution_count": 1,
   "metadata": {
    "collapsed": true
   },
   "outputs": [],
   "source": [
    "import sys\n",
    "sys.path.append('..')"
   ]
  },
  {
   "cell_type": "code",
   "execution_count": 2,
   "metadata": {},
   "outputs": [
    {
     "name": "stderr",
     "output_type": "stream",
     "text": [
      "Using TensorFlow backend.\n"
     ]
    }
   ],
   "source": [
    "%matplotlib inline\n",
    "from glob import glob\n",
    "import matplotlib.pyplot as plt\n",
    "import numpy as np\n",
    "import pandas as pd\n",
    "from IPython.display import clear_output\n",
    "import csv\n",
    "import time\n",
    "from modules.factory import ohlc_chart, norm\n",
    "import h5py"
   ]
  },
  {
   "cell_type": "markdown",
   "metadata": {},
   "source": [
    "### 0. Parameters"
   ]
  },
  {
   "cell_type": "code",
   "execution_count": 3,
   "metadata": {
    "collapsed": true
   },
   "outputs": [],
   "source": [
    "FILES = glob('../data/daily futures/*.csv')"
   ]
  },
  {
   "cell_type": "code",
   "execution_count": 7,
   "metadata": {
    "collapsed": true
   },
   "outputs": [],
   "source": [
    "WINDOW = 40\n",
    "norm_type = 'absdiff' \n",
    "num_dim = 4 #ohlc\n",
    "FILENAME = f'../data/training set/trend-{WINDOW}day-{norm_type}.h5'"
   ]
  },
  {
   "cell_type": "code",
   "execution_count": 8,
   "metadata": {
    "collapsed": true
   },
   "outputs": [],
   "source": [
    "file = h5py.File(FILENAME, \"a\")\n",
    "X = file.create_dataset('X', (0, WINDOW, num_dim), maxshape=(None, WINDOW, num_dim), dtype='float32')\n",
    "Y = file.create_dataset('Y', (0,),maxshape=(None,), dtype='i')\n",
    "file.close()"
   ]
  },
  {
   "cell_type": "code",
   "execution_count": 9,
   "metadata": {
    "scrolled": false
   },
   "outputs": [
    {
     "name": "stdout",
     "output_type": "stream",
     "text": [
      "../data/daily futures\\ICE WTI Crude Oil.csv\n"
     ]
    },
    {
     "data": {
      "image/png": "[encoded data removed]",
      "text/plain": [
       "<matplotlib.figure.Figure at 0x28c43c49908>"
      ]
     },
     "metadata": {},
     "output_type": "display_data"
    },
    {
     "name": "stdout",
     "output_type": "stream",
     "text": [
      "range:  7.86304188097\n",
      "하락(0), 기타(1), 상승(2): q\n"
     ]
    }
   ],
   "source": [
    "file = h5py.File(FILENAME, \"a\")\n",
    "X = file['X']\n",
    "Y = file['Y']\n",
    "while True:\n",
    "    idx = np.random.randint(0, len(FILES))\n",
    "\n",
    "    raw_data  = pd.read_csv(FILES[idx])\n",
    "    #volumes = raw_data['Volume']\n",
    "    raw_data.drop(['Date', 'Volume','Prev. Day Open Interest'], axis=1, inplace=True)\n",
    "    length = len(raw_data)\n",
    "    \n",
    "    for i in range(10):\n",
    "        print(FILES[idx])\n",
    "        #시작일자 랜덤 설정\n",
    "        start = np.random.randint(0, length -  WINDOW)\n",
    "        end = start + WINDOW\n",
    "        data= raw_data[start:end]\n",
    "            \n",
    "        #Data Normalization\n",
    "        base = np.abs(data.Settle.diff()).mean()\n",
    "        data = norm(data)\n",
    "        \n",
    "        #그래프 \n",
    "        fig, (ax) = plt.subplots(2,1, gridspec_kw = {'height_ratios':[1, 1]}, figsize=(12,14))\n",
    "        fig.autofmt_xdate()\n",
    "        \n",
    "        if start < 240:\n",
    "            start0 = 0\n",
    "        else:\n",
    "            start0 = start - 240\n",
    "            \n",
    "        if end + 60 < len(raw_data):\n",
    "            end0 = end + 60\n",
    "        else:\n",
    "            end0 = len(raw_data)\n",
    "        \n",
    "        #ax[0].plot(raw_data.index.values[start0:end0], raw_data.Settle.values[start0:end0])\n",
    "        \n",
    "        chart_data = np.concatenate((np.arange(end0-start0).reshape(-1, 1), raw_data[start0:end0].values), axis=1) \n",
    "        ohlc_chart(ax[0], chart_data, linewidth=1.44)\n",
    "        ax[0].axvspan(start-start0, end-start0, facecolor='y', alpha=0.3)\n",
    "        \n",
    "        \n",
    "        ohlc_data = np.concatenate((np.arange(len(data)).reshape(-1, 1), raw_data[start:end].values), axis=1)\n",
    "        #ax[1].plot(data.index.values, data.values)\n",
    "        ohlc_chart(ax[1], ohlc_data, linewidth=1.44)\n",
    "        mean = raw_data[start:end].Settle.mean()\n",
    "        ax[1].axhline(y=mean, linewidth=1.2, color='g')\n",
    "        \n",
    "        ymin = raw_data.Open.iloc[start]-base*2\n",
    "        ymax = raw_data.Open.iloc[start]+base*2\n",
    "        ax[1].axhspan(ymin, ymax, alpha=0.3, color='y')\n",
    "        ax[1].axhline(y=raw_data.Open.iloc[start], linewidth=1.2, color='red')\n",
    "        ax[1].axvline(x=int(len(data)/2), linewidth=1, color='g')\n",
    "        plt.show()\n",
    "    \n",
    "        #추세 입력\n",
    "        time.sleep(0.1)\n",
    "        print('range: ',data.Settle.max() - data.Settle.min())\n",
    "        trend = input(\"하락(0), 기타(1), 상승(2): \")\n",
    "        if trend == 'q' or trend == 'n':\n",
    "            break\n",
    "        elif trend in ['0','1','2']:\n",
    "            size = X.shape[0]\n",
    "            X.resize(size+1, axis=0)\n",
    "            Y.resize(size+1, axis=0)\n",
    "            X[size] = data.values\n",
    "            Y[size] = int(trend)\n",
    "            \n",
    "        clear_output(wait=True)\n",
    "    if trend == 'q':\n",
    "            #file.close()\n",
    "            break\n",
    "    clear_output(wait=True)"
   ]
  },
  {
   "cell_type": "code",
   "execution_count": 10,
   "metadata": {
    "collapsed": true
   },
   "outputs": [],
   "source": [
    "file.close()"
   ]
  },
  {
   "cell_type": "code",
   "execution_count": 11,
   "metadata": {
    "collapsed": true
   },
   "outputs": [],
   "source": [
    "file = h5py.File(FILENAME, \"a\")\n",
    "X = file['X']\n",
    "Y = file['Y']"
   ]
  },
  {
   "cell_type": "code",
   "execution_count": 15,
   "metadata": {
    "collapsed": true
   },
   "outputs": [],
   "source": [
    "from collections import Counter"
   ]
  },
  {
   "cell_type": "code",
   "execution_count": 16,
   "metadata": {},
   "outputs": [
    {
     "data": {
      "text/plain": [
       "Counter({0: 70, 1: 314, 2: 119})"
      ]
     },
     "execution_count": 16,
     "metadata": {},
     "output_type": "execute_result"
    }
   ],
   "source": [
    "Counter(Y)"
   ]
  },
  {
   "cell_type": "code",
   "execution_count": null,
   "metadata": {
    "collapsed": true
   },
   "outputs": [],
   "source": []
  }
 ],
 "metadata": {
  "kernelspec": {
   "display_name": "Python 3",
   "language": "python",
   "name": "python3"
  },
  "language_info": {
   "codemirror_mode": {
    "name": "ipython",
    "version": 3
   },
   "file_extension": ".py",
   "mimetype": "text/x-python",
   "name": "python",
   "nbconvert_exporter": "python",
   "pygments_lexer": "ipython3",
   "version": "3.6.2"
  }
 },
 "nbformat": 4,
 "nbformat_minor": 2
}
