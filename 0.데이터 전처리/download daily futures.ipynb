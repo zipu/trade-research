{
 "cells": [
  {
   "cell_type": "code",
   "execution_count": 59,
   "metadata": {
    "collapsed": true
   },
   "outputs": [],
   "source": [
    "import h5py\n",
    "import quandl\n",
    "import pandas as pd\n",
    "from modules.tools import open_file"
   ]
  },
  {
   "cell_type": "code",
   "execution_count": 54,
   "metadata": {
    "collapsed": true
   },
   "outputs": [],
   "source": [
    "quandl.ApiConfig.api_key = \"UzB-e5CDdoACq4ENxbVS\"\n",
    "METAFILE = '../data/SCF-meta.csv'"
   ]
  },
  {
   "cell_type": "code",
   "execution_count": 55,
   "metadata": {},
   "outputs": [],
   "source": [
    "# quandl에서 backward panama adjusted continuous contracts 자료 받기\n",
    "df = pd.read_csv(METAFILE)\n",
    "df['iid'] = 'SCF/'+df.Exchange+'_'+df.Symbol+'1_OB' #roll on openinterest switch"
   ]
  },
  {
   "cell_type": "code",
   "execution_count": 56,
   "metadata": {
    "collapsed": true
   },
   "outputs": [],
   "source": [
    "data = quandl.get(df.iloc[0]['iid'])"
   ]
  },
  {
   "cell_type": "code",
   "execution_count": 69,
   "metadata": {},
   "outputs": [],
   "source": [
    "file = open_file('h5py', \"raw data/daily_futures.h5\", mode='w')\n",
    "file.attrs['columns'] = 'date;open;high;low;close;volume;op_int'"
   ]
  },
  {
   "cell_type": "code",
   "execution_count": 70,
   "metadata": {},
   "outputs": [
    {
     "name": "stdout",
     "output_type": "stream",
     "text": [
      "NYMEX WTI Crude Oil SCF/CME_CL1_OB\n",
      "CME Lean Hogs SCF/CME_LN1_OB\n",
      "CBOT Wheat SCF/CME_W1_OB\n",
      "CME Nikkei 225 SCF/CME_NK1_OB\n",
      "CBOT Soybeans SCF/CME_S1_OB\n",
      "CME S&P 500 Index E-Mini SCF/CME_ES1_OB\n",
      "CME S&P 400 Midcap Index SCF/CME_MD1_OB\n",
      "CME Australian Dollar AUD SCF/CME_AD1_OB\n",
      "CBOT Soybean Oil SCF/CME_BO1_OB\n",
      "ICE Brent Crude Oil SCF/ICE_B1_OB\n",
      "NYMEX Silver SCF/CME_SI1_OB\n",
      "NYMEX Gold SCF/CME_GC1_OB\n",
      "NYMEX Palladium SCF/CME_PA1_OB\n",
      "NYMEX Heating Oil SCF/CME_HO1_OB\n",
      "CME Swiss Franc CHF SCF/CME_SF1_OB\n",
      "NYMEX Platinum SCF/CME_PL1_OB\n",
      "CBOT Corn SCF/CME_C1_OB\n",
      "CBOT Soybean Meal SCF/CME_SM1_OB\n",
      "CBOT 5-year US Treasury Note SCF/CME_FV1_OB\n",
      "NYMEX Natural Gas SCF/CME_NG1_OB\n",
      "ICE Rotterdam Coal SCF/ICE_ATW1_OB\n",
      "ICE Russell 1000 Index Mini SCF/ICE_RF1_OB\n",
      "CBOT 10-year US Treasury Note SCF/CME_TY1_OB\n",
      "ICE Coffee C SCF/ICE_KC1_OB\n",
      "CME British Pound GBP SCF/CME_BP1_OB\n",
      "CME Japanese Yen JPY SCF/CME_JY1_OB\n",
      "CME Canadian Dollar CAD SCF/CME_CD1_OB\n",
      "ICE US Dollar Index SCF/ICE_DX1_OB\n",
      "CME Eurodollar SCF/CME_ED1_OB\n",
      "ICE UK Natural Gas SCF/ICE_M1_OB\n",
      "CME S&P 500 Index SCF/CME_SP1_OB\n",
      "ICE WTI Crude Oil SCF/ICE_T1_OB\n",
      "CME Euro FX SCF/CME_EC1_OB\n",
      "ICE Cotton SCF/ICE_CT1_OB\n",
      "ICE Gasoil SCF/ICE_G1_OB\n",
      "ICE Cocoa SCF/ICE_CC1_OB\n",
      "ICE Orange Juice SCF/ICE_OJ1_OB\n",
      "CME Live Cattle SCF/CME_LC1_OB\n",
      "NYMEX Gasoline SCF/CME_RB1_OB\n",
      "CME Kansas City Wheat SCF/CME_KW1_OB\n",
      "ICE Russell 2000 Index Mini SCF/ICE_TF1_OB\n",
      "SHFE Zinc SCF/SHFE_ZN1_OB\n",
      "ICE British Pound GBP SCF/ICE_MP1_OB\n",
      "CME New Zealand Dollar NZD SCF/CME_NE1_OB\n",
      "CME NASDAQ 100 Index Mini SCF/CME_NQ1_OB\n",
      "ICE Heating Oil SCF/ICE_O1_OB\n",
      "SHFE Aluminium SCF/SHFE_AL1_OB\n",
      "CBOE VIX Futures SCF/CBOE_VX1_OB\n",
      "EUREX Euro-Bobl SCF/EUREX_FGBM1_OB\n",
      "CBOT 30-year US Treasury Bond SCF/CME_US1_OB\n",
      "LIFFE EURIBOR SCF/LIFFE_I1_OB\n",
      "SHFE Lead SCF/SHFE_PB1_OB\n",
      "LIFFE London Cocoa SCF/LIFFE_C1_OB\n",
      "CBOT Oats SCF/CME_O1_OB\n",
      "CBOT Rough Rice SCF/CME_RR1_OB\n",
      "MX Montreal S&P/TSX 60 Index SCF/MX_SXF1_OB\n",
      "CME Random Length Lumber SCF/CME_LB1_OB\n",
      "CBOT 30-day Federal Funds SCF/CME_FF1_OB\n",
      "COMEX Copper SCF/CME_HG1_OB\n",
      "ICE Sugar No. 11 SCF/ICE_SB1_OB\n",
      "CBOT 2-year US Treasury Note SCF/CME_TU1_OB\n",
      "SHFE Rebar SCF/SHFE_RB1_OB\n",
      "MGEX Hard Red Spring Wheat SCF/MGEX_MW1_OB\n",
      "SHFE Natural Rubber SCF/SHFE_RU1_OB\n",
      "EUREX Euro-Bund SCF/EUREX_FGBL1_OB\n",
      "EUREX DAX SCF/EUREX_FDAX1_OB\n",
      "LIFFE Short Sterling SCF/LIFFE_L1_OB\n",
      "SHFE Copper SCF/SHFE_CU1_OB\n",
      "EUREX EURO STOXX 50 Index SCF/EUREX_FESX1_OB\n",
      "EUREX Euro-BTP SCF/EUREX_FBTP1_OB\n",
      "CME Mexican Peso SCF/CME_MP1_OB\n",
      "LIFFE FTSE 100 Index SCF/LIFFE_Z1_OB\n",
      "CME Class III Milk SCF/CME_DA1_OB\n",
      "CME E-mini Dow Jones SCF/CME_YM1_OB\n",
      "EUREX Euro-OAT SCF/EUREX_FOAT1_OB\n",
      "EUREX Euro-Schatz SCF/EUREX_FGBS1_OB\n",
      "LIFFE Long Gilt SCF/LIFFE_R1_OB\n"
     ]
    }
   ],
   "source": [
    "for idx, row in df.iterrows():\n",
    "    print(row['name'], row.iid)\n",
    "    data = quandl.get(row.iid)\n",
    "    data.insert(0, 'date', data.index.astype('int64')/1e9)\n",
    "    group = file.create_dataset(row['Exchange']+'_'+row['Symbol'], data.shape, data=data, dtype='float64')\n",
    "    group.attrs['symbol'] = row['Ebest Symbol']\n",
    "    group.attrs['exchange'] = row['Exchange']\n",
    "    group.attrs['name'] = row['name']\n",
    "    group.attrs['code'] = row.iid"
   ]
  },
  {
   "cell_type": "code",
   "execution_count": 71,
   "metadata": {},
   "outputs": [],
   "source": [
    "file.close()"
   ]
  },
  {
   "cell_type": "code",
   "execution_count": 73,
   "metadata": {},
   "outputs": [],
   "source": [
    "file = open_file('h5py',\"raw data/daily_futures.h5\")"
   ]
  },
  {
   "cell_type": "code",
   "execution_count": 74,
   "metadata": {
    "collapsed": true
   },
   "outputs": [],
   "source": [
    "data = file['SHFE_AL'].value"
   ]
  },
  {
   "cell_type": "code",
   "execution_count": 75,
   "metadata": {
    "collapsed": true
   },
   "outputs": [],
   "source": [
    "df2 = pd.DataFrame(data)"
   ]
  },
  {
   "cell_type": "code",
   "execution_count": 78,
   "metadata": {},
   "outputs": [
    {
     "data": {
      "text/plain": [
       "'date;open;high;low;close;volume;op_int'"
      ]
     },
     "execution_count": 78,
     "metadata": {},
     "output_type": "execute_result"
    }
   ],
   "source": [
    "file.attrs['columns']"
   ]
  },
  {
   "cell_type": "code",
   "execution_count": 76,
   "metadata": {},
   "outputs": [
    {
     "data": {
      "text/plain": [
       "0      2005-01-04\n",
       "1      2005-01-05\n",
       "2      2005-01-06\n",
       "3      2005-01-07\n",
       "4      2005-01-10\n",
       "5      2005-01-11\n",
       "6      2005-01-12\n",
       "7      2005-01-13\n",
       "8      2005-01-14\n",
       "9      2005-01-17\n",
       "10     2005-01-18\n",
       "11     2005-01-19\n",
       "12     2005-01-20\n",
       "13     2005-01-21\n",
       "14     2005-01-24\n",
       "15     2005-01-25\n",
       "16     2005-01-26\n",
       "17     2005-01-27\n",
       "18     2005-01-28\n",
       "19     2005-01-31\n",
       "20     2005-02-01\n",
       "21     2005-02-02\n",
       "22     2005-02-03\n",
       "23     2005-02-04\n",
       "24     2005-02-16\n",
       "25     2005-02-17\n",
       "26     2005-02-18\n",
       "27     2005-02-21\n",
       "28     2005-02-22\n",
       "29     2005-02-23\n",
       "          ...    \n",
       "2429   2014-11-20\n",
       "2430   2014-11-21\n",
       "2431   2014-11-24\n",
       "2432   2014-11-25\n",
       "2433   2014-11-26\n",
       "2434   2014-11-27\n",
       "2435   2014-11-28\n",
       "2436   2014-12-01\n",
       "2437   2014-12-02\n",
       "2438   2014-12-03\n",
       "2439   2014-12-04\n",
       "2440   2014-12-05\n",
       "2441   2014-12-08\n",
       "2442   2014-12-09\n",
       "2443   2014-12-10\n",
       "2444   2014-12-11\n",
       "2445   2014-12-12\n",
       "2446   2014-12-15\n",
       "2447   2014-12-16\n",
       "2448   2014-12-17\n",
       "2449   2014-12-18\n",
       "2450   2014-12-19\n",
       "2451   2014-12-22\n",
       "2452   2014-12-23\n",
       "2453   2014-12-24\n",
       "2454   2014-12-25\n",
       "2455   2014-12-26\n",
       "2456   2014-12-29\n",
       "2457   2014-12-30\n",
       "2458   2014-12-31\n",
       "Name: 0, Length: 2459, dtype: datetime64[ns]"
      ]
     },
     "execution_count": 76,
     "metadata": {},
     "output_type": "execute_result"
    }
   ],
   "source": [
    "df2[0].astype('M8[s]')"
   ]
  },
  {
   "cell_type": "code",
   "execution_count": null,
   "metadata": {
    "collapsed": true
   },
   "outputs": [],
   "source": []
  }
 ],
 "metadata": {
  "kernelspec": {
   "display_name": "Python 3",
   "language": "python",
   "name": "python3"
  },
  "language_info": {
   "codemirror_mode": {
    "name": "ipython",
    "version": 3
   },
   "file_extension": ".py",
   "mimetype": "text/x-python",
   "name": "python",
   "nbconvert_exporter": "python",
   "pygments_lexer": "ipython3",
   "version": "3.6.2"
  }
 },
 "nbformat": 4,
 "nbformat_minor": 2
}
