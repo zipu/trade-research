{
 "cells": [
  {
   "cell_type": "code",
   "execution_count": 1,
   "metadata": {
    "collapsed": true
   },
   "outputs": [],
   "source": [
    "import sys\n",
    "sys.path.append('..')"
   ]
  },
  {
   "cell_type": "code",
   "execution_count": 2,
   "metadata": {},
   "outputs": [
    {
     "ename": "ModuleNotFoundError",
     "evalue": "No module named 'Crypto'",
     "output_type": "error",
     "traceback": [
      "\u001b[1;31m---------------------------------------------------------------------------\u001b[0m",
      "\u001b[1;31mModuleNotFoundError\u001b[0m                       Traceback (most recent call last)",
      "\u001b[1;32m<ipython-input-2-d6e5b7b7f76f>\u001b[0m in \u001b[0;36m<module>\u001b[1;34m()\u001b[0m\n\u001b[0;32m     10\u001b[0m \u001b[1;32mfrom\u001b[0m \u001b[0mscipy\u001b[0m \u001b[1;32mimport\u001b[0m \u001b[0mstats\u001b[0m\u001b[1;33m\u001b[0m\u001b[0m\n\u001b[0;32m     11\u001b[0m \u001b[1;32mimport\u001b[0m \u001b[0mtime\u001b[0m\u001b[1;33m\u001b[0m\u001b[0m\n\u001b[1;32m---> 12\u001b[1;33m \u001b[1;32mfrom\u001b[0m \u001b[0mmodules\u001b[0m\u001b[1;33m.\u001b[0m\u001b[0mfactory\u001b[0m \u001b[1;32mimport\u001b[0m \u001b[0mohlc_chart\u001b[0m\u001b[1;33m\u001b[0m\u001b[0m\n\u001b[0m",
      "\u001b[1;32m~\\Documents\\projects\\research\\modules\\factory.py\u001b[0m in \u001b[0;36m<module>\u001b[1;34m()\u001b[0m\n\u001b[0;32m      1\u001b[0m \u001b[1;32mimport\u001b[0m \u001b[0mbase64\u001b[0m\u001b[1;33m\u001b[0m\u001b[0m\n\u001b[1;32m----> 2\u001b[1;33m \u001b[1;32mfrom\u001b[0m \u001b[0mCrypto\u001b[0m\u001b[1;33m.\u001b[0m\u001b[0mCipher\u001b[0m \u001b[1;32mimport\u001b[0m \u001b[0mXOR\u001b[0m\u001b[1;33m\u001b[0m\u001b[0m\n\u001b[0m\u001b[0;32m      3\u001b[0m \u001b[1;32mfrom\u001b[0m \u001b[0mmatplotlib\u001b[0m\u001b[1;33m.\u001b[0m\u001b[0mlines\u001b[0m \u001b[1;32mimport\u001b[0m \u001b[0mLine2D\u001b[0m\u001b[1;33m\u001b[0m\u001b[0m\n\u001b[0;32m      4\u001b[0m \u001b[1;33m\u001b[0m\u001b[0m\n\u001b[0;32m      5\u001b[0m \"\"\"\n",
      "\u001b[1;31mModuleNotFoundError\u001b[0m: No module named 'Crypto'"
     ]
    }
   ],
   "source": [
    "%matplotlib inline\n",
    "import matplotlib.pyplot as plt\n",
    "import numpy as np\n",
    "import sqlite3 as lite\n",
    "import pandas as pd\n",
    "import tables as tb\n",
    "from IPython.display import clear_output\n",
    "import csv\n",
    "import quandl\n",
    "from scipy import stats\n",
    "import time\n",
    "from modules.factory import ohlc_chart "
   ]
  },
  {
   "cell_type": "code",
   "execution_count": 3,
   "metadata": {
    "collapsed": true
   },
   "outputs": [],
   "source": [
    "np.random.seed(777)\n",
    "METAFILE = '../data/SCF-meta.csv'\n",
    "quandl.ApiConfig.api_key = \"UzB-e5CDdoACq4ENxbVS\""
   ]
  },
  {
   "cell_type": "code",
   "execution_count": 4,
   "metadata": {
    "collapsed": true
   },
   "outputs": [],
   "source": [
    "# quandl에서 backward panama adjusted continuous contracts 자료 받기\n",
    "df = pd.read_csv(METAFILE)\n",
    "df['iid'] = 'SCF/'+df.Exchange+'_'+df.Symbol+'1_OB'\n",
    "meta = df[['iid','name']]"
   ]
  },
  {
   "cell_type": "code",
   "execution_count": 5,
   "metadata": {},
   "outputs": [
    {
     "data": {
      "text/html": [
       "<div>\n",
       "<style>\n",
       "    .dataframe thead tr:only-child th {\n",
       "        text-align: right;\n",
       "    }\n",
       "\n",
       "    .dataframe thead th {\n",
       "        text-align: left;\n",
       "    }\n",
       "\n",
       "    .dataframe tbody tr th {\n",
       "        vertical-align: top;\n",
       "    }\n",
       "</style>\n",
       "<table border=\"1\" class=\"dataframe\">\n",
       "  <thead>\n",
       "    <tr style=\"text-align: right;\">\n",
       "      <th></th>\n",
       "      <th>iid</th>\n",
       "      <th>name</th>\n",
       "    </tr>\n",
       "  </thead>\n",
       "  <tbody>\n",
       "    <tr>\n",
       "      <th>0</th>\n",
       "      <td>SCF/CME_CL1_OB</td>\n",
       "      <td>NYMEX WTI Crude Oil</td>\n",
       "    </tr>\n",
       "    <tr>\n",
       "      <th>1</th>\n",
       "      <td>SCF/CME_LN1_OB</td>\n",
       "      <td>CME Lean Hogs</td>\n",
       "    </tr>\n",
       "    <tr>\n",
       "      <th>2</th>\n",
       "      <td>SCF/CME_W1_OB</td>\n",
       "      <td>CBOT Wheat</td>\n",
       "    </tr>\n",
       "    <tr>\n",
       "      <th>3</th>\n",
       "      <td>SCF/CME_NK1_OB</td>\n",
       "      <td>CME Nikkei 225</td>\n",
       "    </tr>\n",
       "    <tr>\n",
       "      <th>4</th>\n",
       "      <td>SCF/CME_S1_OB</td>\n",
       "      <td>CBOT Soybeans</td>\n",
       "    </tr>\n",
       "  </tbody>\n",
       "</table>\n",
       "</div>"
      ],
      "text/plain": [
       "              iid                 name\n",
       "0  SCF/CME_CL1_OB  NYMEX WTI Crude Oil\n",
       "1  SCF/CME_LN1_OB        CME Lean Hogs\n",
       "2   SCF/CME_W1_OB           CBOT Wheat\n",
       "3  SCF/CME_NK1_OB       CME Nikkei 225\n",
       "4   SCF/CME_S1_OB        CBOT Soybeans"
      ]
     },
     "execution_count": 5,
     "metadata": {},
     "output_type": "execute_result"
    }
   ],
   "source": [
    "meta.head()"
   ]
  },
  {
   "cell_type": "code",
   "execution_count": 6,
   "metadata": {
    "collapsed": true
   },
   "outputs": [],
   "source": [
    "WINDOW = 60\n",
    "stdtype = 'localstd' \n",
    "FILENAME = f'../data/trend-{WINDOW}day-{stdtype}.csv'"
   ]
  },
  {
   "cell_type": "code",
   "execution_count": null,
   "metadata": {
    "scrolled": false
   },
   "outputs": [
    {
     "name": "stdout",
     "output_type": "stream",
     "text": [
      "EUREX Euro-Bund\n"
     ]
    }
   ],
   "source": [
    "while True:\n",
    "    idx = np.random.randint(0, len(meta))\n",
    "    code = meta.iloc[idx].iid\n",
    "    name = meta.iloc[idx]['name']\n",
    "\n",
    "    raw_data = quandl.get(code)\n",
    "    raw_data.drop(['Volume', 'Prev. Day Open Interest'], axis=1, inplace=True)\n",
    "    #std = raw_data.Settle.std()\n",
    "    length = len(raw_data)\n",
    "    \n",
    "    for i in range(10):\n",
    "        print(name)\n",
    "        #시작일자 랜덤 설정\n",
    "        start = np.random.randint(0, length -  WINDOW)\n",
    "        end = start + WINDOW\n",
    "        \n",
    "        if start-240 < 0:\n",
    "            start0 = 0\n",
    "            end0 = 540\n",
    "        elif end+240 > len(raw_data):\n",
    "            end0 = len(raw_data)\n",
    "            start0 = end0-540\n",
    "        else:\n",
    "            start0 = start-240\n",
    "            end0 = end+240\n",
    "            \n",
    "        #Data Normalization\n",
    "        std = raw_data.Settle.values[start0:end0].std()\n",
    "        data = raw_data[start:end]\n",
    "        data = (data-data.iloc[0].Open)/std\n",
    "        \n",
    "        #data.insert(0, 'index', np.arange(len(data)))\n",
    "        \n",
    "        #그래프 \n",
    "        fig, (ax) = plt.subplots(2,1, gridspec_kw = {'height_ratios':[1, 1]}, figsize=(8,12))\n",
    "        fig.autofmt_xdate()\n",
    "            \n",
    "        ax[0].plot(raw_data.index.values[start0:end0], raw_data.Settle.values[start0:end0])\n",
    "        ax[0].axvspan(raw_data.index.values[start], raw_data.index.values[end], facecolor='y', alpha=0.3)\n",
    "        \n",
    "        ohlc_data = np.concatenate((np.arange(len(data)).reshape(-1, 1), data.values), axis=1)\n",
    "        ohlc_chart(ax[1], ohlc_data, linewidth=1.44)\n",
    "        mean = data.values.mean()\n",
    "        print('mean: %.2f'%mean)\n",
    "        ax[1].axhline(y=mean, linewidth=1.2, color='g')\n",
    "        ax[1].axhspan(-0.2, 0.2, color='b', alpha=0.2)\n",
    "        ax[1].axvline(x=int(len(data)/3), linewidth=1, color='g')\n",
    "        ax[1].axvline(x=int(len(data)*2/3), linewidth=1, color='g')\n",
    "        #if (data.values.max() - data.values.min()) < 0.6:\n",
    "        #    ax[1].set_ylim([mean-0.3, mean+0.3])\n",
    "        plt.show()\n",
    "        \n",
    "        #추세 입력\n",
    "        time.sleep(0.1)\n",
    "        trend = input(\"하락(0), 기타(1), 상승(2): \")\n",
    "        if trend == 'q' or trend == 'n':\n",
    "            break\n",
    "        elif trend in ['0','1','2']:\n",
    "            seq = np.array([[int(trend)], [int(trend)], [int(trend)], [int(trend)]])\n",
    "            #data.drop('index', axis=1, inplace=True)\n",
    "            row = np.hstack((data.values.T, seq))\n",
    "            \n",
    "            with open(FILENAME, 'ab') as file:\n",
    "                np.savetxt(file, row, fmt='%.7f', delimiter=',')\n",
    "        \n",
    "        clear_output(wait=True)\n",
    "    if trend == 'q':\n",
    "            break\n",
    "    clear_output(wait=True)"
   ]
  },
  {
   "cell_type": "markdown",
   "metadata": {},
   "source": [
    "#### 1. 2번 구간에서 추세가 분명하게 진행되어야함\n",
    "#### 2. 상승추세는 전체기간 지속되어야 하고, 하락추세는 2/3 지점 까지 지속되어야함"
   ]
  },
  {
   "cell_type": "code",
   "execution_count": 60,
   "metadata": {},
   "outputs": [
    {
     "data": {
      "text/plain": [
       "238"
      ]
     },
     "execution_count": 60,
     "metadata": {},
     "output_type": "execute_result"
    }
   ],
   "source": [
    "start"
   ]
  },
  {
   "cell_type": "code",
   "execution_count": 71,
   "metadata": {},
   "outputs": [
    {
     "data": {
      "text/plain": [
       "array([[ 0.       , -0.088648 , -0.098146 , ..., -0.9814602, -0.9687962,\n",
       "         0.       ],\n",
       "       [ 0.012664 , -0.075984 , -0.060154 , ..., -0.9656302, -0.9339702,\n",
       "         0.       ],\n",
       "       [-0.044324 , -0.123474 , -0.101312 , ..., -0.9972902, -0.9846262,\n",
       "         0.       ],\n",
       "       ..., \n",
       "       [ 0.1216417,  0.1042643,  0.1013681, ...,  0.1824626,  0.1187455,\n",
       "         1.       ],\n",
       "       [-0.0666133, -0.0318586, -0.0897832, ..., -0.0521322,  0.0086887,\n",
       "         1.       ],\n",
       "       [ 0.0231699,  0.0289623,  0.0695096, ...,  0.0550284,  0.0550284,\n",
       "         1.       ]])"
      ]
     },
     "execution_count": 71,
     "metadata": {},
     "output_type": "execute_result"
    }
   ],
   "source": [
    "np.genfromtxt(FILENAME, delimiter=',')"
   ]
  },
  {
   "cell_type": "code",
   "execution_count": null,
   "metadata": {
    "collapsed": true
   },
   "outputs": [],
   "source": []
  }
 ],
 "metadata": {
  "kernelspec": {
   "display_name": "Python 3",
   "language": "python",
   "name": "python3"
  },
  "language_info": {
   "codemirror_mode": {
    "name": "ipython",
    "version": 3
   },
   "file_extension": ".py",
   "mimetype": "text/x-python",
   "name": "python",
   "nbconvert_exporter": "python",
   "pygments_lexer": "ipython3",
   "version": "3.6.1"
  }
 },
 "nbformat": 4,
 "nbformat_minor": 2
}
