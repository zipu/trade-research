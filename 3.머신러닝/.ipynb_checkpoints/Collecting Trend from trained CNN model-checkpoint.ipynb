{
 "cells": [
  {
   "cell_type": "code",
   "execution_count": 1,
   "metadata": {},
   "outputs": [
    {
     "name": "stderr",
     "output_type": "stream",
     "text": [
      "Using TensorFlow backend.\n"
     ]
    }
   ],
   "source": [
    "%matplotlib inline\n",
    "import sys\n",
    "sys.path.append('..')\n",
    "import matplotlib.pyplot as plt\n",
    "import numpy as np\n",
    "import pandas as pd\n",
    "import csv\n",
    "from keras.models import load_model\n",
    "import glob\n",
    "import h5py"
   ]
  },
  {
   "cell_type": "code",
   "execution_count": 64,
   "metadata": {
    "collapsed": true
   },
   "outputs": [],
   "source": [
    "FILES = glob.glob('../data/daily futures/*.csv')"
   ]
  },
  {
   "cell_type": "code",
   "execution_count": 2,
   "metadata": {
    "collapsed": true
   },
   "outputs": [],
   "source": [
    "FILEPATH = '../data/training set/daily-future-20day-trend'"
   ]
  },
  {
   "cell_type": "code",
   "execution_count": 4,
   "metadata": {},
   "outputs": [],
   "source": [
    "model_file = '../data/keras models/20day-trend.h5'\n",
    "model = load_model(model_file)"
   ]
  },
  {
   "cell_type": "code",
   "execution_count": 7,
   "metadata": {},
   "outputs": [],
   "source": [
    "s = [i for i in range(10)]"
   ]
  },
  {
   "cell_type": "code",
   "execution_count": null,
   "metadata": {
    "collapsed": true
   },
   "outputs": [],
   "source": []
  },
  {
   "cell_type": "code",
   "execution_count": 80,
   "metadata": {
    "scrolled": true
   },
   "outputs": [
    {
     "name": "stdout",
     "output_type": "stream",
     "text": [
      "processing ../data/daily futures\\CBOE VIX Futures.csv...(0/77)\n",
      "processing ../data/daily futures\\CBOT 10-year US Treasury Note.csv...(1/77)\n",
      "processing ../data/daily futures\\CBOT 2-year US Treasury Note.csv...(2/77)\n",
      "processing ../data/daily futures\\CBOT 30-day Federal Funds.csv...(3/77)\n",
      "processing ../data/daily futures\\CBOT 30-year US Treasury Bond.csv...(4/77)\n",
      "processing ../data/daily futures\\CBOT 5-year US Treasury Note.csv...(5/77)\n",
      "processing ../data/daily futures\\CBOT Corn.csv...(6/77)\n",
      "processing ../data/daily futures\\CBOT Oats.csv...(7/77)\n",
      "processing ../data/daily futures\\CBOT Rough Rice.csv...(8/77)\n",
      "processing ../data/daily futures\\CBOT Soybean Meal.csv...(9/77)\n",
      "processing ../data/daily futures\\CBOT Soybean Oil.csv...(10/77)\n",
      "processing ../data/daily futures\\CBOT Soybeans.csv...(11/77)\n",
      "processing ../data/daily futures\\CBOT Wheat.csv...(12/77)\n",
      "processing ../data/daily futures\\CME Australian Dollar AUD.csv...(13/77)\n",
      "processing ../data/daily futures\\CME British Pound GBP.csv...(14/77)\n",
      "processing ../data/daily futures\\CME Canadian Dollar CAD.csv...(15/77)\n",
      "processing ../data/daily futures\\CME Class III Milk.csv...(16/77)\n",
      "processing ../data/daily futures\\CME E-mini Dow Jones.csv...(17/77)\n",
      "processing ../data/daily futures\\CME Euro FX.csv...(18/77)\n",
      "processing ../data/daily futures\\CME Eurodollar.csv...(19/77)\n",
      "processing ../data/daily futures\\CME Japanese Yen JPY.csv...(20/77)\n",
      "processing ../data/daily futures\\CME Kansas City Wheat.csv...(21/77)\n",
      "processing ../data/daily futures\\CME Lean Hogs.csv...(22/77)\n",
      "processing ../data/daily futures\\CME Live Cattle.csv...(23/77)\n",
      "processing ../data/daily futures\\CME Mexican Peso.csv...(24/77)\n",
      "processing ../data/daily futures\\CME NASDAQ 100 Index Mini.csv...(25/77)\n",
      "processing ../data/daily futures\\CME New Zealand Dollar NZD.csv...(26/77)\n",
      "processing ../data/daily futures\\CME Nikkei 225.csv...(27/77)\n",
      "processing ../data/daily futures\\CME Random Length Lumber.csv...(28/77)\n",
      "processing ../data/daily futures\\CME S&P 400 Midcap Index.csv...(29/77)\n",
      "processing ../data/daily futures\\CME S&P 500 Index E-Mini.csv...(30/77)\n",
      "processing ../data/daily futures\\CME S&P 500 Index.csv...(31/77)\n",
      "processing ../data/daily futures\\CME Swiss Franc CHF.csv...(32/77)\n",
      "processing ../data/daily futures\\COMEX Copper.csv...(33/77)\n",
      "processing ../data/daily futures\\EUREX DAX.csv...(34/77)\n",
      "processing ../data/daily futures\\EUREX EURO STOXX 50 Index.csv...(35/77)\n",
      "processing ../data/daily futures\\EUREX Euro-Bobl.csv...(36/77)\n",
      "processing ../data/daily futures\\EUREX Euro-BTP.csv...(37/77)\n",
      "processing ../data/daily futures\\EUREX Euro-Bund.csv...(38/77)\n",
      "processing ../data/daily futures\\EUREX Euro-OAT.csv...(39/77)\n",
      "processing ../data/daily futures\\EUREX Euro-Schatz.csv...(40/77)\n",
      "processing ../data/daily futures\\ICE Brent Crude Oil.csv...(41/77)\n",
      "processing ../data/daily futures\\ICE British Pound GBP.csv...(42/77)\n",
      "processing ../data/daily futures\\ICE Cocoa.csv...(43/77)\n",
      "processing ../data/daily futures\\ICE Coffee C.csv...(44/77)\n",
      "processing ../data/daily futures\\ICE Cotton.csv...(45/77)\n",
      "processing ../data/daily futures\\ICE Gasoil.csv...(46/77)\n",
      "processing ../data/daily futures\\ICE Heating Oil.csv...(47/77)\n",
      "processing ../data/daily futures\\ICE Orange Juice.csv...(48/77)\n",
      "processing ../data/daily futures\\ICE Rotterdam Coal.csv...(49/77)\n",
      "processing ../data/daily futures\\ICE Russell 1000 Index Mini.csv...(50/77)\n",
      "processing ../data/daily futures\\ICE Russell 2000 Index Mini.csv...(51/77)\n",
      "processing ../data/daily futures\\ICE Sugar No. 11.csv...(52/77)\n",
      "processing ../data/daily futures\\ICE UK Natural Gas.csv...(53/77)\n",
      "processing ../data/daily futures\\ICE US Dollar Index.csv...(54/77)\n",
      "processing ../data/daily futures\\ICE WTI Crude Oil.csv...(55/77)\n",
      "processing ../data/daily futures\\LIFFE EURIBOR.csv...(56/77)\n",
      "processing ../data/daily futures\\LIFFE FTSE 100 Index.csv...(57/77)\n",
      "processing ../data/daily futures\\LIFFE London Cocoa.csv...(58/77)\n",
      "processing ../data/daily futures\\LIFFE Long Gilt.csv...(59/77)\n",
      "processing ../data/daily futures\\LIFFE Short Sterling.csv...(60/77)\n",
      "processing ../data/daily futures\\MGEX Hard Red Spring Wheat.csv...(61/77)\n",
      "processing ../data/daily futures\\MX Montreal S&P-TSX 60 Index.csv...(62/77)\n",
      "processing ../data/daily futures\\NYMEX Gasoline.csv...(63/77)\n",
      "processing ../data/daily futures\\NYMEX Gold.csv...(64/77)\n",
      "processing ../data/daily futures\\NYMEX Heating Oil.csv...(65/77)\n",
      "processing ../data/daily futures\\NYMEX Natural Gas.csv...(66/77)\n",
      "processing ../data/daily futures\\NYMEX Palladium.csv...(67/77)\n",
      "processing ../data/daily futures\\NYMEX Platinum.csv...(68/77)\n",
      "processing ../data/daily futures\\NYMEX Silver.csv...(69/77)\n",
      "processing ../data/daily futures\\NYMEX WTI Crude Oil.csv...(70/77)\n",
      "processing ../data/daily futures\\SHFE Aluminium.csv...(71/77)\n",
      "processing ../data/daily futures\\SHFE Copper.csv...(72/77)\n",
      "processing ../data/daily futures\\SHFE Lead.csv...(73/77)\n",
      "processing ../data/daily futures\\SHFE Natural Rubber.csv...(74/77)\n",
      "processing ../data/daily futures\\SHFE Rebar.csv...(75/77)\n",
      "processing ../data/daily futures\\SHFE Zinc.csv...(76/77)\n"
     ]
    }
   ],
   "source": [
    "period = 20\n",
    "for idx, file in enumerate(FILES):\n",
    "    name = file\n",
    "    print(\"processing %s...(%s/%s)\"%(name, idx, len(FILES)))\n",
    "    raw_data = pd.read_csv(file)[['Open','High','Low','Settle']]\n",
    "    tidx=[np.nan for i in range(period)]\n",
    "    \n",
    "    for i in range(period, len(raw_data)):\n",
    "        data = raw_data[i-period:i]\n",
    "        data = (data - data.iloc[0])/std\n",
    "        #rnn_data = data[:seq_length]\n",
    "        \n",
    "        trend_data = data.values.T\n",
    "        trend_data = np.stack((trend_data[0::4, :], trend_data[1::4, :],\\\n",
    "                               trend_data[2::4, :], trend_data[3::4, :]), axis=-1)\n",
    "        pred = model.predict(trend_data)\n",
    "        \n",
    "        trend_index = np.argmax(pred[0])\n",
    "        raw_data.trend_index.iloc[i] = trend_index\n",
    "    \n",
    "    raw_data.to_csv(FILEPATH+name[22:])\n",
    "    "
   ]
  },
  {
   "cell_type": "code",
   "execution_count": 77,
   "metadata": {},
   "outputs": [
    {
     "data": {
      "text/plain": [
       "'CBOE VIX Futures.csv'"
      ]
     },
     "execution_count": 77,
     "metadata": {},
     "output_type": "execute_result"
    }
   ],
   "source": [
    "name[22:]"
   ]
  },
  {
   "cell_type": "code",
   "execution_count": 16,
   "metadata": {},
   "outputs": [
    {
     "data": {
      "text/plain": [
       "2277"
      ]
     },
     "execution_count": 16,
     "metadata": {},
     "output_type": "execute_result"
    }
   ],
   "source": [
    "len(trends)"
   ]
  },
  {
   "cell_type": "code",
   "execution_count": 19,
   "metadata": {
    "collapsed": true
   },
   "outputs": [],
   "source": [
    "raw_data['trend_index'] = np.nan"
   ]
  },
  {
   "cell_type": "code",
   "execution_count": 22,
   "metadata": {},
   "outputs": [
    {
     "data": {
      "text/plain": [
       "array([[ 145.56,  144.64,  146.36,  145.85,  147.96,  147.77,  147.64,\n",
       "         148.22,  148.73,  150.39],\n",
       "       [ 145.56,  146.59,  146.46,  148.21,  148.56,  149.74,  148.64,\n",
       "         148.94,  150.79,  150.99],\n",
       "       [ 143.71,  144.31,  145.06,  145.26,  147.21,  147.54,  147.42,\n",
       "         147.44,  148.73,  150.04],\n",
       "       [ 144.58,  146.37,  145.85,  148.02,  147.89,  147.81,  148.15,\n",
       "         148.8 ,  150.43,  150.77],\n",
       "       [    nan,     nan,     nan,     nan,     nan,     nan,     nan,\n",
       "            nan,     nan,     nan]])"
      ]
     },
     "execution_count": 22,
     "metadata": {},
     "output_type": "execute_result"
    }
   ],
   "source": [
    "raw_data[:10].values.T"
   ]
  }
 ],
 "metadata": {
  "kernelspec": {
   "display_name": "Python 3",
   "language": "python",
   "name": "python3"
  },
  "language_info": {
   "codemirror_mode": {
    "name": "ipython",
    "version": 3
   },
   "file_extension": ".py",
   "mimetype": "text/x-python",
   "name": "python",
   "nbconvert_exporter": "python",
   "pygments_lexer": "ipython3",
   "version": "3.6.2"
  }
 },
 "nbformat": 4,
 "nbformat_minor": 2
}
