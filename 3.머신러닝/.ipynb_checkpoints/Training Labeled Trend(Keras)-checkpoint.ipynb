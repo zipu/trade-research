{
 "cells": [
  {
   "cell_type": "code",
   "execution_count": 2,
   "metadata": {},
   "outputs": [],
   "source": [
    "%matplotlib inline\n",
    "import sys\n",
    "sys.path.append('..')\n",
    "import matplotlib.pyplot as plt\n",
    "import numpy as np\n",
    "import pandas as pd \n",
    "import h5py\n",
    "\n",
    "import keras\n",
    "from keras.models import Sequential\n",
    "from keras.layers import Dense, Dropout, Flatten\n",
    "from keras.layers import Conv1D, AveragePooling1D\n",
    "from keras import backend as K"
   ]
  },
  {
   "cell_type": "markdown",
   "metadata": {},
   "source": [
    "### 0. parameters"
   ]
  },
  {
   "cell_type": "code",
   "execution_count": 3,
   "metadata": {
    "collapsed": true
   },
   "outputs": [],
   "source": [
    "num_classes = 3\n",
    "epochs = 50\n",
    "batch_size=10"
   ]
  },
  {
   "cell_type": "markdown",
   "metadata": {},
   "source": [
    "### 1. Data loading and reconstruction"
   ]
  },
  {
   "cell_type": "code",
   "execution_count": 5,
   "metadata": {},
   "outputs": [],
   "source": [
    "training_file = '../data/training set/trend-20day-abs_diff.hdf5'\n",
    "file = h5py.File(training_file, 'r')"
   ]
  },
  {
   "cell_type": "code",
   "execution_count": 7,
   "metadata": {},
   "outputs": [],
   "source": [
    "X, Y = file['X'], file['Y']"
   ]
  },
  {
   "cell_type": "code",
   "execution_count": 6,
   "metadata": {},
   "outputs": [
    {
     "name": "stdout",
     "output_type": "stream",
     "text": [
      "x_train shape: (619, 60, 4)\n",
      "619 train samples\n",
      "266 test samples\n"
     ]
    }
   ],
   "source": [
    "# data reconstruction\n",
    "X = np.stack( (xy[0::4, :-1], xy[1::4, :-1], xy[2::4, :-1], xy[3::4, :-1]), axis=-1)\n",
    "# y 데이터 구조 변경: 0~2 --> [1,0,0], [0,1,0], [0,0,1]\n",
    "Y = xy[::4, -1].astype(np.int16)\n",
    "\n",
    "#convert class vectors to one-hot\n",
    "Y = keras.utils.to_categorical(Y, num_classes)\n",
    "\n",
    "#train data\n",
    "length = int(len(X)*0.7)\n",
    "x_train, x_test = X[:length], X[length:]\n",
    "y_train, y_test = Y[:length], Y[length:]\n",
    "\n",
    "#verification\n",
    "print('x_train shape:', x_train.shape)\n",
    "print(x_train.shape[0], 'train samples')\n",
    "print(x_test.shape[0], 'test samples')"
   ]
  },
  {
   "cell_type": "markdown",
   "metadata": {},
   "source": [
    "### 2. Construct Model"
   ]
  },
  {
   "cell_type": "code",
   "execution_count": 7,
   "metadata": {
    "collapsed": true
   },
   "outputs": [],
   "source": [
    "input_shape = x_train.shape[1:]"
   ]
  },
  {
   "cell_type": "code",
   "execution_count": 8,
   "metadata": {
    "collapsed": true
   },
   "outputs": [],
   "source": [
    "model = Sequential()\n",
    "model.add(Conv1D(32, 5, input_shape=input_shape, activation='relu'))\n",
    "model.add(Conv1D(64, 5, activation='relu'))\n",
    "model.add(AveragePooling1D(pool_size=2))\n",
    "model.add(Dropout(0.25))\n",
    "model.add(Flatten())\n",
    "model.add(Dense(128, activation='relu'))\n",
    "model.add(Dropout(0.5))\n",
    "model.add(Dense(num_classes, activation='softmax'))"
   ]
  },
  {
   "cell_type": "code",
   "execution_count": 9,
   "metadata": {
    "collapsed": true
   },
   "outputs": [],
   "source": [
    "model.compile(loss='categorical_crossentropy',\n",
    "              optimizer='adam',\n",
    "              metrics=['accuracy'])"
   ]
  },
  {
   "cell_type": "markdown",
   "metadata": {},
   "source": [
    "### 3. Train"
   ]
  },
  {
   "cell_type": "code",
   "execution_count": 11,
   "metadata": {
    "scrolled": true
   },
   "outputs": [
    {
     "name": "stdout",
     "output_type": "stream",
     "text": [
      "Epoch 1/50\n",
      "619/619 [==============================] - 0s - loss: 0.1737 - acc: 0.9273     \n",
      "Epoch 2/50\n",
      "619/619 [==============================] - 0s - loss: 0.1812 - acc: 0.9305     \n",
      "Epoch 3/50\n",
      "619/619 [==============================] - 0s - loss: 0.1459 - acc: 0.9467     \n",
      "Epoch 4/50\n",
      "619/619 [==============================] - 0s - loss: 0.1288 - acc: 0.9532     \n",
      "Epoch 5/50\n",
      "619/619 [==============================] - 0s - loss: 0.1366 - acc: 0.9467     \n",
      "Epoch 6/50\n",
      "619/619 [==============================] - 0s - loss: 0.1611 - acc: 0.9225     \n",
      "Epoch 7/50\n",
      "619/619 [==============================] - 0s - loss: 0.1608 - acc: 0.9386     \n",
      "Epoch 8/50\n",
      "619/619 [==============================] - 0s - loss: 0.1573 - acc: 0.9289     \n",
      "Epoch 9/50\n",
      "619/619 [==============================] - 0s - loss: 0.1246 - acc: 0.9564     \n",
      "Epoch 10/50\n",
      "619/619 [==============================] - 0s - loss: 0.1292 - acc: 0.9435     \n",
      "Epoch 11/50\n",
      "619/619 [==============================] - 0s - loss: 0.0998 - acc: 0.9661     \n",
      "Epoch 12/50\n",
      "619/619 [==============================] - 0s - loss: 0.1000 - acc: 0.9596     \n",
      "Epoch 13/50\n",
      "619/619 [==============================] - 0s - loss: 0.0930 - acc: 0.9628     \n",
      "Epoch 14/50\n",
      "619/619 [==============================] - 0s - loss: 0.0837 - acc: 0.9709     \n",
      "Epoch 15/50\n",
      "619/619 [==============================] - 0s - loss: 0.1013 - acc: 0.9661     \n",
      "Epoch 16/50\n",
      "619/619 [==============================] - 0s - loss: 0.0726 - acc: 0.9742     \n",
      "Epoch 17/50\n",
      "619/619 [==============================] - 0s - loss: 0.0834 - acc: 0.9596     \n",
      "Epoch 18/50\n",
      "619/619 [==============================] - 0s - loss: 0.0897 - acc: 0.9725     \n",
      "Epoch 19/50\n",
      "619/619 [==============================] - 0s - loss: 0.0688 - acc: 0.9612     \n",
      "Epoch 20/50\n",
      "619/619 [==============================] - 0s - loss: 0.0591 - acc: 0.9790     \n",
      "Epoch 21/50\n",
      "619/619 [==============================] - 0s - loss: 0.0702 - acc: 0.9709     \n",
      "Epoch 22/50\n",
      "619/619 [==============================] - 0s - loss: 0.0672 - acc: 0.9725     \n",
      "Epoch 23/50\n",
      "619/619 [==============================] - 0s - loss: 0.0565 - acc: 0.9790     \n",
      "Epoch 24/50\n",
      "619/619 [==============================] - 0s - loss: 0.0951 - acc: 0.9661     \n",
      "Epoch 25/50\n",
      "619/619 [==============================] - 0s - loss: 0.0796 - acc: 0.9758     \n",
      "Epoch 26/50\n",
      "619/619 [==============================] - 0s - loss: 0.0710 - acc: 0.9709     \n",
      "Epoch 27/50\n",
      "619/619 [==============================] - 0s - loss: 0.0481 - acc: 0.9822     \n",
      "Epoch 28/50\n",
      "619/619 [==============================] - 0s - loss: 0.0649 - acc: 0.9742     \n",
      "Epoch 29/50\n",
      "619/619 [==============================] - 0s - loss: 0.0829 - acc: 0.9628     \n",
      "Epoch 30/50\n",
      "619/619 [==============================] - 0s - loss: 0.0433 - acc: 0.9903     \n",
      "Epoch 31/50\n",
      "619/619 [==============================] - 0s - loss: 0.0610 - acc: 0.9677     \n",
      "Epoch 32/50\n",
      "619/619 [==============================] - 0s - loss: 0.0354 - acc: 0.9871     \n",
      "Epoch 33/50\n",
      "619/619 [==============================] - 0s - loss: 0.0282 - acc: 0.9919     \n",
      "Epoch 34/50\n",
      "619/619 [==============================] - 0s - loss: 0.0438 - acc: 0.9871     \n",
      "Epoch 35/50\n",
      "619/619 [==============================] - 0s - loss: 0.0521 - acc: 0.9774     \n",
      "Epoch 36/50\n",
      "619/619 [==============================] - 0s - loss: 0.0340 - acc: 0.9903     \n",
      "Epoch 37/50\n",
      "619/619 [==============================] - 0s - loss: 0.0595 - acc: 0.9838     \n",
      "Epoch 38/50\n",
      "619/619 [==============================] - 0s - loss: 0.0271 - acc: 0.9903     \n",
      "Epoch 39/50\n",
      "619/619 [==============================] - 0s - loss: 0.0671 - acc: 0.9742     \n",
      "Epoch 40/50\n",
      "619/619 [==============================] - 0s - loss: 0.0701 - acc: 0.9742     \n",
      "Epoch 41/50\n",
      "619/619 [==============================] - 0s - loss: 0.1333 - acc: 0.9548     \n",
      "Epoch 42/50\n",
      "619/619 [==============================] - 0s - loss: 0.0654 - acc: 0.9822     \n",
      "Epoch 43/50\n",
      "619/619 [==============================] - 0s - loss: 0.0322 - acc: 0.9887     \n",
      "Epoch 44/50\n",
      "619/619 [==============================] - 0s - loss: 0.0379 - acc: 0.9919     \n",
      "Epoch 45/50\n",
      "619/619 [==============================] - 0s - loss: 0.0320 - acc: 0.9887     \n",
      "Epoch 46/50\n",
      "619/619 [==============================] - 0s - loss: 0.0169 - acc: 0.9935     \n",
      "Epoch 47/50\n",
      "619/619 [==============================] - 0s - loss: 0.0616 - acc: 0.9758     \n",
      "Epoch 48/50\n",
      "619/619 [==============================] - 0s - loss: 0.0663 - acc: 0.9790     \n",
      "Epoch 49/50\n",
      "619/619 [==============================] - 0s - loss: 0.0308 - acc: 0.9919     \n",
      "Epoch 50/50\n",
      "619/619 [==============================] - 0s - loss: 0.0221 - acc: 0.9919     \n"
     ]
    },
    {
     "data": {
      "text/plain": [
       "<keras.callbacks.History at 0x1daad1f6a20>"
      ]
     },
     "execution_count": 11,
     "metadata": {},
     "output_type": "execute_result"
    }
   ],
   "source": [
    "model.fit(x_train, y_train, batch_size=batch_size, epochs=epochs, verbose=1)"
   ]
  },
  {
   "cell_type": "markdown",
   "metadata": {},
   "source": [
    "### 4. Accuracy"
   ]
  },
  {
   "cell_type": "code",
   "execution_count": 12,
   "metadata": {
    "scrolled": true
   },
   "outputs": [
    {
     "name": "stdout",
     "output_type": "stream",
     "text": [
      "\r",
      " 32/266 [==>...........................] - ETA: 0s"
     ]
    }
   ],
   "source": [
    "score = model.evaluate(x_test, y_test, verbose=1)"
   ]
  },
  {
   "cell_type": "code",
   "execution_count": 13,
   "metadata": {},
   "outputs": [
    {
     "name": "stdout",
     "output_type": "stream",
     "text": [
      "Test loss: 0.628461408436\n",
      "Test accuracy: 0.879699248568\n"
     ]
    }
   ],
   "source": [
    "print('Test loss:', score[0])\n",
    "print('Test accuracy:', score[1])"
   ]
  },
  {
   "cell_type": "markdown",
   "metadata": {},
   "source": [
    "### 5. Save to File"
   ]
  },
  {
   "cell_type": "code",
   "execution_count": 14,
   "metadata": {
    "collapsed": true
   },
   "outputs": [],
   "source": [
    "save_path = '../data/keras_models/60day-trend.h5'"
   ]
  },
  {
   "cell_type": "code",
   "execution_count": 16,
   "metadata": {
    "collapsed": true
   },
   "outputs": [],
   "source": [
    "model.save(save_path)"
   ]
  },
  {
   "cell_type": "markdown",
   "metadata": {},
   "source": [
    "### 6. Test Real Data"
   ]
  },
  {
   "cell_type": "code",
   "execution_count": 38,
   "metadata": {
    "collapsed": true
   },
   "outputs": [],
   "source": [
    "from IPython.display import clear_output\n",
    "import quandl\n",
    "import pandas as pd\n",
    "from modules.factory import ohlc_chart\n",
    "import time\n",
    "quandl.ApiConfig.api_key = \"UzB-e5CDdoACq4ENxbVS\"\n",
    "df = pd.read_csv('../data/SCF-meta.csv')\n",
    "df['iid'] = 'SCF/'+df.Exchange+'_'+df.Symbol+'1_OB'\n",
    "meta = df[['iid','name']]"
   ]
  },
  {
   "cell_type": "code",
   "execution_count": 44,
   "metadata": {},
   "outputs": [
    {
     "name": "stdout",
     "output_type": "stream",
     "text": [
      "SHFE Lead\n",
      "mean: -0.40\n"
     ]
    },
    {
     "data": {
      "image/png": "[encoded data removed]",
      "text/plain": [
       "<matplotlib.figure.Figure at 0x1dab0adb208>"
      ]
     },
     "metadata": {},
     "output_type": "display_data"
    },
    {
     "name": "stdout",
     "output_type": "stream",
     "text": [
      "pred: 0\n",
      "[[ 0.99900001  0.001       0.        ]]\n",
      "q\n"
     ]
    }
   ],
   "source": [
    "window = 60\n",
    "while True:\n",
    "    idx = np.random.randint(0, len(meta))\n",
    "    code = meta.iloc[idx].iid\n",
    "    name = meta.iloc[idx]['name']\n",
    "\n",
    "    raw_data = quandl.get(code)\n",
    "    raw_data.drop(['Volume', 'Prev. Day Open Interest'], axis=1, inplace=True)\n",
    "    std = raw_data.Settle.std()\n",
    "    length = len(raw_data)\n",
    "    \n",
    "    for i in range(10):\n",
    "        print(name)\n",
    "        \n",
    "        start = np.random.randint(0, length -  window)\n",
    "        end = start + window\n",
    "        \n",
    "        if start-240 < 0:\n",
    "            start0 = 0\n",
    "            end0 = 540\n",
    "        elif end+240 > len(raw_data):\n",
    "            end0 = len(raw_data)\n",
    "            start0 = end0-540\n",
    "        else:\n",
    "            start0 = start-240\n",
    "            end0 = end+240\n",
    "            \n",
    "        #Data Normalization\n",
    "        std = raw_data.Settle.values[start0:end0].std()\n",
    "        data = raw_data[start:end]\n",
    "        data = (data-data.iloc[0].Open)/std\n",
    "        \n",
    "        #그래프 \n",
    "        fig, (ax) = plt.subplots(2,1, gridspec_kw = {'height_ratios':[1, 2]}, figsize=(8,9))\n",
    "        fig.autofmt_xdate()\n",
    "            \n",
    "        ax[0].plot(raw_data.index.values, raw_data.Settle.values)\n",
    "        ax[0].axvspan(raw_data.index.values[start], raw_data.index.values[end], facecolor='y', alpha=0.3)\n",
    "        \n",
    "        ohlc_data = np.concatenate((np.arange(len(data)).reshape(-1, 1), data.values), axis=1)\n",
    "        ohlc_chart(ax[1], ohlc_data, linewidth=1.44)\n",
    "        mean = data.values.mean()\n",
    "        print('mean: %.2f'%mean)\n",
    "        ax[1].axhline(y=mean, linewidth=1.2, color='g')\n",
    "        ax[1].axhspan(-0.2, 0.2, color='b', alpha=0.2)\n",
    "        ax[1].axvline(x=int(len(data)/3), linewidth=1, color='g')\n",
    "        ax[1].axvline(x=int(len(data)*2/3), linewidth=1, color='g')\n",
    "        plt.show()\n",
    "        \n",
    "        #추세\n",
    "        time.sleep(0.1)\n",
    "        \n",
    "        temp = data.values.T\n",
    "        test_data = np.stack( (temp[0::4, :], temp[1::4, :], temp[2::4, :], temp[3::4, :]), axis=-1)\n",
    "        pred = model.predict(test_data)\n",
    "    \n",
    "        print('pred:', np.argmax(pred[0]))\n",
    "        print(np.round(pred,3))\n",
    "        #print('prob: ', np.round(sess.run(tf.nn.softmax(pred)),3))\n",
    "        key = input()\n",
    "        \n",
    "        clear_output(wait=True)\n",
    "        if key == 'q':\n",
    "            break\n",
    "    if key == 'q':\n",
    "            break\n",
    "    clear_output(wait=True)"
   ]
  },
  {
   "cell_type": "code",
   "execution_count": null,
   "metadata": {
    "collapsed": true
   },
   "outputs": [],
   "source": []
  }
 ],
 "metadata": {
  "kernelspec": {
   "display_name": "Python 3",
   "language": "python",
   "name": "python3"
  },
  "language_info": {
   "codemirror_mode": {
    "name": "ipython",
    "version": 3
   },
   "file_extension": ".py",
   "mimetype": "text/x-python",
   "name": "python",
   "nbconvert_exporter": "python",
   "pygments_lexer": "ipython3",
   "version": "3.6.2"
  }
 },
 "nbformat": 4,
 "nbformat_minor": 2
}
