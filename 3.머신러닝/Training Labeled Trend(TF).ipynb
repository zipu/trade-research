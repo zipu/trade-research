{
 "cells": [
  {
   "cell_type": "code",
   "execution_count": 1,
   "metadata": {
    "collapsed": true
   },
   "outputs": [],
   "source": [
    "%matplotlib inline\n",
    "import sys\n",
    "sys.path.append('..')\n",
    "import matplotlib.pyplot as plt\n",
    "import tensorflow as tf\n",
    "import numpy as np\n",
    "from IPython.display import clear_output\n",
    "import time\n",
    "from modules.factory import ohlc_chart\n",
    "from modules.tfmodels import CNN"
   ]
  },
  {
   "cell_type": "markdown",
   "metadata": {},
   "source": [
    "### 1. 데이터 불러오기"
   ]
  },
  {
   "cell_type": "code",
   "execution_count": 2,
   "metadata": {
    "collapsed": true
   },
   "outputs": [],
   "source": [
    "#training_file = '../data/trend-60day-localstd.csv'\n",
    "#xy = np.genfromtxt(training_file, delimiter=',', dtype=np.float32)\n",
    "xy1 = np.genfromtxt('../data/120day_trend(normed_by_globalstd)_2.csv', delimiter=',', dtype=np.float32)\n",
    "xy2 = np.genfromtxt('../data/120day_trend(normed_by_globalstd)_1.csv', delimiter=',', dtype=np.float32)\n",
    "xy = np.concatenate((xy1,xy2))"
   ]
  },
  {
   "cell_type": "markdown",
   "metadata": {},
   "source": [
    "##### Data Reconstruction"
   ]
  },
  {
   "cell_type": "code",
   "execution_count": 3,
   "metadata": {
    "collapsed": true
   },
   "outputs": [],
   "source": [
    "test_len = 100\n",
    "length = xy.shape[0]\n",
    "\n",
    "# data reconstruction\n",
    "X_Data = np.stack( (xy[0::4, :-1], xy[1::4, :-1], xy[2::4, :-1], xy[3::4, :-1]), axis=-1)\n",
    "# y 데이터 구조 변경: 0~2 --> [1,0,0], [0,1,0], [0,0,1]\n",
    "y = xy[::4, -1].astype(np.int16)\n",
    "Y_Data = np.zeros((y.size, y.max().astype(np.int32)+1))\n",
    "Y_Data[np.arange(y.size), y] = 1\n",
    "\n",
    "#train data\n",
    "X_Train = X_Data[test_len:]\n",
    "Y_Train = Y_Data[test_len:]\n",
    "X_Test = X_Data[:test_len]\n",
    "Y_Test = Y_Data[:test_len]"
   ]
  },
  {
   "cell_type": "code",
   "execution_count": 4,
   "metadata": {
    "collapsed": true
   },
   "outputs": [],
   "source": [
    "# initialize\n",
    "sess = tf.Session()"
   ]
  },
  {
   "cell_type": "code",
   "execution_count": 5,
   "metadata": {
    "collapsed": true
   },
   "outputs": [],
   "source": [
    "period = 120\n",
    "cnn = CNN(sess, \"trend\", period=period)\n",
    "#filepath = f'../tf/{period}_trend_weight.ckpt'"
   ]
  },
  {
   "cell_type": "code",
   "execution_count": 11,
   "metadata": {
    "collapsed": true,
    "scrolled": true
   },
   "outputs": [],
   "source": [
    "saver = tf.train.Saver()"
   ]
  },
  {
   "cell_type": "code",
   "execution_count": 7,
   "metadata": {
    "collapsed": true,
    "scrolled": true
   },
   "outputs": [],
   "source": [
    "filepath = '../data/tf/120day_trend_weight.ckpt'\n",
    "#saver.restore(sess, filepath)\n",
    "sess.run(tf.global_variables_initializer())"
   ]
  },
  {
   "cell_type": "code",
   "execution_count": 8,
   "metadata": {
    "scrolled": true
   },
   "outputs": [
    {
     "name": "stdout",
     "output_type": "stream",
     "text": [
      "step:  0 cost:  1.08606  (5.29 sec)\n",
      "step:  100 cost:  0.0866643  (754.18 sec)\n",
      "step:  200 cost:  0.0159315  (821.25 sec)\n",
      "step:  300 cost:  0.00945595  (830.80 sec)\n",
      "step:  400 cost:  0.00313911  (704.79 sec)\n",
      "Done\n"
     ]
    }
   ],
   "source": [
    "timer = time.time()\n",
    "for step in range(500):\n",
    "    c, _ = cnn.train(X_Train, Y_Train)\n",
    "    if step % 100 == 0:\n",
    "        timediff = time.time() - timer\n",
    "        timer = time.time()\n",
    "        print('step: ', step, 'cost: ', c , ' (%.2f sec)'%timediff)\n",
    "print('Done')"
   ]
  },
  {
   "cell_type": "code",
   "execution_count": 9,
   "metadata": {
    "scrolled": true
   },
   "outputs": [
    {
     "name": "stdout",
     "output_type": "stream",
     "text": [
      "Accuracy: 0.84\n"
     ]
    }
   ],
   "source": [
    "print('Accuracy:', cnn.get_accuracy(X_Test, Y_Test))"
   ]
  },
  {
   "cell_type": "code",
   "execution_count": 12,
   "metadata": {},
   "outputs": [
    {
     "name": "stdout",
     "output_type": "stream",
     "text": [
      "Model saved in file: ../data/tf/120day_trend_weight.ckpt\n"
     ]
    }
   ],
   "source": [
    "save_path = saver.save(sess, filepath)\n",
    "print(\"Model saved in file: %s\" % save_path)"
   ]
  },
  {
   "cell_type": "markdown",
   "metadata": {},
   "source": [
    "### 2. 테스트"
   ]
  },
  {
   "cell_type": "markdown",
   "metadata": {},
   "source": [
    "##### 1) 테스트 데이터"
   ]
  },
  {
   "cell_type": "code",
   "execution_count": 57,
   "metadata": {},
   "outputs": [
    {
     "name": "stdout",
     "output_type": "stream",
     "text": [
      "real:  0\n",
      "pred: 0\n",
      "[[ 11.18683338   2.13602638 -14.48971748]]\n"
     ]
    },
    {
     "data": {
      "image/png": "[encoded data removed]",
      "text/plain": [
       "<matplotlib.figure.Figure at 0x13acaaab6d8>"
      ]
     },
     "metadata": {},
     "output_type": "display_data"
    },
    {
     "name": "stdout",
     "output_type": "stream",
     "text": [
      "\n"
     ]
    }
   ],
   "source": [
    "for num in range(10):\n",
    "    #num = np.random.randint(0,len(test_X))\n",
    "    data = X_Test[num]\n",
    "    real = np.argmax(Y_Test[num])\n",
    "    pred = m1.predict([X_Test[num]])\n",
    "    \n",
    "    print('real: ', real)\n",
    "    print('pred:', np.argmax(pred))\n",
    "    print(pred)\n",
    "    plt.plot(data)\n",
    "    plt.show()\n",
    "    input()\n",
    "    clear_output(wait=True)"
   ]
  },
  {
   "cell_type": "markdown",
   "metadata": {},
   "source": [
    "##### 2) 실 데이터"
   ]
  },
  {
   "cell_type": "code",
   "execution_count": 12,
   "metadata": {
    "collapsed": true
   },
   "outputs": [],
   "source": [
    "#실 데이터 테스트\n",
    "import quandl\n",
    "import pandas as pd\n",
    "quandl.ApiConfig.api_key = \"UzB-e5CDdoACq4ENxbVS\"\n",
    "df = pd.read_csv('../data/SCF-meta.csv')\n",
    "df['iid'] = 'SCF/'+df.Exchange+'_'+df.Symbol+'1_OB'\n",
    "meta = df[['iid','name']]"
   ]
  },
  {
   "cell_type": "code",
   "execution_count": 17,
   "metadata": {},
   "outputs": [
    {
     "name": "stdout",
     "output_type": "stream",
     "text": [
      "EUREX Euro-Schatz\n",
      "mean: -0.99\n"
     ]
    },
    {
     "data": {
      "image/png": "[encoded data removed]",
      "text/plain": [
       "<matplotlib.figure.Figure at 0x23202753f28>"
      ]
     },
     "metadata": {},
     "output_type": "display_data"
    },
    {
     "name": "stdout",
     "output_type": "stream",
     "text": [
      "pred: 0\n",
      "[[  8.20800018   2.01999998 -11.24300003]]\n",
      "prob:  [[ 0.99800003  0.002       0.        ]]\n",
      "q\n"
     ]
    }
   ],
   "source": [
    "window = 60\n",
    "while True:\n",
    "    idx = np.random.randint(0, len(meta))\n",
    "    code = meta.iloc[idx].iid\n",
    "    name = meta.iloc[idx]['name']\n",
    "\n",
    "    raw_data = quandl.get(code)\n",
    "    raw_data.drop(['Volume', 'Prev. Day Open Interest'], axis=1, inplace=True)\n",
    "    std = raw_data.Settle.std()\n",
    "    length = len(raw_data)\n",
    "    \n",
    "    for i in range(10):\n",
    "        print(name)\n",
    "        \n",
    "        start = np.random.randint(0, length -  window)\n",
    "        end = start + window\n",
    "        \n",
    "        if start-240 < 0:\n",
    "            start0 = 0\n",
    "            end0 = 540\n",
    "        elif end+240 > len(raw_data):\n",
    "            end0 = len(raw_data)\n",
    "            start0 = end0-540\n",
    "        else:\n",
    "            start0 = start-240\n",
    "            end0 = end+240\n",
    "            \n",
    "        #Data Normalization\n",
    "        std = raw_data.Settle.values[start0:end0].std()\n",
    "        data = raw_data[start:end]\n",
    "        data = (data-data.iloc[0].Open)/std\n",
    "        \n",
    "        #그래프 \n",
    "        fig, (ax) = plt.subplots(2,1, gridspec_kw = {'height_ratios':[1, 2]}, figsize=(8,9))\n",
    "        fig.autofmt_xdate()\n",
    "            \n",
    "        ax[0].plot(raw_data.index.values, raw_data.Settle.values)\n",
    "        ax[0].axvspan(raw_data.index.values[start], raw_data.index.values[end], facecolor='y', alpha=0.3)\n",
    "        \n",
    "        ohlc_data = np.concatenate((np.arange(len(data)).reshape(-1, 1), data.values), axis=1)\n",
    "        ohlc_chart(ax[1], ohlc_data, linewidth=1.44)\n",
    "        mean = data.values.mean()\n",
    "        print('mean: %.2f'%mean)\n",
    "        ax[1].axhline(y=mean, linewidth=1.2, color='g')\n",
    "        ax[1].axhspan(-0.2, 0.2, color='b', alpha=0.2)\n",
    "        ax[1].axvline(x=int(len(data)/3), linewidth=1, color='g')\n",
    "        ax[1].axvline(x=int(len(data)*2/3), linewidth=1, color='g')\n",
    "        plt.show()\n",
    "        \n",
    "        #추세\n",
    "        time.sleep(0.1)\n",
    "        \n",
    "        temp = data.values.T\n",
    "        test_data = np.stack( (temp[0::4, :], temp[1::4, :], temp[2::4, :], temp[3::4, :]), axis=-1)\n",
    "        pred = m1.predict(test_data)\n",
    "    \n",
    "        print('pred:', np.argmax(pred))\n",
    "        print(np.round(pred,3))\n",
    "        print('prob: ', np.round(sess.run(tf.nn.softmax(pred)),3))\n",
    "        key = input()\n",
    "        \n",
    "        clear_output(wait=True)\n",
    "        if key == 'q':\n",
    "            break\n",
    "    if key == 'q':\n",
    "            break\n",
    "    clear_output(wait=True)"
   ]
  },
  {
   "cell_type": "code",
   "execution_count": 39,
   "metadata": {},
   "outputs": [
    {
     "data": {
      "text/plain": [
       "array([[  6.31562500e-08,   9.99999881e-01,   3.38847349e-21]], dtype=float32)"
      ]
     },
     "execution_count": 39,
     "metadata": {},
     "output_type": "execute_result"
    }
   ],
   "source": [
    "sess.run(tf.nn.softmax(pred))"
   ]
  }
 ],
 "metadata": {
  "kernelspec": {
   "display_name": "Python 3",
   "language": "python",
   "name": "python3"
  },
  "language_info": {
   "codemirror_mode": {
    "name": "ipython",
    "version": 3
   },
   "file_extension": ".py",
   "mimetype": "text/x-python",
   "name": "python",
   "nbconvert_exporter": "python",
   "pygments_lexer": "ipython3",
   "version": "3.6.2"
  }
 },
 "nbformat": 4,
 "nbformat_minor": 2
}
