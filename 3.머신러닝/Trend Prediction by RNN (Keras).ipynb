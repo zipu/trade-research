{
 "cells": [
  {
   "cell_type": "code",
   "execution_count": 1,
   "metadata": {},
   "outputs": [
    {
     "name": "stderr",
     "output_type": "stream",
     "text": [
      "Using TensorFlow backend.\n"
     ]
    }
   ],
   "source": [
    "%matplotlib inline\n",
    "import sys\n",
    "sys.path.append('..')\n",
    "\n",
    "from glob import glob\n",
    "import numpy as np\n",
    "import pandas as pd\n",
    "import matplotlib.pyplot as plt\n",
    "import h5py\n",
    "import keras.backend as K\n",
    "from keras.models import Sequential, load_model\n",
    "from keras.layers import Dense, LSTM, Conv1D, AveragePooling1D, Dropout, Flatten, BatchNormalization\n",
    "from keras.layers import Activation\n",
    "from keras.utils import to_categorical\n",
    "from keras.layers.wrappers import TimeDistributed"
   ]
  },
  {
   "cell_type": "code",
   "execution_count": 2,
   "metadata": {
    "collapsed": true
   },
   "outputs": [],
   "source": [
    "from modules.factory import norm, fmeasure, recall, matthews_correlation\n",
    "from collections import Counter\n",
    "from sklearn.utils import shuffle, resample\n",
    "from sklearn.metrics import roc_curve, auc, f1_score\n",
    "from IPython.display import clear_output"
   ]
  },
  {
   "cell_type": "markdown",
   "metadata": {},
   "source": [
    "### 0. Parameters"
   ]
  },
  {
   "cell_type": "code",
   "execution_count": 53,
   "metadata": {
    "collapsed": true
   },
   "outputs": [],
   "source": [
    "modelfile = '../data/keras models/40day-trend.h5'\n",
    "rawfile = '../data/training set/daily-future-40day-trend.h5'\n",
    "savefile = '../data/keras models/downtrend-predic(20-240-40).h5'\n",
    "window = 20\n",
    "seq_length = 240\n",
    "trend_period = 40\n",
    "time_step = 10\n",
    "num_classes = 3"
   ]
  },
  {
   "cell_type": "markdown",
   "metadata": {},
   "source": [
    "### 1. Data Loading & Reconstruction"
   ]
  },
  {
   "cell_type": "markdown",
   "metadata": {},
   "source": [
    "#### A. Constructing Data"
   ]
  },
  {
   "cell_type": "code",
   "execution_count": 4,
   "metadata": {
    "collapsed": true
   },
   "outputs": [],
   "source": [
    "f = h5py.File(rawfile, 'r')"
   ]
  },
  {
   "cell_type": "code",
   "execution_count": 5,
   "metadata": {
    "collapsed": true
   },
   "outputs": [],
   "source": [
    "FILES = shuffle([i[1] for i in f.items()], random_state=2)"
   ]
  },
  {
   "cell_type": "code",
   "execution_count": 6,
   "metadata": {
    "collapsed": true
   },
   "outputs": [],
   "source": [
    "def preprocessing(file, seq_length, window, trend_period, time_step):\n",
    "    raw_data = pd.DataFrame(file.value, columns=['open','high','low','close','trend'])\n",
    "    trend = raw_data['trend']\n",
    "    raw_data.drop('trend',axis=1,inplace=True)\n",
    "    raw_data['pema5'] = raw_data.close/raw_data.close.ewm(span=5).mean()\n",
    "    raw_data['pema20']= raw_data.close/raw_data.close.ewm(span=20).mean()\n",
    "    raw_data['pema60']= raw_data.close/raw_data.close.ewm(span=60).mean()\n",
    "    raw_data['pema120']= raw_data.close/raw_data.close.ewm(span=120).mean()\n",
    "    \n",
    "    #raw_data['ema20'] = raw_data.close.ewm(span=20).mean()\n",
    "    #raw_data['ema60']= raw_data.close.ewm(span=60).mean()\n",
    "    #raw_data['ema120']= raw_data.close.ewm(span=120).mean()\n",
    "    X=[]\n",
    "    Y=[]\n",
    "    for i in range(0, len(raw_data)-(seq_length+window+trend_period), time_step):\n",
    "        seq_data = raw_data[i:i+seq_length+window]\n",
    "        normed = norm(seq_data, ntype='zscore')\n",
    "        #normed['trend'] = trend\n",
    "        \n",
    "        seq=[]\n",
    "        for k in range(window, seq_length+window):\n",
    "            seq.append(normed[k-window:k].values)\n",
    "            \n",
    "        X.append(seq)\n",
    "        Y.append(trend.iloc[i+window+seq_length+trend_period])\n",
    "    \n",
    "    return X,Y"
   ]
  },
  {
   "cell_type": "code",
   "execution_count": 7,
   "metadata": {
    "collapsed": true
   },
   "outputs": [],
   "source": [
    "def batch_generator(files, size=7, batch_size=16):\n",
    "    for i in range(0, len(files), size):\n",
    "        X=[]\n",
    "        Y=[]\n",
    "        \n",
    "        for idx, file in enumerate(files[i:i+size]):\n",
    "            print(\"\\rpreprocessing..(%s/%s)\"%(idx+1,size), end='', flush=True)\n",
    "            x, y = preprocessing(file, seq_length, window, trend_period, time_step)\n",
    "            X += x\n",
    "            Y += y\n",
    "            #clear_output(wait=True)\n",
    "            \n",
    "        batch_num = int(len(X)/batch_size)\n",
    "        for i in range(0, batch_size*batch_num, batch_size):\n",
    "            yield np.array(X[i:i+batch_size]), np.array(Y[i:i+batch_size])"
   ]
  },
  {
   "cell_type": "code",
   "execution_count": 82,
   "metadata": {},
   "outputs": [
    {
     "name": "stdout",
     "output_type": "stream",
     "text": [
      "processing...(9)Wall time: 1min 36s\n"
     ]
    }
   ],
   "source": [
    "%%time\n",
    "X=[]\n",
    "Y=[]\n",
    "for idx,file in enumerate(FILES[40:50]):\n",
    "    print('\\rprocessing...(%s)'%idx, end='', flush=True)\n",
    "    x,y = preprocessing(file, seq_length, window, trend_period, time_step)\n",
    "    X += x\n",
    "    Y += y\n",
    "X = np.array(X)\n",
    "Y = np.array(Y)"
   ]
  },
  {
   "cell_type": "code",
   "execution_count": 83,
   "metadata": {},
   "outputs": [
    {
     "data": {
      "text/plain": [
       "Counter({0.0: 348, 1.0: 1224, 2.0: 528})"
      ]
     },
     "execution_count": 83,
     "metadata": {},
     "output_type": "execute_result"
    }
   ],
   "source": [
    "Counter(Y)"
   ]
  },
  {
   "cell_type": "code",
   "execution_count": 84,
   "metadata": {
    "collapsed": true
   },
   "outputs": [],
   "source": [
    "#하락 추세\n",
    "Y=np.where(Y==0, 1, 0)\n",
    "#상승 추세\n",
    "#Y=np.where(Y==2,1,0)"
   ]
  },
  {
   "cell_type": "code",
   "execution_count": 85,
   "metadata": {},
   "outputs": [
    {
     "data": {
      "text/plain": [
       "Counter({0: 1752, 1: 348})"
      ]
     },
     "execution_count": 85,
     "metadata": {},
     "output_type": "execute_result"
    }
   ],
   "source": [
    "Counter(Y)"
   ]
  },
  {
   "cell_type": "code",
   "execution_count": 74,
   "metadata": {
    "collapsed": true
   },
   "outputs": [],
   "source": [
    "#Resampling\n",
    "negidx = np.where(Y==0)[0]\n",
    "posidx = np.where(Y==1)[0]\n",
    "resampled_neg = resample(X[negidx], n_samples=int(len(negidx)/3), replace=False)\n",
    "resampled_y = np.zeros(len(resampled_neg), dtype='int')\n",
    "X = np.append(X[posidx], resampled_neg, axis=0)\n",
    "Y = np.append(Y[posidx], resampled_y)\n",
    "X, Y = shuffle(X,Y)\n",
    "\n",
    "#free memory\n",
    "del resampled_neg, negidx, posidx, resampled_y"
   ]
  },
  {
   "cell_type": "code",
   "execution_count": 75,
   "metadata": {},
   "outputs": [
    {
     "data": {
      "text/plain": [
       "Counter({0: 579, 1: 307})"
      ]
     },
     "execution_count": 75,
     "metadata": {},
     "output_type": "execute_result"
    }
   ],
   "source": [
    "Counter(Y)"
   ]
  },
  {
   "cell_type": "code",
   "execution_count": 61,
   "metadata": {
    "collapsed": true
   },
   "outputs": [],
   "source": [
    "# seperate into train and test data\n",
    "length = int(len(X) * 0.7)\n",
    "x_train, x_test = X[:length], X[length:]\n",
    "y_train, y_test = Y[:length], Y[length:]"
   ]
  },
  {
   "cell_type": "code",
   "execution_count": 50,
   "metadata": {},
   "outputs": [
    {
     "data": {
      "text/plain": [
       "Counter({0.0: 1267, 1.0: 3290, 2.0: 1976})"
      ]
     },
     "execution_count": 50,
     "metadata": {},
     "output_type": "execute_result"
    }
   ],
   "source": [
    "Counter(y_test)"
   ]
  },
  {
   "cell_type": "markdown",
   "metadata": {},
   "source": [
    "### 2. Build a Model"
   ]
  },
  {
   "cell_type": "code",
   "execution_count": 199,
   "metadata": {
    "collapsed": true
   },
   "outputs": [],
   "source": [
    "model = Sequential()\n",
    "model.add(TimeDistributed(Conv1D(32, 5, padding='same', activation='relu'), input_shape=X.shape[1:]))\n",
    "model.add(TimeDistributed(AveragePooling1D(pool_size=2)))\n",
    "#model.add(TimeDistributed(BatchNormalization()))\n",
    "#model.add(TimeDistributed(Activation('relu')))\n",
    "model.add(TimeDistributed(Dropout(0.2)))\n",
    "\n",
    "model.add(TimeDistributed(Conv1D(64, 5, padding='same', activation='relu')))\n",
    "model.add(TimeDistributed(AveragePooling1D(pool_size=2)))\n",
    "#model.add(TimeDistributed(BatchNormalization()))\n",
    "#model.add(TimeDistributed(Activation('relu')))\n",
    "model.add(TimeDistributed(Dropout(0.2)))\n",
    "\n",
    "model.add(TimeDistributed(Flatten()))\n",
    "model.add(LSTM(128))#, dropout=0.2, recurrent_dropout=0.2))\n",
    "model.add(Dense(1, activation='sigmoid'))\n",
    "\n",
    "model.compile(loss='binary_crossentropy',\n",
    "              optimizer='adam',\n",
    "              metrics = ['accuracy', recall, fmeasure])"
   ]
  },
  {
   "cell_type": "code",
   "execution_count": 45,
   "metadata": {},
   "outputs": [
    {
     "name": "stdout",
     "output_type": "stream",
     "text": [
      "sequential_4\n"
     ]
    }
   ],
   "source": [
    "#load model\n",
    "model = load_model(savefile, custom_objects={'recall':recall,'fmeasure':fmeasure})"
   ]
  },
  {
   "cell_type": "markdown",
   "metadata": {},
   "source": [
    "### 3. Training"
   ]
  },
  {
   "cell_type": "code",
   "execution_count": 52,
   "metadata": {
    "scrolled": true
   },
   "outputs": [
    {
     "name": "stdout",
     "output_type": "stream",
     "text": [
      "Epoch 1/200\n",
      "3830/3830 [==============================] - 119s - loss: 0.8778 - acc: 0.6238 - recall: 0.4016 - fmeasure: 0.4305   \n",
      "Epoch 2/200\n",
      "3830/3830 [==============================] - 119s - loss: 0.6033 - acc: 0.6828 - recall: 0.4555 - fmeasure: 0.5092   \n",
      "Epoch 3/200\n",
      "3830/3830 [==============================] - 126s - loss: 0.5564 - acc: 0.7128 - recall: 0.5143 - fmeasure: 0.5581   \n",
      "Epoch 4/200\n",
      "3830/3830 [==============================] - 147s - loss: 0.5046 - acc: 0.7493 - recall: 0.5711 - fmeasure: 0.6141   \n",
      "Epoch 5/200\n",
      "3830/3830 [==============================] - 173s - loss: 0.4513 - acc: 0.7901 - recall: 0.6464 - fmeasure: 0.6882   \n",
      "Epoch 6/200\n",
      "3830/3830 [==============================] - 124s - loss: 0.4066 - acc: 0.8141 - recall: 0.6786 - fmeasure: 0.7176   \n",
      "Epoch 7/200\n",
      "3830/3830 [==============================] - 125s - loss: 0.3759 - acc: 0.8326 - recall: 0.7151 - fmeasure: 0.7507   \n",
      "Epoch 8/200\n",
      "3830/3830 [==============================] - 124s - loss: 0.3324 - acc: 0.8559 - recall: 0.7686 - fmeasure: 0.7950   \n",
      "Epoch 9/200\n",
      "3830/3830 [==============================] - 126s - loss: 0.3049 - acc: 0.8642 - recall: 0.7863 - fmeasure: 0.8034   \n",
      "Epoch 10/200\n",
      "3830/3830 [==============================] - 142s - loss: 0.2586 - acc: 0.8948 - recall: 0.8353 - fmeasure: 0.8487   \n",
      "Epoch 11/200\n",
      "3830/3830 [==============================] - 127s - loss: 0.2341 - acc: 0.9091 - recall: 0.8560 - fmeasure: 0.8707   \n",
      "Epoch 12/200\n",
      "3830/3830 [==============================] - 126s - loss: 0.1999 - acc: 0.9243 - recall: 0.8879 - fmeasure: 0.8934   \n",
      "Epoch 13/200\n",
      "3830/3830 [==============================] - 134s - loss: 0.1745 - acc: 0.9337 - recall: 0.9005 - fmeasure: 0.9058   \n",
      "Epoch 14/200\n",
      "3830/3830 [==============================] - 127s - loss: 0.1719 - acc: 0.9339 - recall: 0.8936 - fmeasure: 0.9070   \n",
      "Epoch 15/200\n",
      "3830/3830 [==============================] - 127s - loss: 0.1583 - acc: 0.9449 - recall: 0.9138 - fmeasure: 0.9232   \n",
      "Epoch 16/200\n",
      "3830/3830 [==============================] - 129s - loss: 0.1335 - acc: 0.9540 - recall: 0.9332 - fmeasure: 0.9350   \n",
      "Epoch 17/200\n",
      "3830/3830 [==============================] - 151s - loss: 0.1245 - acc: 0.9577 - recall: 0.9361 - fmeasure: 0.9409   \n",
      "Epoch 18/200\n",
      "3830/3830 [==============================] - 127s - loss: 0.1074 - acc: 0.9621 - recall: 0.9389 - fmeasure: 0.9478   \n",
      "Epoch 19/200\n",
      "3830/3830 [==============================] - 126s - loss: 0.1167 - acc: 0.9582 - recall: 0.9397 - fmeasure: 0.9434   \n",
      "Epoch 20/200\n",
      "3830/3830 [==============================] - 128s - loss: 0.0913 - acc: 0.9702 - recall: 0.9573 - fmeasure: 0.9598   \n",
      "Epoch 21/200\n",
      "3830/3830 [==============================] - 126s - loss: 0.1272 - acc: 0.9535 - recall: 0.9337 - fmeasure: 0.9367   \n",
      "Epoch 22/200\n",
      "3830/3830 [==============================] - 126s - loss: 0.0930 - acc: 0.9655 - recall: 0.9490 - fmeasure: 0.9518   \n",
      "Epoch 23/200\n",
      "3830/3830 [==============================] - 127s - loss: 0.0868 - acc: 0.9718 - recall: 0.9569 - fmeasure: 0.9596   \n",
      "Epoch 24/200\n",
      "3830/3830 [==============================] - 127s - loss: 0.0707 - acc: 0.9752 - recall: 0.9668 - fmeasure: 0.9657   \n",
      "Epoch 25/200\n",
      "3830/3830 [==============================] - 126s - loss: 0.0603 - acc: 0.9802 - recall: 0.9695 - fmeasure: 0.9721   \n",
      "Epoch 26/200\n",
      "3830/3830 [==============================] - 126s - loss: 0.0632 - acc: 0.9794 - recall: 0.9698 - fmeasure: 0.9722   \n",
      "Epoch 27/200\n",
      "3830/3830 [==============================] - 131s - loss: 0.0701 - acc: 0.9804 - recall: 0.9700 - fmeasure: 0.9729   \n",
      "Epoch 28/200\n",
      "3830/3830 [==============================] - 127s - loss: 0.1008 - acc: 0.9648 - recall: 0.9510 - fmeasure: 0.9514   \n",
      "Epoch 29/200\n",
      "3830/3830 [==============================] - 126s - loss: 0.0848 - acc: 0.9674 - recall: 0.9481 - fmeasure: 0.9528   \n",
      "Epoch 30/200\n",
      "3830/3830 [==============================] - 126s - loss: 0.0572 - acc: 0.9828 - recall: 0.9720 - fmeasure: 0.9752   \n",
      "Epoch 31/200\n",
      "3830/3830 [==============================] - 126s - loss: 0.0512 - acc: 0.9838 - recall: 0.9751 - fmeasure: 0.9766   \n",
      "Epoch 32/200\n",
      "3830/3830 [==============================] - 127s - loss: 0.0442 - acc: 0.9869 - recall: 0.9826 - fmeasure: 0.9821   \n",
      "Epoch 33/200\n",
      "3830/3830 [==============================] - 126s - loss: 0.0473 - acc: 0.9849 - recall: 0.9771 - fmeasure: 0.9791   \n",
      "Epoch 34/200\n",
      "3830/3830 [==============================] - 129s - loss: 0.0362 - acc: 0.9909 - recall: 0.9892 - fmeasure: 0.9876   \n",
      "Epoch 35/200\n",
      "3830/3830 [==============================] - 127s - loss: 0.0571 - acc: 0.9789 - recall: 0.9682 - fmeasure: 0.9697   \n",
      "Epoch 36/200\n",
      "3830/3830 [==============================] - 126s - loss: 0.0355 - acc: 0.9883 - recall: 0.9841 - fmeasure: 0.9834   \n",
      "Epoch 37/200\n",
      "3830/3830 [==============================] - 126s - loss: 0.0316 - acc: 0.9898 - recall: 0.9832 - fmeasure: 0.9853   \n",
      "Epoch 38/200\n",
      "3830/3830 [==============================] - 127s - loss: 0.0427 - acc: 0.9877 - recall: 0.9832 - fmeasure: 0.9836   \n",
      "Epoch 39/200\n",
      "3830/3830 [==============================] - 126s - loss: 0.0360 - acc: 0.9893 - recall: 0.9844 - fmeasure: 0.9844   \n",
      "Epoch 40/200\n",
      "3830/3830 [==============================] - 126s - loss: 0.0546 - acc: 0.9809 - recall: 0.9692 - fmeasure: 0.9727   \n",
      "Epoch 41/200\n",
      "3830/3830 [==============================] - 130s - loss: 0.0583 - acc: 0.9802 - recall: 0.9686 - fmeasure: 0.9720   \n",
      "Epoch 42/200\n",
      "3830/3830 [==============================] - 127s - loss: 0.0605 - acc: 0.9783 - recall: 0.9676 - fmeasure: 0.9698   \n",
      "Epoch 43/200\n",
      "3830/3830 [==============================] - 126s - loss: 0.0480 - acc: 0.9869 - recall: 0.9792 - fmeasure: 0.9815   \n",
      "Epoch 44/200\n",
      "3830/3830 [==============================] - 126s - loss: 0.0666 - acc: 0.9770 - recall: 0.9731 - fmeasure: 0.9687   \n",
      "Epoch 45/200\n",
      "3830/3830 [==============================] - 129s - loss: 0.0451 - acc: 0.9869 - recall: 0.9810 - fmeasure: 0.9809   \n",
      "Epoch 46/200\n",
      "3830/3830 [==============================] - 127s - loss: 0.0327 - acc: 0.9898 - recall: 0.9838 - fmeasure: 0.9862   \n",
      "Epoch 47/200\n",
      "3830/3830 [==============================] - 126s - loss: 0.0437 - acc: 0.9843 - recall: 0.9790 - fmeasure: 0.9793   \n",
      "Epoch 48/200\n",
      "3830/3830 [==============================] - 129s - loss: 0.0458 - acc: 0.9854 - recall: 0.9786 - fmeasure: 0.9795   \n",
      "Epoch 49/200\n",
      "3830/3830 [==============================] - 126s - loss: 0.0900 - acc: 0.9681 - recall: 0.9528 - fmeasure: 0.9563   \n",
      "Epoch 50/200\n",
      "3830/3830 [==============================] - 126s - loss: 0.0472 - acc: 0.9849 - recall: 0.9762 - fmeasure: 0.9776   \n",
      "Epoch 51/200\n",
      "3830/3830 [==============================] - 127s - loss: 0.0410 - acc: 0.9856 - recall: 0.9781 - fmeasure: 0.9807   \n",
      "Epoch 52/200\n",
      "3830/3830 [==============================] - 126s - loss: 0.0398 - acc: 0.9854 - recall: 0.9844 - fmeasure: 0.9806   \n",
      "Epoch 53/200\n",
      "3830/3830 [==============================] - 126s - loss: 0.0413 - acc: 0.9867 - recall: 0.9813 - fmeasure: 0.9813   \n",
      "Epoch 54/200\n",
      "3830/3830 [==============================] - 126s - loss: 0.0366 - acc: 0.9896 - recall: 0.9864 - fmeasure: 0.9860   \n",
      "Epoch 55/200\n",
      "3830/3830 [==============================] - 129s - loss: 0.0256 - acc: 0.9940 - recall: 0.9939 - fmeasure: 0.9912   \n",
      "Epoch 56/200\n",
      "3830/3830 [==============================] - 126s - loss: 0.0173 - acc: 0.9961 - recall: 0.9952 - fmeasure: 0.9948   \n",
      "Epoch 57/200\n",
      "3830/3830 [==============================] - 126s - loss: 0.0184 - acc: 0.9935 - recall: 0.9916 - fmeasure: 0.9916   \n",
      "Epoch 58/200\n",
      "3830/3830 [==============================] - 126s - loss: 0.0361 - acc: 0.9885 - recall: 0.9817 - fmeasure: 0.9841   \n",
      "Epoch 59/200\n",
      "3830/3830 [==============================] - 127s - loss: 0.0204 - acc: 0.9940 - recall: 0.9908 - fmeasure: 0.9911   \n",
      "Epoch 60/200\n",
      "3830/3830 [==============================] - 126s - loss: 0.0324 - acc: 0.9885 - recall: 0.9839 - fmeasure: 0.9841   \n",
      "Epoch 61/200\n",
      "3830/3830 [==============================] - 126s - loss: 0.0291 - acc: 0.9911 - recall: 0.9904 - fmeasure: 0.9885   \n",
      "Epoch 62/200\n",
      "3830/3830 [==============================] - 126s - loss: 0.0508 - acc: 0.9825 - recall: 0.9759 - fmeasure: 0.9741   \n",
      "Epoch 63/200\n"
     ]
    },
    {
     "name": "stdout",
     "output_type": "stream",
     "text": [
      "3830/3830 [==============================] - 126s - loss: 0.0716 - acc: 0.9786 - recall: 0.9693 - fmeasure: 0.9708   \n",
      "Epoch 64/200\n",
      "3830/3830 [==============================] - 126s - loss: 0.0363 - acc: 0.9885 - recall: 0.9862 - fmeasure: 0.9842   \n",
      "Epoch 65/200\n",
      "3830/3830 [==============================] - 127s - loss: 0.0172 - acc: 0.9953 - recall: 0.9948 - fmeasure: 0.9933   \n",
      "Epoch 66/200\n",
      "3830/3830 [==============================] - 130s - loss: 0.0199 - acc: 0.9943 - recall: 0.9917 - fmeasure: 0.9926   \n",
      "Epoch 67/200\n",
      "3830/3830 [==============================] - 126s - loss: 0.0144 - acc: 0.9958 - recall: 0.9920 - fmeasure: 0.9941   \n",
      "Epoch 68/200\n",
      "3830/3830 [==============================] - 126s - loss: 0.0158 - acc: 0.9958 - recall: 0.9933 - fmeasure: 0.9937   \n",
      "Epoch 69/200\n",
      "3830/3830 [==============================] - 130s - loss: 0.0177 - acc: 0.9945 - recall: 0.9897 - fmeasure: 0.9916   \n",
      "Epoch 70/200\n",
      "3830/3830 [==============================] - 127s - loss: 0.0761 - acc: 0.9739 - recall: 0.9663 - fmeasure: 0.9643   \n",
      "Epoch 71/200\n",
      "3830/3830 [==============================] - 127s - loss: 0.0591 - acc: 0.9775 - recall: 0.9650 - fmeasure: 0.9683   \n",
      "Epoch 72/200\n",
      "3830/3830 [==============================] - 126s - loss: 0.0322 - acc: 0.9898 - recall: 0.9849 - fmeasure: 0.9862   \n",
      "Epoch 73/200\n",
      "3830/3830 [==============================] - 129s - loss: 0.0319 - acc: 0.9880 - recall: 0.9838 - fmeasure: 0.9837   \n",
      "Epoch 74/200\n",
      "3830/3830 [==============================] - 126s - loss: 0.0191 - acc: 0.9927 - recall: 0.9907 - fmeasure: 0.9892   \n",
      "Epoch 75/200\n",
      "3830/3830 [==============================] - 126s - loss: 0.0227 - acc: 0.9932 - recall: 0.9913 - fmeasure: 0.9909   \n",
      "Epoch 76/200\n",
      "3830/3830 [==============================] - 128s - loss: 0.0328 - acc: 0.9883 - recall: 0.9805 - fmeasure: 0.9831   \n",
      "Epoch 77/200\n",
      "3830/3830 [==============================] - 126s - loss: 0.0331 - acc: 0.9893 - recall: 0.9892 - fmeasure: 0.9860   \n",
      "Epoch 78/200\n",
      "3830/3830 [==============================] - 126s - loss: 0.0315 - acc: 0.9885 - recall: 0.9820 - fmeasure: 0.9836   \n",
      "Epoch 79/200\n",
      "3830/3830 [==============================] - 128s - loss: 0.0302 - acc: 0.9911 - recall: 0.9892 - fmeasure: 0.9872   \n",
      "Epoch 80/200\n",
      "3830/3830 [==============================] - 128s - loss: 0.0225 - acc: 0.9935 - recall: 0.9904 - fmeasure: 0.9906   \n",
      "Epoch 81/200\n",
      "3830/3830 [==============================] - 127s - loss: 0.0132 - acc: 0.9966 - recall: 0.9952 - fmeasure: 0.9952   \n",
      "Epoch 82/200\n",
      "3830/3830 [==============================] - 127s - loss: 0.0125 - acc: 0.9966 - recall: 0.9962 - fmeasure: 0.9958   \n",
      "Epoch 83/200\n",
      "3830/3830 [==============================] - 130s - loss: 0.0149 - acc: 0.9945 - recall: 0.9925 - fmeasure: 0.9924   \n",
      "Epoch 84/200\n",
      "3830/3830 [==============================] - 128s - loss: 0.0126 - acc: 0.9961 - recall: 0.9948 - fmeasure: 0.9947   \n",
      "Epoch 85/200\n",
      "3830/3830 [==============================] - 127s - loss: 0.0135 - acc: 0.9961 - recall: 0.9938 - fmeasure: 0.9946   \n",
      "Epoch 86/200\n",
      "3830/3830 [==============================] - 127s - loss: 0.0175 - acc: 0.9943 - recall: 0.9907 - fmeasure: 0.9919   \n",
      "Epoch 87/200\n",
      "3830/3830 [==============================] - 126s - loss: 0.0658 - acc: 0.9786 - recall: 0.9682 - fmeasure: 0.9694   \n",
      "Epoch 88/200\n",
      "3830/3830 [==============================] - 129s - loss: 0.0547 - acc: 0.9817 - recall: 0.9734 - fmeasure: 0.9733   \n",
      "Epoch 89/200\n",
      "3830/3830 [==============================] - 126s - loss: 0.0442 - acc: 0.9859 - recall: 0.9800 - fmeasure: 0.9793   \n",
      "Epoch 90/200\n",
      "3830/3830 [==============================] - 128s - loss: 0.0286 - acc: 0.9888 - recall: 0.9805 - fmeasure: 0.9833   \n",
      "Epoch 91/200\n",
      "3830/3830 [==============================] - 127s - loss: 0.0258 - acc: 0.9906 - recall: 0.9866 - fmeasure: 0.9868   \n",
      "Epoch 92/200\n",
      "3830/3830 [==============================] - 127s - loss: 0.0263 - acc: 0.9922 - recall: 0.9875 - fmeasure: 0.9890   \n",
      "Epoch 93/200\n",
      "3830/3830 [==============================] - 127s - loss: 0.0132 - acc: 0.9966 - recall: 0.9947 - fmeasure: 0.9954   \n",
      "Epoch 94/200\n",
      "3830/3830 [==============================] - 140s - loss: 0.0152 - acc: 0.9948 - recall: 0.9945 - fmeasure: 0.9930   \n",
      "Epoch 95/200\n",
      "3830/3830 [==============================] - 131s - loss: 0.0173 - acc: 0.9948 - recall: 0.9928 - fmeasure: 0.9926   \n",
      "Epoch 96/200\n",
      "3830/3830 [==============================] - 126s - loss: 0.0142 - acc: 0.9963 - recall: 0.9937 - fmeasure: 0.9945   \n",
      "Epoch 97/200\n",
      "3830/3830 [==============================] - 136s - loss: 0.0238 - acc: 0.9919 - recall: 0.9911 - fmeasure: 0.9882   \n",
      "Epoch 98/200\n",
      "3830/3830 [==============================] - 127s - loss: 0.0175 - acc: 0.9940 - recall: 0.9887 - fmeasure: 0.9911   \n",
      "Epoch 99/200\n",
      "3830/3830 [==============================] - 126s - loss: 0.0152 - acc: 0.9961 - recall: 0.9961 - fmeasure: 0.9947   \n",
      "Epoch 100/200\n",
      "3830/3830 [==============================] - 126s - loss: 0.0114 - acc: 0.9974 - recall: 0.9967 - fmeasure: 0.9962   \n",
      "Epoch 101/200\n",
      "3830/3830 [==============================] - 127s - loss: 0.0192 - acc: 0.9943 - recall: 0.9897 - fmeasure: 0.9907   \n",
      "Epoch 102/200\n",
      "3830/3830 [==============================] - 129s - loss: 0.0158 - acc: 0.9945 - recall: 0.9926 - fmeasure: 0.9925   \n",
      "Epoch 103/200\n",
      "3830/3830 [==============================] - 126s - loss: 0.0259 - acc: 0.9919 - recall: 0.9893 - fmeasure: 0.9890   \n",
      "Epoch 104/200\n",
      "3830/3830 [==============================] - 129s - loss: 0.0406 - acc: 0.9851 - recall: 0.9835 - fmeasure: 0.9802   \n",
      "Epoch 105/200\n",
      "3830/3830 [==============================] - 127s - loss: 0.0548 - acc: 0.9804 - recall: 0.9706 - fmeasure: 0.9731   \n",
      "Epoch 106/200\n",
      "3830/3830 [==============================] - 126s - loss: 0.0438 - acc: 0.9859 - recall: 0.9830 - fmeasure: 0.9801   \n",
      "Epoch 107/200\n",
      "3830/3830 [==============================] - 128s - loss: 0.0260 - acc: 0.9914 - recall: 0.9880 - fmeasure: 0.9877   \n",
      "Epoch 108/200\n",
      "3830/3830 [==============================] - 126s - loss: 0.0154 - acc: 0.9961 - recall: 0.9956 - fmeasure: 0.9943   \n",
      "Epoch 109/200\n",
      "3830/3830 [==============================] - 126s - loss: 0.0164 - acc: 0.9953 - recall: 0.9938 - fmeasure: 0.9929   \n",
      "Epoch 110/200\n",
      "3830/3830 [==============================] - 126s - loss: 0.0105 - acc: 0.9969 - recall: 0.9964 - fmeasure: 0.9959   \n",
      "Epoch 111/200\n",
      "3830/3830 [==============================] - 129s - loss: 0.0323 - acc: 0.9880 - recall: 0.9848 - fmeasure: 0.9844   \n",
      "Epoch 112/200\n",
      "3830/3830 [==============================] - 127s - loss: 0.0274 - acc: 0.9916 - recall: 0.9896 - fmeasure: 0.9883   \n",
      "Epoch 113/200\n",
      "3830/3830 [==============================] - 126s - loss: 0.0325 - acc: 0.9893 - recall: 0.9863 - fmeasure: 0.9846   \n",
      "Epoch 114/200\n",
      "3830/3830 [==============================] - 126s - loss: 0.0185 - acc: 0.9953 - recall: 0.9963 - fmeasure: 0.9938   \n",
      "Epoch 115/200\n",
      "3830/3830 [==============================] - 127s - loss: 0.0171 - acc: 0.9961 - recall: 0.9921 - fmeasure: 0.9943   \n",
      "Epoch 116/200\n",
      "3830/3830 [==============================] - 129s - loss: 0.0100 - acc: 0.9974 - recall: 0.9961 - fmeasure: 0.9964   \n",
      "Epoch 117/200\n",
      "3830/3830 [==============================] - 127s - loss: 0.0077 - acc: 0.9979 - recall: 0.9966 - fmeasure: 0.9970   \n",
      "Epoch 118/200\n",
      "3830/3830 [==============================] - 128s - loss: 0.0159 - acc: 0.9950 - recall: 0.9933 - fmeasure: 0.9932   \n",
      "Epoch 119/200\n",
      "3830/3830 [==============================] - 127s - loss: 0.0141 - acc: 0.9958 - recall: 0.9928 - fmeasure: 0.9943   \n",
      "Epoch 120/200\n",
      "3830/3830 [==============================] - 127s - loss: 0.0339 - acc: 0.9893 - recall: 0.9886 - fmeasure: 0.9855   \n",
      "Epoch 121/200\n",
      "3830/3830 [==============================] - 126s - loss: 0.0319 - acc: 0.9883 - recall: 0.9833 - fmeasure: 0.9838   \n",
      "Epoch 122/200\n",
      "3830/3830 [==============================] - 126s - loss: 0.0403 - acc: 0.9862 - recall: 0.9827 - fmeasure: 0.9800   \n",
      "Epoch 123/200\n",
      "3830/3830 [==============================] - 130s - loss: 0.0483 - acc: 0.9846 - recall: 0.9760 - fmeasure: 0.9785   \n",
      "Epoch 124/200\n",
      "3830/3830 [==============================] - 126s - loss: 0.0622 - acc: 0.9794 - recall: 0.9732 - fmeasure: 0.9711   \n",
      "Epoch 125/200\n"
     ]
    },
    {
     "name": "stdout",
     "output_type": "stream",
     "text": [
      "3830/3830 [==============================] - 127s - loss: 0.0742 - acc: 0.9773 - recall: 0.9638 - fmeasure: 0.9680   \n",
      "Epoch 126/200\n",
      "3830/3830 [==============================] - 128s - loss: 0.0366 - acc: 0.9885 - recall: 0.9823 - fmeasure: 0.9846   \n",
      "Epoch 127/200\n",
      "3830/3830 [==============================] - 129s - loss: 0.0179 - acc: 0.9937 - recall: 0.9926 - fmeasure: 0.9911   \n",
      "Epoch 128/200\n",
      "3830/3830 [==============================] - 128s - loss: 0.0141 - acc: 0.9950 - recall: 0.9932 - fmeasure: 0.9932   \n",
      "Epoch 129/200\n",
      "3830/3830 [==============================] - 126s - loss: 0.0143 - acc: 0.9953 - recall: 0.9949 - fmeasure: 0.9939   \n",
      "Epoch 130/200\n",
      "3830/3830 [==============================] - 127s - loss: 0.0154 - acc: 0.9948 - recall: 0.9926 - fmeasure: 0.9933   \n",
      "Epoch 131/200\n",
      "3830/3830 [==============================] - 127s - loss: 0.0130 - acc: 0.9961 - recall: 0.9929 - fmeasure: 0.9944   \n",
      "Epoch 132/200\n",
      "3830/3830 [==============================] - 126s - loss: 0.0083 - acc: 0.9971 - recall: 0.9943 - fmeasure: 0.9957   \n",
      "Epoch 133/200\n",
      "3830/3830 [==============================] - 128s - loss: 0.0212 - acc: 0.9932 - recall: 0.9931 - fmeasure: 0.9904   \n",
      "Epoch 134/200\n",
      "3830/3830 [==============================] - 150s - loss: 0.0204 - acc: 0.9937 - recall: 0.9890 - fmeasure: 0.9911   \n",
      "Epoch 135/200\n",
      "3830/3830 [==============================] - 127s - loss: 0.0109 - acc: 0.9966 - recall: 0.9959 - fmeasure: 0.9948   \n",
      "Epoch 136/200\n",
      "3830/3830 [==============================] - 127s - loss: 0.0064 - acc: 0.9977 - recall: 0.9959 - fmeasure: 0.9965   \n",
      "Epoch 137/200\n",
      "3830/3830 [==============================] - 129s - loss: 0.0076 - acc: 0.9974 - recall: 0.9967 - fmeasure: 0.9962   \n",
      "Epoch 138/200\n",
      "3830/3830 [==============================] - 128s - loss: 0.0206 - acc: 0.9922 - recall: 0.9912 - fmeasure: 0.9893   \n",
      "Epoch 139/200\n",
      "3830/3830 [==============================] - 127s - loss: 0.0189 - acc: 0.9935 - recall: 0.9929 - fmeasure: 0.9912   \n",
      "Epoch 140/200\n",
      "3830/3830 [==============================] - 127s - loss: 0.0540 - acc: 0.9807 - recall: 0.9737 - fmeasure: 0.9734   \n",
      "Epoch 141/200\n",
      "3830/3830 [==============================] - 126s - loss: 0.0522 - acc: 0.9828 - recall: 0.9749 - fmeasure: 0.9751   \n",
      "Epoch 142/200\n",
      "3830/3830 [==============================] - 127s - loss: 0.0343 - acc: 0.9890 - recall: 0.9850 - fmeasure: 0.9835   \n",
      "Epoch 143/200\n",
      "3830/3830 [==============================] - 126s - loss: 0.0158 - acc: 0.9945 - recall: 0.9922 - fmeasure: 0.9921   \n",
      "Epoch 144/200\n",
      "3830/3830 [==============================] - 129s - loss: 0.0143 - acc: 0.9969 - recall: 0.9942 - fmeasure: 0.9953   \n",
      "Epoch 145/200\n",
      "3830/3830 [==============================] - 126s - loss: 0.0174 - acc: 0.9953 - recall: 0.9954 - fmeasure: 0.9933   \n",
      "Epoch 146/200\n",
      "3830/3830 [==============================] - 127s - loss: 0.0084 - acc: 0.9987 - recall: 0.9993 - fmeasure: 0.9978   \n",
      "Epoch 147/200\n",
      "3830/3830 [==============================] - 128s - loss: 0.0076 - acc: 0.9979 - recall: 0.9960 - fmeasure: 0.9969   \n",
      "Epoch 148/200\n",
      "3830/3830 [==============================] - 127s - loss: 0.0181 - acc: 0.9945 - recall: 0.9951 - fmeasure: 0.9928   \n",
      "Epoch 149/200\n",
      "3830/3830 [==============================] - 127s - loss: 0.0159 - acc: 0.9945 - recall: 0.9918 - fmeasure: 0.9930   \n",
      "Epoch 150/200\n",
      "3830/3830 [==============================] - 127s - loss: 0.0215 - acc: 0.9943 - recall: 0.9910 - fmeasure: 0.9915   \n",
      "Epoch 151/200\n",
      "3830/3830 [==============================] - 127s - loss: 0.0243 - acc: 0.9914 - recall: 0.9867 - fmeasure: 0.9879   \n",
      "Epoch 152/200\n",
      "3830/3830 [==============================] - 126s - loss: 0.0336 - acc: 0.9888 - recall: 0.9826 - fmeasure: 0.9841   \n",
      "Epoch 153/200\n",
      "3830/3830 [==============================] - 126s - loss: 0.0353 - acc: 0.9872 - recall: 0.9824 - fmeasure: 0.9835   \n",
      "Epoch 154/200\n",
      "3830/3830 [==============================] - 131s - loss: 0.0125 - acc: 0.9958 - recall: 0.9957 - fmeasure: 0.9948   \n",
      "Epoch 155/200\n",
      "3830/3830 [==============================] - 127s - loss: 0.0076 - acc: 0.9979 - recall: 0.9966 - fmeasure: 0.9971   \n",
      "Epoch 156/200\n",
      "3830/3830 [==============================] - 126s - loss: 0.0077 - acc: 0.9977 - recall: 0.9963 - fmeasure: 0.9966   \n",
      "Epoch 157/200\n",
      "3830/3830 [==============================] - 126s - loss: 0.0086 - acc: 0.9974 - recall: 0.9974 - fmeasure: 0.9958   \n",
      "Epoch 158/200\n",
      "3830/3830 [==============================] - 128s - loss: 0.0121 - acc: 0.9969 - recall: 0.9953 - fmeasure: 0.9961   \n",
      "Epoch 159/200\n",
      "3830/3830 [==============================] - 127s - loss: 0.0142 - acc: 0.9950 - recall: 0.9910 - fmeasure: 0.9932   \n",
      "Epoch 160/200\n",
      "3830/3830 [==============================] - 126s - loss: 0.0247 - acc: 0.9916 - recall: 0.9844 - fmeasure: 0.9875   \n",
      "Epoch 161/200\n",
      "3830/3830 [==============================] - 127s - loss: 0.0402 - acc: 0.9872 - recall: 0.9824 - fmeasure: 0.9817   \n",
      "Epoch 162/200\n",
      "3830/3830 [==============================] - 126s - loss: 0.0253 - acc: 0.9914 - recall: 0.9902 - fmeasure: 0.9871   \n",
      "Epoch 163/200\n",
      "3830/3830 [==============================] - 126s - loss: 0.0178 - acc: 0.9930 - recall: 0.9905 - fmeasure: 0.9905   \n",
      "Epoch 164/200\n",
      "3830/3830 [==============================] - 127s - loss: 0.0222 - acc: 0.9922 - recall: 0.9891 - fmeasure: 0.9893   \n",
      "Epoch 165/200\n",
      "3830/3830 [==============================] - 128s - loss: 0.0246 - acc: 0.9924 - recall: 0.9873 - fmeasure: 0.9898   \n",
      "Epoch 166/200\n",
      "3830/3830 [==============================] - 126s - loss: 0.0217 - acc: 0.9911 - recall: 0.9896 - fmeasure: 0.9880   \n",
      "Epoch 167/200\n",
      "3830/3830 [==============================] - 126s - loss: 0.0391 - acc: 0.9867 - recall: 0.9819 - fmeasure: 0.9822   \n",
      "Epoch 168/200\n",
      "3830/3830 [==============================] - 131s - loss: 0.0135 - acc: 0.9958 - recall: 0.9934 - fmeasure: 0.9944   \n",
      "Epoch 169/200\n",
      "3830/3830 [==============================] - 127s - loss: 0.0149 - acc: 0.9953 - recall: 0.9909 - fmeasure: 0.9925   \n",
      "Epoch 170/200\n",
      "3830/3830 [==============================] - 126s - loss: 0.0108 - acc: 0.9958 - recall: 0.9952 - fmeasure: 0.9942   \n",
      "Epoch 171/200\n",
      "3830/3830 [==============================] - 127s - loss: 0.0057 - acc: 0.9990 - recall: 0.9971 - fmeasure: 0.9985   \n",
      "Epoch 172/200\n",
      "3830/3830 [==============================] - 127s - loss: 0.0047 - acc: 0.9987 - recall: 0.9985 - fmeasure: 0.9981   \n",
      "Epoch 173/200\n",
      "3830/3830 [==============================] - 127s - loss: 0.0084 - acc: 0.9979 - recall: 0.9971 - fmeasure: 0.9970   \n",
      "Epoch 174/200\n",
      "3830/3830 [==============================] - 126s - loss: 0.0121 - acc: 0.9966 - recall: 0.9948 - fmeasure: 0.9947   \n",
      "Epoch 175/200\n",
      "3830/3830 [==============================] - 127s - loss: 0.0206 - acc: 0.9935 - recall: 0.9927 - fmeasure: 0.9910   \n",
      "Epoch 176/200\n",
      "3830/3830 [==============================] - 125s - loss: 0.0164 - acc: 0.9937 - recall: 0.9909 - fmeasure: 0.9913   \n",
      "Epoch 177/200\n",
      "3830/3830 [==============================] - 126s - loss: 0.0051 - acc: 0.9990 - recall: 0.9973 - fmeasure: 0.9986   \n",
      "Epoch 178/200\n",
      "3830/3830 [==============================] - 127s - loss: 0.0111 - acc: 0.9958 - recall: 0.9948 - fmeasure: 0.9940   \n",
      "Epoch 179/200\n",
      "3830/3830 [==============================] - 142s - loss: 0.0179 - acc: 0.9943 - recall: 0.9923 - fmeasure: 0.9917   \n",
      "Epoch 180/200\n",
      "3830/3830 [==============================] - 128s - loss: 0.0242 - acc: 0.9909 - recall: 0.9882 - fmeasure: 0.9870   \n",
      "Epoch 181/200\n",
      "3830/3830 [==============================] - 126s - loss: 0.0426 - acc: 0.9851 - recall: 0.9778 - fmeasure: 0.9793   \n",
      "Epoch 182/200\n",
      "3830/3830 [==============================] - 128s - loss: 0.0324 - acc: 0.9898 - recall: 0.9815 - fmeasure: 0.9855   \n",
      "Epoch 183/200\n",
      "3830/3830 [==============================] - 126s - loss: 0.0191 - acc: 0.9937 - recall: 0.9932 - fmeasure: 0.9915   \n",
      "Epoch 184/200\n",
      "3830/3830 [==============================] - 126s - loss: 0.0304 - acc: 0.9885 - recall: 0.9815 - fmeasure: 0.9841   \n",
      "Epoch 185/200\n",
      "3830/3830 [==============================] - 126s - loss: 0.0295 - acc: 0.9896 - recall: 0.9854 - fmeasure: 0.9856   \n",
      "Epoch 186/200\n",
      "3830/3830 [==============================] - 126s - loss: 0.0123 - acc: 0.9958 - recall: 0.9941 - fmeasure: 0.9942   \n",
      "Epoch 187/200\n"
     ]
    },
    {
     "name": "stdout",
     "output_type": "stream",
     "text": [
      "3830/3830 [==============================] - 125s - loss: 0.0093 - acc: 0.9979 - recall: 0.9971 - fmeasure: 0.9966   \n",
      "Epoch 188/200\n",
      "3830/3830 [==============================] - 125s - loss: 0.0071 - acc: 0.9982 - recall: 0.9982 - fmeasure: 0.9977   \n",
      "Epoch 189/200\n",
      "3830/3830 [==============================] - 127s - loss: 0.0231 - acc: 0.9922 - recall: 0.9919 - fmeasure: 0.9892   \n",
      "Epoch 190/200\n",
      "3830/3830 [==============================] - 126s - loss: 0.0262 - acc: 0.9909 - recall: 0.9898 - fmeasure: 0.9880   \n",
      "Epoch 191/200\n",
      "3830/3830 [==============================] - 126s - loss: 0.0292 - acc: 0.9916 - recall: 0.9877 - fmeasure: 0.9879   \n",
      "Epoch 192/200\n",
      "3830/3830 [==============================] - 126s - loss: 0.0126 - acc: 0.9963 - recall: 0.9966 - fmeasure: 0.9955   \n",
      "Epoch 193/200\n",
      "3830/3830 [==============================] - 126s - loss: 0.0110 - acc: 0.9958 - recall: 0.9931 - fmeasure: 0.9940   \n",
      "Epoch 194/200\n",
      "3830/3830 [==============================] - 129s - loss: 0.0171 - acc: 0.9943 - recall: 0.9886 - fmeasure: 0.9920   \n",
      "Epoch 195/200\n",
      "3830/3830 [==============================] - 126s - loss: 0.0110 - acc: 0.9963 - recall: 0.9944 - fmeasure: 0.9952   \n",
      "Epoch 196/200\n",
      "3830/3830 [==============================] - 130s - loss: 0.0114 - acc: 0.9961 - recall: 0.9922 - fmeasure: 0.9943   \n",
      "Epoch 197/200\n",
      "3830/3830 [==============================] - 130s - loss: 0.0106 - acc: 0.9963 - recall: 0.9970 - fmeasure: 0.9954   \n",
      "Epoch 198/200\n",
      "3830/3830 [==============================] - 127s - loss: 0.0053 - acc: 0.9987 - recall: 0.9980 - fmeasure: 0.9984   \n",
      "Epoch 199/200\n",
      "3830/3830 [==============================] - 127s - loss: 0.0119 - acc: 0.9963 - recall: 0.9963 - fmeasure: 0.9955   \n",
      "Epoch 200/200\n",
      "3830/3830 [==============================] - 127s - loss: 0.0186 - acc: 0.9922 - recall: 0.9887 - fmeasure: 0.9892   \n"
     ]
    }
   ],
   "source": [
    "history = model.fit(X, Y, epochs=200, batch_size=32, verbose=1)"
   ]
  },
  {
   "cell_type": "code",
   "execution_count": 88,
   "metadata": {},
   "outputs": [
    {
     "data": {
      "text/plain": [
       "[<matplotlib.lines.Line2D at 0x22202d61da0>]"
      ]
     },
     "execution_count": 88,
     "metadata": {},
     "output_type": "execute_result"
    },
    {
     "data": {
      "image/png": "[encoded data removed]",
      "text/plain": [
       "<matplotlib.figure.Figure at 0x22202d61630>"
      ]
     },
     "metadata": {},
     "output_type": "display_data"
    }
   ],
   "source": [
    "plt.plot(history.history['fmeasure'])\n",
    "plt.plot(history.history['recall'])"
   ]
  },
  {
   "cell_type": "code",
   "execution_count": 172,
   "metadata": {
    "scrolled": true
   },
   "outputs": [
    {
     "name": "stdout",
     "output_type": "stream",
     "text": [
      "3354/3354 [==============================] - 32s    \n",
      "\n",
      "Test score: [2.0653310151205364, 0.63029218853835056, 0.50379585864363363, 0.50160900396325436]\n"
     ]
    }
   ],
   "source": [
    "score = model.evaluate(X, Y, batch_size=32)\n",
    "print('\\nTest score:', score)"
   ]
  },
  {
   "cell_type": "code",
   "execution_count": 43,
   "metadata": {},
   "outputs": [
    {
     "data": {
      "text/plain": [
       "'downtrend'"
      ]
     },
     "execution_count": 43,
     "metadata": {},
     "output_type": "execute_result"
    }
   ],
   "source": [
    "model.name"
   ]
  },
  {
   "cell_type": "code",
   "execution_count": 54,
   "metadata": {},
   "outputs": [],
   "source": [
    "model.save(savefile)"
   ]
  },
  {
   "cell_type": "markdown",
   "metadata": {},
   "source": [
    "### 4. Verification - ROC curve"
   ]
  },
  {
   "cell_type": "code",
   "execution_count": 86,
   "metadata": {},
   "outputs": [
    {
     "name": "stdout",
     "output_type": "stream",
     "text": [
      "2100/2100 [==============================] - 20s    \n"
     ]
    }
   ],
   "source": [
    "predic = model.predict(X, verbose=1)"
   ]
  },
  {
   "cell_type": "code",
   "execution_count": 87,
   "metadata": {
    "collapsed": true
   },
   "outputs": [],
   "source": [
    "pred = predic.squeeze()\n",
    "pred = np.where(pred>0.5, 1, 0)"
   ]
  },
  {
   "cell_type": "code",
   "execution_count": 88,
   "metadata": {},
   "outputs": [
    {
     "data": {
      "text/plain": [
       "Counter({0: 1525, 1: 575})"
      ]
     },
     "execution_count": 88,
     "metadata": {},
     "output_type": "execute_result"
    }
   ],
   "source": [
    "Counter(pred)"
   ]
  },
  {
   "cell_type": "code",
   "execution_count": 89,
   "metadata": {},
   "outputs": [
    {
     "data": {
      "text/plain": [
       "Counter({0: 1752, 1: 348})"
      ]
     },
     "execution_count": 89,
     "metadata": {},
     "output_type": "execute_result"
    }
   ],
   "source": [
    "Counter(Y)"
   ]
  },
  {
   "cell_type": "code",
   "execution_count": 90,
   "metadata": {},
   "outputs": [
    {
     "data": {
      "text/plain": [
       "0.7518959913326112"
      ]
     },
     "execution_count": 90,
     "metadata": {},
     "output_type": "execute_result"
    }
   ],
   "source": [
    "f1_score(Y,pred) "
   ]
  },
  {
   "cell_type": "code",
   "execution_count": 91,
   "metadata": {},
   "outputs": [
    {
     "data": {
      "text/plain": [
       "Counter({0: 228, 1: 347})"
      ]
     },
     "execution_count": 91,
     "metadata": {},
     "output_type": "execute_result"
    }
   ],
   "source": [
    "ids = np.where(pred==1)\n",
    "Counter(Y[ids])"
   ]
  },
  {
   "cell_type": "code",
   "execution_count": 69,
   "metadata": {
    "collapsed": true
   },
   "outputs": [],
   "source": [
    "ids = np.where(pred==0)[0]"
   ]
  },
  {
   "cell_type": "code",
   "execution_count": 70,
   "metadata": {},
   "outputs": [
    {
     "data": {
      "text/plain": [
       "(1567,)"
      ]
     },
     "execution_count": 70,
     "metadata": {},
     "output_type": "execute_result"
    }
   ],
   "source": [
    "ids.shape"
   ]
  },
  {
   "cell_type": "code",
   "execution_count": 180,
   "metadata": {},
   "outputs": [
    {
     "ename": "NameError",
     "evalue": "name 'real' is not defined",
     "output_type": "error",
     "traceback": [
      "\u001b[1;31m---------------------------------------------------------------------------\u001b[0m",
      "\u001b[1;31mNameError\u001b[0m                                 Traceback (most recent call last)",
      "\u001b[1;32m<ipython-input-180-0c47ebbd5adf>\u001b[0m in \u001b[0;36m<module>\u001b[1;34m()\u001b[0m\n\u001b[1;32m----> 1\u001b[1;33m \u001b[0mCounter\u001b[0m\u001b[1;33m(\u001b[0m\u001b[0mreal\u001b[0m\u001b[1;33m[\u001b[0m\u001b[0mids\u001b[0m\u001b[1;33m]\u001b[0m\u001b[1;33m)\u001b[0m\u001b[1;33m\u001b[0m\u001b[0m\n\u001b[0m",
      "\u001b[1;31mNameError\u001b[0m: name 'real' is not defined"
     ]
    }
   ],
   "source": [
    "Counter(real[ids])"
   ]
  },
  {
   "cell_type": "code",
   "execution_count": 71,
   "metadata": {},
   "outputs": [
    {
     "data": {
      "text/plain": [
       "Counter({0: 1567, 1: 479})"
      ]
     },
     "execution_count": 71,
     "metadata": {},
     "output_type": "execute_result"
    }
   ],
   "source": [
    "Counter(pred)"
   ]
  },
  {
   "cell_type": "code",
   "execution_count": 92,
   "metadata": {
    "collapsed": true,
    "scrolled": true
   },
   "outputs": [],
   "source": [
    "# Compute ROC curve and ROC area for each class\n",
    "fpr, tpr, _ = roc_curve(Y, predic, pos_label=1)\n",
    "roc_auc = auc(fpr, tpr)\n",
    "\n",
    "# Compute micro-average ROC curve and ROC area\n",
    "#fpr[\"micro\"], tpr[\"micro\"], _ = roc_curve(y_test.ravel(), y_score.ravel())\n",
    "#roc_auc[\"micro\"] = auc(fpr[\"micro\"], tpr[\"micro\"])"
   ]
  },
  {
   "cell_type": "code",
   "execution_count": 93,
   "metadata": {},
   "outputs": [
    {
     "data": {
      "image/png": "[encoded data removed]",
      "text/plain": [
       "<matplotlib.figure.Figure at 0x1e87c2f86a0>"
      ]
     },
     "metadata": {},
     "output_type": "display_data"
    }
   ],
   "source": [
    "plt.figure()\n",
    "lw = 2\n",
    "plt.plot(fpr, tpr, color='darkorange', lw=lw, label='ROC curve (area = %0.2f)' % roc_auc)\n",
    "plt.plot([0, 1], [0, 1], color='navy', lw=lw, linestyle='--')\n",
    "plt.xlim([0.0, 1.0])\n",
    "plt.ylim([0.0, 1.05])\n",
    "plt.xlabel('False Positive Rate')\n",
    "plt.ylabel('True Positive Rate')\n",
    "plt.title('Receiver operating characteristic example')\n",
    "plt.legend(loc=\"lower right\")\n",
    "plt.show()"
   ]
  },
  {
   "cell_type": "markdown",
   "metadata": {
    "collapsed": true
   },
   "source": [
    "### 5. Verification - Real Data"
   ]
  },
  {
   "cell_type": "code",
   "execution_count": 9,
   "metadata": {
    "collapsed": true
   },
   "outputs": [],
   "source": [
    "model = load_model(savefile, custom_objects={'matthews_correlation': matthews_correlation, 'recall': recall, 'fmeasure':fmeasure})"
   ]
  },
  {
   "cell_type": "code",
   "execution_count": 159,
   "metadata": {
    "collapsed": true
   },
   "outputs": [],
   "source": [
    "import time"
   ]
  },
  {
   "cell_type": "code",
   "execution_count": 183,
   "metadata": {
    "scrolled": true
   },
   "outputs": [
    {
     "name": "stdout",
     "output_type": "stream",
     "text": [
      "Predic:  [  7.57106989e-07]\n",
      "Real:  0.0\n"
     ]
    },
    {
     "data": {
      "image/png": "[encoded data removed]",
      "text/plain": [
       "<matplotlib.figure.Figure at 0x22206b68fd0>"
      ]
     },
     "metadata": {},
     "output_type": "display_data"
    },
    {
     "name": "stdout",
     "output_type": "stream",
     "text": [
      "q\n"
     ]
    }
   ],
   "source": [
    "while True:\n",
    "    file = np.random.choice(FILES[:20])\n",
    "    raw_data = pd.DataFrame(file.value, \n",
    "                            columns=['open','high','low','close','trend'])\n",
    "    trend = raw_data['trend']\n",
    "    raw_data.drop('trend',axis=1, inplace=True)\n",
    "    \n",
    "    raw_data['ema5'] = raw_data.close/raw_data.close.ewm(span=5).mean()\n",
    "    raw_data['ema20']= raw_data.close/raw_data.close.ewm(span=20).mean()\n",
    "    raw_data['ema60']= raw_data.close/raw_data.close.ewm(span=60).mean()\n",
    "    raw_data['ema120']= raw_data.close/raw_data.close.ewm(span=120).mean()\n",
    "\n",
    "    start = np.random.randint(0, len(raw_data)-seq_length-trend_period-window)\n",
    "    endseq = start + seq_length\n",
    "    endtrend = endseq + trend_period \n",
    "    \n",
    "    seq_data = raw_data[start:start+seq_length+window]\n",
    "    \n",
    "    normed = norm(seq_data, ntype='zscore')\n",
    "    seq=[]\n",
    "    for k in range(window, seq_length+window):\n",
    "        seq.append(normed[k-window:k].values)\n",
    "    \n",
    "    #normed['ema5'] = raw_data.ema5[start:endseq]\n",
    "    #normed['ema20'] = raw_data.ema20[start:endseq]\n",
    "    #normed['ema60'] = raw_data.ema60[start:endseq]\n",
    "    #normed['trend'] = seq_data['trend']\n",
    "    predic = model.predict(np.array([seq]))[0]\n",
    "    \n",
    "    print(\"Predic: \", predic)\n",
    "    #print(\"Predic:\", predic.argmax())\n",
    "    print(\"Real: \", trend.iloc[start+seq_length+window+trend_period]-1)\n",
    "    \n",
    "    plt.figure()\n",
    "    plt.plot(raw_data.close[start:start+seq_length+window+trend_period])\n",
    "    plt.axvspan(start+seq_length+window,start+seq_length+window+trend_period, facecolor='y', alpha=0.3)\n",
    "    plt.show()\n",
    "    #fig, (ax) = plt.subplots(1,2, figsize=(20,5))\n",
    "    \n",
    "    #ax[0].plot(test_x[i,:,3])\n",
    "    #ax[1].plot(test_x[i+60,:,3])\n",
    "    #ax[1].axvspan(120,180, facecolor='y', alpha=0.3 )\n",
    "    #plt.show()\n",
    "    #time.sleep(0.1)\n",
    "    key = input()\n",
    "    if key == 'q':\n",
    "        break\n",
    "    clear_output(wait=True)"
   ]
  },
  {
   "cell_type": "code",
   "execution_count": 308,
   "metadata": {
    "scrolled": true
   },
   "outputs": [
    {
     "data": {
      "text/plain": [
       "314"
      ]
     },
     "execution_count": 308,
     "metadata": {},
     "output_type": "execute_result"
    }
   ],
   "source": [
    "start"
   ]
  },
  {
   "cell_type": "code",
   "execution_count": 109,
   "metadata": {},
   "outputs": [
    {
     "name": "stderr",
     "output_type": "stream",
     "text": [
      "C:\\Python\\Miniconda64\\lib\\site-packages\\ipykernel_launcher.py:1: FutureWarning: pd.ewm_mean is deprecated for Series and will be removed in a future version, replace with \n",
      "\tSeries.ewm(span=10,min_periods=0,adjust=True,ignore_na=False).mean()\n",
      "  \"\"\"Entry point for launching an IPython kernel.\n"
     ]
    },
    {
     "data": {
      "text/plain": [
       "3.33612269013754"
      ]
     },
     "execution_count": 109,
     "metadata": {},
     "output_type": "execute_result"
    }
   ],
   "source": [
    "pd.ewma(raw_data.close, span=10).mean()"
   ]
  },
  {
   "cell_type": "code",
   "execution_count": 164,
   "metadata": {},
   "outputs": [
    {
     "data": {
      "text/plain": [
       "(240, 20, 8)"
      ]
     },
     "execution_count": 164,
     "metadata": {},
     "output_type": "execute_result"
    }
   ],
   "source": [
    "np.array(seq).shape"
   ]
  },
  {
   "cell_type": "code",
   "execution_count": 112,
   "metadata": {},
   "outputs": [
    {
     "data": {
      "text/html": [
       "<div>\n",
       "<style>\n",
       "    .dataframe thead tr:only-child th {\n",
       "        text-align: right;\n",
       "    }\n",
       "\n",
       "    .dataframe thead th {\n",
       "        text-align: left;\n",
       "    }\n",
       "\n",
       "    .dataframe tbody tr th {\n",
       "        vertical-align: top;\n",
       "    }\n",
       "</style>\n",
       "<table border=\"1\" class=\"dataframe\">\n",
       "  <thead>\n",
       "    <tr style=\"text-align: right;\">\n",
       "      <th></th>\n",
       "      <th>open</th>\n",
       "      <th>high</th>\n",
       "      <th>low</th>\n",
       "      <th>close</th>\n",
       "      <th>downtrend</th>\n",
       "      <th>uptrend</th>\n",
       "      <th>ema</th>\n",
       "    </tr>\n",
       "  </thead>\n",
       "  <tbody>\n",
       "    <tr>\n",
       "      <th>0</th>\n",
       "      <td>1.4960</td>\n",
       "      <td>1.4980</td>\n",
       "      <td>1.4740</td>\n",
       "      <td>1.4870</td>\n",
       "      <td>2.739136e-04</td>\n",
       "      <td>8.848447e-01</td>\n",
       "      <td>1.487000</td>\n",
       "    </tr>\n",
       "    <tr>\n",
       "      <th>1</th>\n",
       "      <td>1.4890</td>\n",
       "      <td>1.4900</td>\n",
       "      <td>1.4570</td>\n",
       "      <td>1.4645</td>\n",
       "      <td>1.595031e-05</td>\n",
       "      <td>5.139159e-03</td>\n",
       "      <td>1.474625</td>\n",
       "    </tr>\n",
       "    <tr>\n",
       "      <th>2</th>\n",
       "      <td>1.4540</td>\n",
       "      <td>1.4630</td>\n",
       "      <td>1.4270</td>\n",
       "      <td>1.4595</td>\n",
       "      <td>1.839598e-04</td>\n",
       "      <td>8.178793e-01</td>\n",
       "      <td>1.468545</td>\n",
       "    </tr>\n",
       "    <tr>\n",
       "      <th>3</th>\n",
       "      <td>1.4560</td>\n",
       "      <td>1.4590</td>\n",
       "      <td>1.4390</td>\n",
       "      <td>1.4465</td>\n",
       "      <td>2.277036e-04</td>\n",
       "      <td>7.696805e-03</td>\n",
       "      <td>1.461282</td>\n",
       "    </tr>\n",
       "    <tr>\n",
       "      <th>4</th>\n",
       "      <td>1.4530</td>\n",
       "      <td>1.4720</td>\n",
       "      <td>1.4500</td>\n",
       "      <td>1.4595</td>\n",
       "      <td>9.120651e-04</td>\n",
       "      <td>4.928198e-05</td>\n",
       "      <td>1.460770</td>\n",
       "    </tr>\n",
       "    <tr>\n",
       "      <th>5</th>\n",
       "      <td>1.4570</td>\n",
       "      <td>1.4650</td>\n",
       "      <td>1.4440</td>\n",
       "      <td>1.4590</td>\n",
       "      <td>7.089793e-06</td>\n",
       "      <td>1.495185e-06</td>\n",
       "      <td>1.460311</td>\n",
       "    </tr>\n",
       "    <tr>\n",
       "      <th>6</th>\n",
       "      <td>1.4530</td>\n",
       "      <td>1.4580</td>\n",
       "      <td>1.4420</td>\n",
       "      <td>1.4580</td>\n",
       "      <td>3.719399e-04</td>\n",
       "      <td>1.358987e-07</td>\n",
       "      <td>1.459754</td>\n",
       "    </tr>\n",
       "    <tr>\n",
       "      <th>7</th>\n",
       "      <td>1.4670</td>\n",
       "      <td>1.4990</td>\n",
       "      <td>1.4550</td>\n",
       "      <td>1.4960</td>\n",
       "      <td>1.779208e-03</td>\n",
       "      <td>1.010162e-06</td>\n",
       "      <td>1.468000</td>\n",
       "    </tr>\n",
       "    <tr>\n",
       "      <th>8</th>\n",
       "      <td>1.4890</td>\n",
       "      <td>1.4950</td>\n",
       "      <td>1.4790</td>\n",
       "      <td>1.4935</td>\n",
       "      <td>9.425099e-07</td>\n",
       "      <td>2.659535e-06</td>\n",
       "      <td>1.473548</td>\n",
       "    </tr>\n",
       "    <tr>\n",
       "      <th>9</th>\n",
       "      <td>1.4970</td>\n",
       "      <td>1.5190</td>\n",
       "      <td>1.4960</td>\n",
       "      <td>1.5105</td>\n",
       "      <td>6.485791e-06</td>\n",
       "      <td>3.234991e-05</td>\n",
       "      <td>1.481310</td>\n",
       "    </tr>\n",
       "    <tr>\n",
       "      <th>10</th>\n",
       "      <td>1.5210</td>\n",
       "      <td>1.5305</td>\n",
       "      <td>1.5195</td>\n",
       "      <td>1.5295</td>\n",
       "      <td>6.631651e-08</td>\n",
       "      <td>1.746470e-04</td>\n",
       "      <td>1.491155</td>\n",
       "    </tr>\n",
       "    <tr>\n",
       "      <th>11</th>\n",
       "      <td>1.5205</td>\n",
       "      <td>1.5225</td>\n",
       "      <td>1.5015</td>\n",
       "      <td>1.5210</td>\n",
       "      <td>1.320311e-05</td>\n",
       "      <td>1.880560e-03</td>\n",
       "      <td>1.497118</td>\n",
       "    </tr>\n",
       "    <tr>\n",
       "      <th>12</th>\n",
       "      <td>1.5185</td>\n",
       "      <td>1.5755</td>\n",
       "      <td>1.5065</td>\n",
       "      <td>1.5665</td>\n",
       "      <td>3.268353e-06</td>\n",
       "      <td>1.135515e-03</td>\n",
       "      <td>1.510735</td>\n",
       "    </tr>\n",
       "    <tr>\n",
       "      <th>13</th>\n",
       "      <td>1.5575</td>\n",
       "      <td>1.5705</td>\n",
       "      <td>1.5575</td>\n",
       "      <td>1.5680</td>\n",
       "      <td>2.128244e-07</td>\n",
       "      <td>2.472214e-03</td>\n",
       "      <td>1.521814</td>\n",
       "    </tr>\n",
       "    <tr>\n",
       "      <th>14</th>\n",
       "      <td>1.5815</td>\n",
       "      <td>1.5825</td>\n",
       "      <td>1.5605</td>\n",
       "      <td>1.5695</td>\n",
       "      <td>1.903796e-07</td>\n",
       "      <td>6.062827e-01</td>\n",
       "      <td>1.530934</td>\n",
       "    </tr>\n",
       "    <tr>\n",
       "      <th>15</th>\n",
       "      <td>1.5625</td>\n",
       "      <td>1.5765</td>\n",
       "      <td>1.5535</td>\n",
       "      <td>1.5755</td>\n",
       "      <td>1.006916e-09</td>\n",
       "      <td>9.902816e-01</td>\n",
       "      <td>1.539377</td>\n",
       "    </tr>\n",
       "    <tr>\n",
       "      <th>16</th>\n",
       "      <td>1.5675</td>\n",
       "      <td>1.5685</td>\n",
       "      <td>1.5365</td>\n",
       "      <td>1.5605</td>\n",
       "      <td>3.944575e-11</td>\n",
       "      <td>9.999866e-01</td>\n",
       "      <td>1.543349</td>\n",
       "    </tr>\n",
       "    <tr>\n",
       "      <th>17</th>\n",
       "      <td>1.5565</td>\n",
       "      <td>1.5675</td>\n",
       "      <td>1.5245</td>\n",
       "      <td>1.5665</td>\n",
       "      <td>2.879834e-09</td>\n",
       "      <td>9.882344e-01</td>\n",
       "      <td>1.547675</td>\n",
       "    </tr>\n",
       "    <tr>\n",
       "      <th>18</th>\n",
       "      <td>1.5765</td>\n",
       "      <td>1.5835</td>\n",
       "      <td>1.5695</td>\n",
       "      <td>1.5790</td>\n",
       "      <td>4.537761e-11</td>\n",
       "      <td>9.999958e-01</td>\n",
       "      <td>1.553499</td>\n",
       "    </tr>\n",
       "    <tr>\n",
       "      <th>19</th>\n",
       "      <td>1.5695</td>\n",
       "      <td>1.5745</td>\n",
       "      <td>1.5385</td>\n",
       "      <td>1.5450</td>\n",
       "      <td>4.153626e-11</td>\n",
       "      <td>9.999989e-01</td>\n",
       "      <td>1.551925</td>\n",
       "    </tr>\n",
       "    <tr>\n",
       "      <th>20</th>\n",
       "      <td>1.5325</td>\n",
       "      <td>1.5635</td>\n",
       "      <td>1.5305</td>\n",
       "      <td>1.5575</td>\n",
       "      <td>8.815822e-10</td>\n",
       "      <td>9.999956e-01</td>\n",
       "      <td>1.552954</td>\n",
       "    </tr>\n",
       "    <tr>\n",
       "      <th>21</th>\n",
       "      <td>1.5495</td>\n",
       "      <td>1.5665</td>\n",
       "      <td>1.5485</td>\n",
       "      <td>1.5565</td>\n",
       "      <td>6.990912e-10</td>\n",
       "      <td>9.999979e-01</td>\n",
       "      <td>1.553607</td>\n",
       "    </tr>\n",
       "    <tr>\n",
       "      <th>22</th>\n",
       "      <td>1.5685</td>\n",
       "      <td>1.5875</td>\n",
       "      <td>1.5675</td>\n",
       "      <td>1.5745</td>\n",
       "      <td>1.478605e-07</td>\n",
       "      <td>9.967276e-01</td>\n",
       "      <td>1.557443</td>\n",
       "    </tr>\n",
       "    <tr>\n",
       "      <th>23</th>\n",
       "      <td>1.5695</td>\n",
       "      <td>1.5845</td>\n",
       "      <td>1.5625</td>\n",
       "      <td>1.5770</td>\n",
       "      <td>1.471559e-05</td>\n",
       "      <td>9.580571e-01</td>\n",
       "      <td>1.561028</td>\n",
       "    </tr>\n",
       "    <tr>\n",
       "      <th>24</th>\n",
       "      <td>1.5955</td>\n",
       "      <td>1.6015</td>\n",
       "      <td>1.5745</td>\n",
       "      <td>1.5800</td>\n",
       "      <td>2.418728e-09</td>\n",
       "      <td>9.995529e-01</td>\n",
       "      <td>1.564501</td>\n",
       "    </tr>\n",
       "    <tr>\n",
       "      <th>25</th>\n",
       "      <td>1.5755</td>\n",
       "      <td>1.5895</td>\n",
       "      <td>1.5575</td>\n",
       "      <td>1.5840</td>\n",
       "      <td>1.713863e-07</td>\n",
       "      <td>9.975941e-01</td>\n",
       "      <td>1.568065</td>\n",
       "    </tr>\n",
       "    <tr>\n",
       "      <th>26</th>\n",
       "      <td>1.5685</td>\n",
       "      <td>1.5790</td>\n",
       "      <td>1.5555</td>\n",
       "      <td>1.5765</td>\n",
       "      <td>2.219124e-07</td>\n",
       "      <td>9.999609e-01</td>\n",
       "      <td>1.569606</td>\n",
       "    </tr>\n",
       "    <tr>\n",
       "      <th>27</th>\n",
       "      <td>1.5575</td>\n",
       "      <td>1.5745</td>\n",
       "      <td>1.5365</td>\n",
       "      <td>1.5595</td>\n",
       "      <td>9.824887e-06</td>\n",
       "      <td>9.934110e-01</td>\n",
       "      <td>1.567762</td>\n",
       "    </tr>\n",
       "    <tr>\n",
       "      <th>28</th>\n",
       "      <td>1.5615</td>\n",
       "      <td>1.5635</td>\n",
       "      <td>1.5355</td>\n",
       "      <td>1.5510</td>\n",
       "      <td>2.068904e-03</td>\n",
       "      <td>5.499061e-01</td>\n",
       "      <td>1.564705</td>\n",
       "    </tr>\n",
       "    <tr>\n",
       "      <th>29</th>\n",
       "      <td>1.5635</td>\n",
       "      <td>1.5855</td>\n",
       "      <td>1.5565</td>\n",
       "      <td>1.5710</td>\n",
       "      <td>7.238604e-05</td>\n",
       "      <td>9.317113e-01</td>\n",
       "      <td>1.565852</td>\n",
       "    </tr>\n",
       "    <tr>\n",
       "      <th>...</th>\n",
       "      <td>...</td>\n",
       "      <td>...</td>\n",
       "      <td>...</td>\n",
       "      <td>...</td>\n",
       "      <td>...</td>\n",
       "      <td>...</td>\n",
       "      <td>...</td>\n",
       "    </tr>\n",
       "    <tr>\n",
       "      <th>2448</th>\n",
       "      <td>3.1245</td>\n",
       "      <td>3.1345</td>\n",
       "      <td>3.0965</td>\n",
       "      <td>3.1130</td>\n",
       "      <td>4.389160e-03</td>\n",
       "      <td>8.367720e-06</td>\n",
       "      <td>3.104722</td>\n",
       "    </tr>\n",
       "    <tr>\n",
       "      <th>2449</th>\n",
       "      <td>3.1100</td>\n",
       "      <td>3.1165</td>\n",
       "      <td>3.0665</td>\n",
       "      <td>3.0755</td>\n",
       "      <td>5.554629e-07</td>\n",
       "      <td>1.039254e-06</td>\n",
       "      <td>3.099409</td>\n",
       "    </tr>\n",
       "    <tr>\n",
       "      <th>2450</th>\n",
       "      <td>3.0765</td>\n",
       "      <td>3.1230</td>\n",
       "      <td>3.0635</td>\n",
       "      <td>3.1185</td>\n",
       "      <td>1.033601e-05</td>\n",
       "      <td>1.904854e-06</td>\n",
       "      <td>3.102880</td>\n",
       "    </tr>\n",
       "    <tr>\n",
       "      <th>2451</th>\n",
       "      <td>3.1065</td>\n",
       "      <td>3.1120</td>\n",
       "      <td>3.0745</td>\n",
       "      <td>3.0930</td>\n",
       "      <td>2.994391e-06</td>\n",
       "      <td>1.455827e-06</td>\n",
       "      <td>3.101084</td>\n",
       "    </tr>\n",
       "    <tr>\n",
       "      <th>2452</th>\n",
       "      <td>3.0905</td>\n",
       "      <td>3.1510</td>\n",
       "      <td>3.0795</td>\n",
       "      <td>3.1050</td>\n",
       "      <td>6.098861e-07</td>\n",
       "      <td>1.963382e-07</td>\n",
       "      <td>3.101796</td>\n",
       "    </tr>\n",
       "    <tr>\n",
       "      <th>2453</th>\n",
       "      <td>3.1115</td>\n",
       "      <td>3.1215</td>\n",
       "      <td>3.0685</td>\n",
       "      <td>3.0735</td>\n",
       "      <td>1.348899e-05</td>\n",
       "      <td>4.321144e-06</td>\n",
       "      <td>3.096651</td>\n",
       "    </tr>\n",
       "    <tr>\n",
       "      <th>2454</th>\n",
       "      <td>3.0740</td>\n",
       "      <td>3.0970</td>\n",
       "      <td>3.0200</td>\n",
       "      <td>3.0305</td>\n",
       "      <td>3.485135e-05</td>\n",
       "      <td>2.434454e-06</td>\n",
       "      <td>3.084624</td>\n",
       "    </tr>\n",
       "    <tr>\n",
       "      <th>2455</th>\n",
       "      <td>3.0305</td>\n",
       "      <td>3.0490</td>\n",
       "      <td>2.9995</td>\n",
       "      <td>3.0335</td>\n",
       "      <td>6.832251e-04</td>\n",
       "      <td>1.188156e-06</td>\n",
       "      <td>3.075328</td>\n",
       "    </tr>\n",
       "    <tr>\n",
       "      <th>2456</th>\n",
       "      <td>3.0335</td>\n",
       "      <td>3.0525</td>\n",
       "      <td>2.9300</td>\n",
       "      <td>2.9335</td>\n",
       "      <td>1.304887e-01</td>\n",
       "      <td>3.564930e-05</td>\n",
       "      <td>3.049541</td>\n",
       "    </tr>\n",
       "    <tr>\n",
       "      <th>2457</th>\n",
       "      <td>2.9310</td>\n",
       "      <td>3.0140</td>\n",
       "      <td>2.8725</td>\n",
       "      <td>3.0040</td>\n",
       "      <td>8.282508e-03</td>\n",
       "      <td>1.809896e-06</td>\n",
       "      <td>3.041261</td>\n",
       "    </tr>\n",
       "    <tr>\n",
       "      <th>2458</th>\n",
       "      <td>2.9960</td>\n",
       "      <td>2.9960</td>\n",
       "      <td>2.9505</td>\n",
       "      <td>2.9870</td>\n",
       "      <td>5.134515e-01</td>\n",
       "      <td>9.045794e-05</td>\n",
       "      <td>3.031396</td>\n",
       "    </tr>\n",
       "    <tr>\n",
       "      <th>2459</th>\n",
       "      <td>2.9835</td>\n",
       "      <td>2.9840</td>\n",
       "      <td>2.9605</td>\n",
       "      <td>2.9665</td>\n",
       "      <td>4.697581e-02</td>\n",
       "      <td>8.162595e-03</td>\n",
       "      <td>3.019596</td>\n",
       "    </tr>\n",
       "    <tr>\n",
       "      <th>2460</th>\n",
       "      <td>2.9615</td>\n",
       "      <td>3.0175</td>\n",
       "      <td>2.9615</td>\n",
       "      <td>3.0060</td>\n",
       "      <td>9.823610e-01</td>\n",
       "      <td>5.114201e-05</td>\n",
       "      <td>3.017124</td>\n",
       "    </tr>\n",
       "    <tr>\n",
       "      <th>2461</th>\n",
       "      <td>2.9990</td>\n",
       "      <td>3.0185</td>\n",
       "      <td>2.9950</td>\n",
       "      <td>2.9990</td>\n",
       "      <td>9.999061e-01</td>\n",
       "      <td>2.784251e-07</td>\n",
       "      <td>3.013829</td>\n",
       "    </tr>\n",
       "    <tr>\n",
       "      <th>2462</th>\n",
       "      <td>2.9975</td>\n",
       "      <td>3.0175</td>\n",
       "      <td>2.9780</td>\n",
       "      <td>2.9820</td>\n",
       "      <td>9.871472e-01</td>\n",
       "      <td>8.351547e-07</td>\n",
       "      <td>3.008042</td>\n",
       "    </tr>\n",
       "    <tr>\n",
       "      <th>2463</th>\n",
       "      <td>2.9790</td>\n",
       "      <td>3.0470</td>\n",
       "      <td>2.9620</td>\n",
       "      <td>3.0240</td>\n",
       "      <td>9.517280e-01</td>\n",
       "      <td>3.450645e-06</td>\n",
       "      <td>3.010943</td>\n",
       "    </tr>\n",
       "    <tr>\n",
       "      <th>2464</th>\n",
       "      <td>3.0185</td>\n",
       "      <td>3.0235</td>\n",
       "      <td>2.9835</td>\n",
       "      <td>2.9895</td>\n",
       "      <td>9.994525e-01</td>\n",
       "      <td>8.039032e-07</td>\n",
       "      <td>3.007045</td>\n",
       "    </tr>\n",
       "    <tr>\n",
       "      <th>2465</th>\n",
       "      <td>2.9895</td>\n",
       "      <td>3.0280</td>\n",
       "      <td>2.9865</td>\n",
       "      <td>3.0175</td>\n",
       "      <td>9.997217e-01</td>\n",
       "      <td>1.685858e-07</td>\n",
       "      <td>3.008946</td>\n",
       "    </tr>\n",
       "    <tr>\n",
       "      <th>2466</th>\n",
       "      <td>3.0085</td>\n",
       "      <td>3.0370</td>\n",
       "      <td>3.0050</td>\n",
       "      <td>3.0305</td>\n",
       "      <td>9.007318e-01</td>\n",
       "      <td>2.557222e-06</td>\n",
       "      <td>3.012865</td>\n",
       "    </tr>\n",
       "    <tr>\n",
       "      <th>2467</th>\n",
       "      <td>3.0210</td>\n",
       "      <td>3.0435</td>\n",
       "      <td>2.9600</td>\n",
       "      <td>2.9750</td>\n",
       "      <td>2.453569e-02</td>\n",
       "      <td>9.883737e-07</td>\n",
       "      <td>3.005980</td>\n",
       "    </tr>\n",
       "    <tr>\n",
       "      <th>2468</th>\n",
       "      <td>2.9690</td>\n",
       "      <td>2.9825</td>\n",
       "      <td>2.9405</td>\n",
       "      <td>2.9550</td>\n",
       "      <td>9.373418e-03</td>\n",
       "      <td>2.292873e-06</td>\n",
       "      <td>2.996711</td>\n",
       "    </tr>\n",
       "    <tr>\n",
       "      <th>2469</th>\n",
       "      <td>2.9635</td>\n",
       "      <td>2.9890</td>\n",
       "      <td>2.9235</td>\n",
       "      <td>2.9670</td>\n",
       "      <td>4.124290e-04</td>\n",
       "      <td>4.147463e-04</td>\n",
       "      <td>2.991309</td>\n",
       "    </tr>\n",
       "    <tr>\n",
       "      <th>2470</th>\n",
       "      <td>2.9660</td>\n",
       "      <td>2.9820</td>\n",
       "      <td>2.9390</td>\n",
       "      <td>2.9500</td>\n",
       "      <td>5.871863e-03</td>\n",
       "      <td>3.161810e-05</td>\n",
       "      <td>2.983798</td>\n",
       "    </tr>\n",
       "    <tr>\n",
       "      <th>2471</th>\n",
       "      <td>2.9425</td>\n",
       "      <td>3.0000</td>\n",
       "      <td>2.9425</td>\n",
       "      <td>2.9810</td>\n",
       "      <td>3.482693e-02</td>\n",
       "      <td>4.578938e-05</td>\n",
       "      <td>2.983289</td>\n",
       "    </tr>\n",
       "    <tr>\n",
       "      <th>2472</th>\n",
       "      <td>2.9860</td>\n",
       "      <td>3.0015</td>\n",
       "      <td>2.9640</td>\n",
       "      <td>2.9690</td>\n",
       "      <td>2.656543e-02</td>\n",
       "      <td>3.865028e-06</td>\n",
       "      <td>2.980691</td>\n",
       "    </tr>\n",
       "    <tr>\n",
       "      <th>2473</th>\n",
       "      <td>2.9690</td>\n",
       "      <td>2.9770</td>\n",
       "      <td>2.9510</td>\n",
       "      <td>2.9625</td>\n",
       "      <td>2.300707e-03</td>\n",
       "      <td>1.804403e-06</td>\n",
       "      <td>2.977384</td>\n",
       "    </tr>\n",
       "    <tr>\n",
       "      <th>2474</th>\n",
       "      <td>2.9630</td>\n",
       "      <td>2.9705</td>\n",
       "      <td>2.9405</td>\n",
       "      <td>2.9500</td>\n",
       "      <td>3.017873e-03</td>\n",
       "      <td>5.426790e-06</td>\n",
       "      <td>2.972405</td>\n",
       "    </tr>\n",
       "    <tr>\n",
       "      <th>2475</th>\n",
       "      <td>2.9490</td>\n",
       "      <td>2.9590</td>\n",
       "      <td>2.9005</td>\n",
       "      <td>2.9105</td>\n",
       "      <td>7.417434e-04</td>\n",
       "      <td>6.055071e-06</td>\n",
       "      <td>2.961150</td>\n",
       "    </tr>\n",
       "    <tr>\n",
       "      <th>2476</th>\n",
       "      <td>2.9105</td>\n",
       "      <td>2.9435</td>\n",
       "      <td>2.8525</td>\n",
       "      <td>2.9185</td>\n",
       "      <td>6.530660e-02</td>\n",
       "      <td>4.527416e-07</td>\n",
       "      <td>2.953395</td>\n",
       "    </tr>\n",
       "    <tr>\n",
       "      <th>2477</th>\n",
       "      <td>2.9495</td>\n",
       "      <td>2.9575</td>\n",
       "      <td>2.9120</td>\n",
       "      <td>2.9220</td>\n",
       "      <td>5.873362e-03</td>\n",
       "      <td>3.848931e-05</td>\n",
       "      <td>2.947687</td>\n",
       "    </tr>\n",
       "  </tbody>\n",
       "</table>\n",
       "<p>2478 rows × 7 columns</p>\n",
       "</div>"
      ],
      "text/plain": [
       "        open    high     low   close     downtrend       uptrend       ema\n",
       "0     1.4960  1.4980  1.4740  1.4870  2.739136e-04  8.848447e-01  1.487000\n",
       "1     1.4890  1.4900  1.4570  1.4645  1.595031e-05  5.139159e-03  1.474625\n",
       "2     1.4540  1.4630  1.4270  1.4595  1.839598e-04  8.178793e-01  1.468545\n",
       "3     1.4560  1.4590  1.4390  1.4465  2.277036e-04  7.696805e-03  1.461282\n",
       "4     1.4530  1.4720  1.4500  1.4595  9.120651e-04  4.928198e-05  1.460770\n",
       "5     1.4570  1.4650  1.4440  1.4590  7.089793e-06  1.495185e-06  1.460311\n",
       "6     1.4530  1.4580  1.4420  1.4580  3.719399e-04  1.358987e-07  1.459754\n",
       "7     1.4670  1.4990  1.4550  1.4960  1.779208e-03  1.010162e-06  1.468000\n",
       "8     1.4890  1.4950  1.4790  1.4935  9.425099e-07  2.659535e-06  1.473548\n",
       "9     1.4970  1.5190  1.4960  1.5105  6.485791e-06  3.234991e-05  1.481310\n",
       "10    1.5210  1.5305  1.5195  1.5295  6.631651e-08  1.746470e-04  1.491155\n",
       "11    1.5205  1.5225  1.5015  1.5210  1.320311e-05  1.880560e-03  1.497118\n",
       "12    1.5185  1.5755  1.5065  1.5665  3.268353e-06  1.135515e-03  1.510735\n",
       "13    1.5575  1.5705  1.5575  1.5680  2.128244e-07  2.472214e-03  1.521814\n",
       "14    1.5815  1.5825  1.5605  1.5695  1.903796e-07  6.062827e-01  1.530934\n",
       "15    1.5625  1.5765  1.5535  1.5755  1.006916e-09  9.902816e-01  1.539377\n",
       "16    1.5675  1.5685  1.5365  1.5605  3.944575e-11  9.999866e-01  1.543349\n",
       "17    1.5565  1.5675  1.5245  1.5665  2.879834e-09  9.882344e-01  1.547675\n",
       "18    1.5765  1.5835  1.5695  1.5790  4.537761e-11  9.999958e-01  1.553499\n",
       "19    1.5695  1.5745  1.5385  1.5450  4.153626e-11  9.999989e-01  1.551925\n",
       "20    1.5325  1.5635  1.5305  1.5575  8.815822e-10  9.999956e-01  1.552954\n",
       "21    1.5495  1.5665  1.5485  1.5565  6.990912e-10  9.999979e-01  1.553607\n",
       "22    1.5685  1.5875  1.5675  1.5745  1.478605e-07  9.967276e-01  1.557443\n",
       "23    1.5695  1.5845  1.5625  1.5770  1.471559e-05  9.580571e-01  1.561028\n",
       "24    1.5955  1.6015  1.5745  1.5800  2.418728e-09  9.995529e-01  1.564501\n",
       "25    1.5755  1.5895  1.5575  1.5840  1.713863e-07  9.975941e-01  1.568065\n",
       "26    1.5685  1.5790  1.5555  1.5765  2.219124e-07  9.999609e-01  1.569606\n",
       "27    1.5575  1.5745  1.5365  1.5595  9.824887e-06  9.934110e-01  1.567762\n",
       "28    1.5615  1.5635  1.5355  1.5510  2.068904e-03  5.499061e-01  1.564705\n",
       "29    1.5635  1.5855  1.5565  1.5710  7.238604e-05  9.317113e-01  1.565852\n",
       "...      ...     ...     ...     ...           ...           ...       ...\n",
       "2448  3.1245  3.1345  3.0965  3.1130  4.389160e-03  8.367720e-06  3.104722\n",
       "2449  3.1100  3.1165  3.0665  3.0755  5.554629e-07  1.039254e-06  3.099409\n",
       "2450  3.0765  3.1230  3.0635  3.1185  1.033601e-05  1.904854e-06  3.102880\n",
       "2451  3.1065  3.1120  3.0745  3.0930  2.994391e-06  1.455827e-06  3.101084\n",
       "2452  3.0905  3.1510  3.0795  3.1050  6.098861e-07  1.963382e-07  3.101796\n",
       "2453  3.1115  3.1215  3.0685  3.0735  1.348899e-05  4.321144e-06  3.096651\n",
       "2454  3.0740  3.0970  3.0200  3.0305  3.485135e-05  2.434454e-06  3.084624\n",
       "2455  3.0305  3.0490  2.9995  3.0335  6.832251e-04  1.188156e-06  3.075328\n",
       "2456  3.0335  3.0525  2.9300  2.9335  1.304887e-01  3.564930e-05  3.049541\n",
       "2457  2.9310  3.0140  2.8725  3.0040  8.282508e-03  1.809896e-06  3.041261\n",
       "2458  2.9960  2.9960  2.9505  2.9870  5.134515e-01  9.045794e-05  3.031396\n",
       "2459  2.9835  2.9840  2.9605  2.9665  4.697581e-02  8.162595e-03  3.019596\n",
       "2460  2.9615  3.0175  2.9615  3.0060  9.823610e-01  5.114201e-05  3.017124\n",
       "2461  2.9990  3.0185  2.9950  2.9990  9.999061e-01  2.784251e-07  3.013829\n",
       "2462  2.9975  3.0175  2.9780  2.9820  9.871472e-01  8.351547e-07  3.008042\n",
       "2463  2.9790  3.0470  2.9620  3.0240  9.517280e-01  3.450645e-06  3.010943\n",
       "2464  3.0185  3.0235  2.9835  2.9895  9.994525e-01  8.039032e-07  3.007045\n",
       "2465  2.9895  3.0280  2.9865  3.0175  9.997217e-01  1.685858e-07  3.008946\n",
       "2466  3.0085  3.0370  3.0050  3.0305  9.007318e-01  2.557222e-06  3.012865\n",
       "2467  3.0210  3.0435  2.9600  2.9750  2.453569e-02  9.883737e-07  3.005980\n",
       "2468  2.9690  2.9825  2.9405  2.9550  9.373418e-03  2.292873e-06  2.996711\n",
       "2469  2.9635  2.9890  2.9235  2.9670  4.124290e-04  4.147463e-04  2.991309\n",
       "2470  2.9660  2.9820  2.9390  2.9500  5.871863e-03  3.161810e-05  2.983798\n",
       "2471  2.9425  3.0000  2.9425  2.9810  3.482693e-02  4.578938e-05  2.983289\n",
       "2472  2.9860  3.0015  2.9640  2.9690  2.656543e-02  3.865028e-06  2.980691\n",
       "2473  2.9690  2.9770  2.9510  2.9625  2.300707e-03  1.804403e-06  2.977384\n",
       "2474  2.9630  2.9705  2.9405  2.9500  3.017873e-03  5.426790e-06  2.972405\n",
       "2475  2.9490  2.9590  2.9005  2.9105  7.417434e-04  6.055071e-06  2.961150\n",
       "2476  2.9105  2.9435  2.8525  2.9185  6.530660e-02  4.527416e-07  2.953395\n",
       "2477  2.9495  2.9575  2.9120  2.9220  5.873362e-03  3.848931e-05  2.947687\n",
       "\n",
       "[2478 rows x 7 columns]"
      ]
     },
     "execution_count": 112,
     "metadata": {},
     "output_type": "execute_result"
    }
   ],
   "source": [
    "raw_data"
   ]
  },
  {
   "cell_type": "code",
   "execution_count": null,
   "metadata": {
    "collapsed": true
   },
   "outputs": [],
   "source": []
  }
 ],
 "metadata": {
  "kernelspec": {
   "display_name": "Python 3",
   "language": "python",
   "name": "python3"
  },
  "language_info": {
   "codemirror_mode": {
    "name": "ipython",
    "version": 3
   },
   "file_extension": ".py",
   "mimetype": "text/x-python",
   "name": "python",
   "nbconvert_exporter": "python",
   "pygments_lexer": "ipython3",
   "version": "3.6.2"
  }
 },
 "nbformat": 4,
 "nbformat_minor": 2
}
