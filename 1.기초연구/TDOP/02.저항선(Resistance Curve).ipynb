{
 "cells": [
  {
   "cell_type": "code",
   "execution_count": 1,
   "metadata": {},
   "outputs": [],
   "source": [
    "%matplotlib inline\n",
    "import sys\n",
    "sys.path.append('../../')\n",
    "import numpy as np\n",
    "from tools import open_file, dataframe, ohlc_chart, load_products, TDOP"
   ]
  },
  {
   "cell_type": "code",
   "execution_count": 2,
   "metadata": {},
   "outputs": [],
   "source": [
    "pinfo = load_products()\n",
    "ohlc_raw = open_file('h5py', 'raw data/daily_futures.h5', mode='r')\n",
    "tdop_raw = open_file('h5py', 'tdops/tdops_decay_7.h5', mode='r')"
   ]
  },
  {
   "cell_type": "code",
   "execution_count": 22,
   "metadata": {},
   "outputs": [],
   "source": [
    "savefile = open_file('h5py', 'tdops/resist_over_thresholds.h5', mode='w', force=True)"
   ]
  },
  {
   "cell_type": "code",
   "execution_count": 23,
   "metadata": {},
   "outputs": [
    {
     "name": "stdout",
     "output_type": "stream",
     "text": [
      " now processing.. ZW 0.9900000000000002% (48/48)                  "
     ]
    }
   ],
   "source": [
    "for TH in np.arange(0.80, 1, 0.01):\n",
    "    length = len(tdop_raw)-1\n",
    "    for cnt, (symbol, file) in enumerate(tdop_raw.items()):\n",
    "        print(f\"\\r now processing.. {symbol} {TH}% ({cnt}/{length})                \", flush=True, end='')\n",
    "        ohlcs = list(filter(lambda x: x.attrs['symbol']==symbol, ohlc_raw.values()))[0].value[:,[0,1,2,3,4]]\n",
    "        lower, upper = TDOP.get_resist(file, TH)\n",
    "        lower = np.expand_dims(lower, axis=-1)\n",
    "        upper = np.expand_dims(upper, axis=-1)\n",
    "        data = np.hstack((lower, upper))\n",
    "    \n",
    "        \n",
    "        if symbol in savefile:\n",
    "            group = savefile[symbol]\n",
    "        else:\n",
    "            group = savefile.create_group(symbol)\n",
    "        dset = group.create_dataset( str(int(TH*100)), shape=data.shape, data=data)\n",
    "        dset.attrs['name'] = pinfo[symbol]['name']\n",
    "        dset.attrs['symbol'] = symbol"
   ]
  },
  {
   "cell_type": "code",
   "execution_count": 24,
   "metadata": {},
   "outputs": [],
   "source": [
    "savefile.close()"
   ]
  },
  {
   "cell_type": "code",
   "execution_count": 7,
   "metadata": {},
   "outputs": [],
   "source": [
    "test = open_file('h5py', 'tdops/resist_over_thresholds.h5', mode='r')"
   ]
  },
  {
   "cell_type": "code",
   "execution_count": 11,
   "metadata": {
    "collapsed": true
   },
   "outputs": [],
   "source": [
    "test.close()"
   ]
  },
  {
   "cell_type": "code",
   "execution_count": 8,
   "metadata": {
    "collapsed": true
   },
   "outputs": [],
   "source": [
    "import matplotlib.pyplot as plt"
   ]
  },
  {
   "cell_type": "code",
   "execution_count": 9,
   "metadata": {},
   "outputs": [
    {
     "data": {
      "text/plain": [
       "[<matplotlib.lines.Line2D at 0x26cb9f99a20>,\n",
       " <matplotlib.lines.Line2D at 0x26cb9f99be0>]"
      ]
     },
     "execution_count": 9,
     "metadata": {},
     "output_type": "execute_result"
    },
    {
     "data": {
      "image/png": "[encoded data removed]",
      "text/plain": [
       "<matplotlib.figure.Figure at 0x26cb9e06d68>"
      ]
     },
     "metadata": {},
     "output_type": "display_data"
    }
   ],
   "source": [
    "plt.plot(test['AD']['80'].value)"
   ]
  },
  {
   "cell_type": "code",
   "execution_count": null,
   "metadata": {
    "collapsed": true
   },
   "outputs": [],
   "source": []
  }
 ],
 "metadata": {
  "kernelspec": {
   "display_name": "Python 3",
   "language": "python",
   "name": "python3"
  },
  "language_info": {
   "codemirror_mode": {
    "name": "ipython",
    "version": 3
   },
   "file_extension": ".py",
   "mimetype": "text/x-python",
   "name": "python",
   "nbconvert_exporter": "python",
   "pygments_lexer": "ipython3",
   "version": "3.6.2"
  }
 },
 "nbformat": 4,
 "nbformat_minor": 2
}
