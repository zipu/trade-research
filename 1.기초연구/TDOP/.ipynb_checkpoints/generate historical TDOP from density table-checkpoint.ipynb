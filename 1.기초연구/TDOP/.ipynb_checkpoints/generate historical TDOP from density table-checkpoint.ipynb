{
 "cells": [
  {
   "cell_type": "code",
   "execution_count": 3,
   "metadata": {
    "collapsed": true
   },
   "outputs": [],
   "source": [
    "%matplotlib inline\n",
    "import sys\n",
    "sys.path.append('../../')\n",
    "import numpy as np\n",
    "import matplotlib.pyplot as plt\n",
    "from modules.tools import open_file, product_info\n",
    "#from modules.tools import get_tdop_array "
   ]
  },
  {
   "cell_type": "code",
   "execution_count": 1,
   "metadata": {
    "collapsed": true
   },
   "outputs": [],
   "source": [
    "def create_tdop(density, pinfo, decayfactor=1, period=None, now=None):\n",
    "    \"\"\"\n",
    "    pytables density table로부터 정해진 날짜의 tdop array를 반환한다.\n",
    "    args: \n",
    "     density: pytables group,\n",
    "     info: 상품정보\n",
    "     decayfactor: 시간 감소 주기 (일수)\n",
    "     now: numpy datetime64 object\n",
    "     period: time window \n",
    "\n",
    "    @@ 입력된 now 값을 기준으로 그 이후에 생성된 데이터는 무시함\n",
    "       (과거 날짜 기준의 tdop 생성용)\n",
    "    \"\"\"\n",
    "    \n",
    "    tickunit = pinfo['tick_unit']\n",
    "    digit = pinfo['decimal_places']\n",
    "    name = pinfo['name']\n",
    "    code = pinfo['symbol']\n",
    "    \n",
    "    min_price = density.read(field='price').min()\n",
    "    max_price = density.read(field='price').max()\n",
    "    x = np.arange(min_price, max_price+tickunit/2, tickunit).round(digit)\n",
    "    \n",
    "    if now == None:\n",
    "        now = np.datetime64(datetime.now()+timedelta(hours=1)) #1시간 시차\n",
    "    \n",
    "    if period:\n",
    "        start = (now - np.timedelta64(365*period, 'D'))\\\n",
    "                        .astype('M8[s]').astype('int64')\n",
    "\n",
    "    else:\n",
    "        start = 0\n",
    "\n",
    "    end = now.astype('M8[s]').astype('int64')\n",
    "    density = density.read_where('(start<=date)&(date<=end)')\n",
    "        \n",
    "    dates = density['date'].astype('M8[s]')\n",
    "    prices = np.round(density['price'], digit)\n",
    "    values = density['value']\n",
    "    values[np.isinf(values)] = 0 #inf --> 0\n",
    "    values[values> values.std()*10] = 0 ## larger than std * 15 --> 0\n",
    "    values[np.isnan(values)] = 0 # nan --> 0\n",
    "    \n",
    "    #scale factor: sqrt(date - date)\n",
    "    delta = (now + 1 - dates)/np.timedelta64(decayfactor,'D') # 시차(일수)\n",
    "    #delta = delta +1 # 최소시차 = 1\n",
    "    weight = 1/np.sqrt(delta)\n",
    "    \n",
    "    columns = np.searchsorted(x, prices)\n",
    "    if not np.isin(x.argmax(), columns):\n",
    "        columns = np.append(columns, x.argmax())\n",
    "        weight = np.append(weight, 0)\n",
    "    tdop = np.bincount(columns, weights=weight)\n",
    "    \n",
    "    return x, tdop, now"
   ]
  },
  {
   "cell_type": "markdown",
   "metadata": {},
   "source": [
    "### 0. Load data"
   ]
  },
  {
   "cell_type": "code",
   "execution_count": 4,
   "metadata": {
    "collapsed": true
   },
   "outputs": [],
   "source": [
    "products = product_info() #종목정보\n",
    "raw_daily = open_file('h5py','raw data/daily_futures.h5') #daily futures\n",
    "raw_density = open_file('tb','etc/tdops.hdf5', mode='r') #density table"
   ]
  },
  {
   "cell_type": "markdown",
   "metadata": {},
   "source": [
    "### 1. Generate Historcal TDOP "
   ]
  },
  {
   "cell_type": "code",
   "execution_count": 19,
   "metadata": {
    "collapsed": true
   },
   "outputs": [],
   "source": [
    "fname = 'etc/AD_TDOP_week.h5'\n",
    "file = open_file('h5py', fname, mode='w', force=True)"
   ]
  },
  {
   "cell_type": "code",
   "execution_count": null,
   "metadata": {},
   "outputs": [
    {
     "name": "stdout",
     "output_type": "stream",
     "text": [
      "processing: AD at 2013-08-09 (0/49)                        "
     ]
    }
   ],
   "source": [
    "length = len(raw_density.list_nodes('/'))\n",
    "for cnt, grp in enumerate(raw_density.iter_nodes('/')):\n",
    "    code = grp._v_name\n",
    "    if code != 'AD':\n",
    "        continue\n",
    "    \n",
    "    print('\\r processing: %s (%s/%s)                             '%(code,cnt,length), end='', flush=True)\n",
    "    info = products[code]\n",
    "    start = grp.DateMapper.read(field='date').min().astype('M8[s]')\n",
    "    end = grp.DateMapper.read(field='date').max().astype('M8[s]') + np.timedelta64(1,'D')\n",
    "    daterng = np.arange(start, end, dtype='datetime64[D]')\n",
    "    \n",
    "    dates = []\n",
    "    prices = []\n",
    "    tdop = []\n",
    "    for now in daterng:\n",
    "        print(f\"\\rprocessing: {code} at {now} ({cnt}/{length})                        \", end='', flush=True)\n",
    "        x, y, date = get_tdop_array(grp, info, period=7, now=now)\n",
    "        dates.append(date)\n",
    "        tdop.append(y)\n",
    "    dates = np.array(dates).astype('int64')\n",
    "    prices = np.array(x)\n",
    "    tdop = np.array(tdop)\n",
    "    \n",
    "    group = file.create_group(code)\n",
    "    group.create_dataset(\"dates\", dates.shape, data=dates)\n",
    "    group.create_dataset(\"prices\", prices.shape, data=prices)\n",
    "    group.create_dataset(\"tdop\", tdop.shape, data=tdop, compression=\"gzip\")"
   ]
  },
  {
   "cell_type": "code",
   "execution_count": 5,
   "metadata": {
    "collapsed": true
   },
   "outputs": [],
   "source": [
    "file.close()"
   ]
  },
  {
   "cell_type": "markdown",
   "metadata": {},
   "source": [
    "### Verification"
   ]
  },
  {
   "cell_type": "code",
   "execution_count": 6,
   "metadata": {
    "collapsed": true
   },
   "outputs": [],
   "source": [
    "file = open_file('h5py', fname, mode='r')"
   ]
  },
  {
   "cell_type": "code",
   "execution_count": 8,
   "metadata": {
    "collapsed": true
   },
   "outputs": [],
   "source": [
    "a=file['LC/tdop'].value"
   ]
  },
  {
   "cell_type": "code",
   "execution_count": 9,
   "metadata": {},
   "outputs": [
    {
     "data": {
      "text/plain": [
       "[<matplotlib.lines.Line2D at 0x2d2a26fa978>]"
      ]
     },
     "execution_count": 9,
     "metadata": {},
     "output_type": "execute_result"
    },
    {
     "data": {
      "image/png": "[encoded data removed]",
      "text/plain": [
       "<matplotlib.figure.Figure at 0x2d29f4e40b8>"
      ]
     },
     "metadata": {},
     "output_type": "display_data"
    }
   ],
   "source": [
    "plt.plot(a[3100])"
   ]
  },
  {
   "cell_type": "code",
   "execution_count": 10,
   "metadata": {
    "collapsed": true
   },
   "outputs": [],
   "source": [
    "file.close()"
   ]
  },
  {
   "cell_type": "code",
   "execution_count": 55,
   "metadata": {},
   "outputs": [
    {
     "name": "stdout",
     "output_type": "stream",
     "text": [
      "AD\n",
      "BP\n",
      "CC\n",
      "CD\n",
      "CL\n",
      "CT\n",
      "DX\n",
      "ED\n",
      "FBTP\n",
      "FDAX\n",
      "FESX\n",
      "FGBL\n",
      "FGBM\n",
      "FGBS\n",
      "GC\n",
      "HG\n",
      "HO\n",
      "JY\n",
      "KC\n",
      "LC\n",
      "LCO\n",
      "LGO\n",
      "LH\n",
      "NE\n",
      "NG\n",
      "NKD\n",
      "OJ\n",
      "PA\n",
      "PL\n",
      "SB\n",
      "SF\n",
      "SI\n",
      "URO\n",
      "WTCL\n",
      "ZB\n",
      "ZC\n",
      "ZF\n",
      "ZL\n",
      "ZM\n",
      "ZN\n",
      "ZO\n",
      "ZR\n",
      "ZS\n",
      "ZT\n",
      "ZW\n"
     ]
    }
   ],
   "source": [
    "for gp in raw_density.iter_nodes('/'):\n",
    "    print(gp._v_name)"
   ]
  },
  {
   "cell_type": "code",
   "execution_count": null,
   "metadata": {
    "collapsed": true
   },
   "outputs": [],
   "source": []
  }
 ],
 "metadata": {
  "kernelspec": {
   "display_name": "Python 3",
   "language": "python",
   "name": "python3"
  },
  "language_info": {
   "codemirror_mode": {
    "name": "ipython",
    "version": 3
   },
   "file_extension": ".py",
   "mimetype": "text/x-python",
   "name": "python",
   "nbconvert_exporter": "python",
   "pygments_lexer": "ipython3",
   "version": "3.6.2"
  }
 },
 "nbformat": 4,
 "nbformat_minor": 2
}
