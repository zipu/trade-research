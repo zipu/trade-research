{
 "cells": [
  {
   "cell_type": "code",
   "execution_count": 1,
   "metadata": {
    "collapsed": true
   },
   "outputs": [],
   "source": [
    "%matplotlib inline\n",
    "import sys\n",
    "sys.path.append('../')\n",
    "import numpy as np\n",
    "from tools import open_file, dataframe, ohlc_chart, product_info, TDOP"
   ]
  },
  {
   "cell_type": "code",
   "execution_count": 2,
   "metadata": {
    "collapsed": true
   },
   "outputs": [],
   "source": [
    "pinfo = product_info()\n",
    "ohlc_raw = open_file('h5py', 'raw data/daily_futures.h5', mode='r')\n",
    "tdop_raw = open_file('h5py', 'tdops/tdops_decay_7.h5', mode='r')"
   ]
  },
  {
   "cell_type": "code",
   "execution_count": null,
   "metadata": {
    "collapsed": true
   },
   "outputs": [],
   "source": [
    "TH = 0.99"
   ]
  },
  {
   "cell_type": "code",
   "execution_count": 19,
   "metadata": {
    "collapsed": true
   },
   "outputs": [],
   "source": [
    "savefile = open_file('h5py', 'etc/ohlc_sr.h5', mode='w', force=True)"
   ]
  },
  {
   "cell_type": "code",
   "execution_count": 14,
   "metadata": {
    "collapsed": true
   },
   "outputs": [],
   "source": [
    "a=[]"
   ]
  },
  {
   "cell_type": "code",
   "execution_count": 15,
   "metadata": {},
   "outputs": [
    {
     "ename": "IndexError",
     "evalue": "list index out of range",
     "output_type": "error",
     "traceback": [
      "\u001b[1;31m---------------------------------------------------------------------------\u001b[0m",
      "\u001b[1;31mIndexError\u001b[0m                                Traceback (most recent call last)",
      "\u001b[1;32m<ipython-input-15-10e9fa622e52>\u001b[0m in \u001b[0;36m<module>\u001b[1;34m()\u001b[0m\n\u001b[1;32m----> 1\u001b[1;33m \u001b[0ma\u001b[0m\u001b[1;33m.\u001b[0m\u001b[0mappend\u001b[0m\u001b[1;33m(\u001b[0m\u001b[0ma\u001b[0m\u001b[1;33m[\u001b[0m\u001b[1;33m-\u001b[0m\u001b[1;36m1\u001b[0m\u001b[1;33m]\u001b[0m \u001b[1;32mif\u001b[0m \u001b[0ma\u001b[0m\u001b[1;33m[\u001b[0m\u001b[1;33m-\u001b[0m\u001b[1;36m1\u001b[0m\u001b[1;33m]\u001b[0m \u001b[1;32melse\u001b[0m \u001b[1;32mNone\u001b[0m\u001b[1;33m)\u001b[0m\u001b[1;33m\u001b[0m\u001b[0m\n\u001b[0m",
      "\u001b[1;31mIndexError\u001b[0m: list index out of range"
     ]
    }
   ],
   "source": [
    "a.append(a[-1] if a[-1] else None) "
   ]
  },
  {
   "cell_type": "code",
   "execution_count": 13,
   "metadata": {},
   "outputs": [
    {
     "data": {
      "text/plain": [
       "[None]"
      ]
     },
     "execution_count": 13,
     "metadata": {},
     "output_type": "execute_result"
    }
   ],
   "source": [
    "a"
   ]
  },
  {
   "cell_type": "code",
   "execution_count": 20,
   "metadata": {},
   "outputs": [
    {
     "name": "stdout",
     "output_type": "stream",
     "text": [
      " now processing.. FBTP at 2010-03-01T00:00:00 (9/48)                "
     ]
    },
    {
     "name": "stderr",
     "output_type": "stream",
     "text": [
      "..\\tools\\TDOP.py:74: RuntimeWarning: invalid value encountered in true_divide\n",
      "  norm = tdop/tdop.sum()\n",
      "..\\tools\\TDOP.py:76: RuntimeWarning: invalid value encountered in greater\n",
      "  args = np.where((cum > 1-thresh_hold) & (cum < thresh_hold))[0]\n",
      "..\\tools\\TDOP.py:76: RuntimeWarning: invalid value encountered in less\n",
      "  args = np.where((cum > 1-thresh_hold) & (cum < thresh_hold))[0]\n"
     ]
    },
    {
     "name": "stdout",
     "output_type": "stream",
     "text": [
      " now processing.. ZW at 2014-12-31T00:00:00 (48/48)                  "
     ]
    }
   ],
   "source": [
    "thresh_hold = 0.98\n",
    "length = len(tdop_raw)-1\n",
    "for cnt, (symbol, file) in enumerate(tdop_raw.items()):\n",
    "    #print(f\"\\r now processing.. {symbol} ({cnt}/{length})                \", flush=True, end='')\n",
    "    ohlcs = list(filter(lambda x: x.attrs['symbol']==symbol, ohlc_raw.values()))[0].value[:,[0,1,2,3,4]]\n",
    "    dates = file['dates'].value.astype('M8[s]')\n",
    "    price = file['prices'].value\n",
    "    tdops = file['tdop'].value\n",
    "    \n",
    "    lower = []\n",
    "    upper= []\n",
    "    \n",
    "    for idx, date in enumerate(dates):\n",
    "        print(f\"\\r now processing.. {symbol} at {date} ({cnt}/{length})                \", flush=True, end='')\n",
    "        bottom, top = TDOP.get_SR(tdops[idx], thresh_hold)\n",
    "        if bottom:\n",
    "            lower.append(price[bottom])\n",
    "            upper.append(price[top])\n",
    "        else:\n",
    "            lower.append(np.nan)\n",
    "            upper.append(np.nan)\n",
    "            \n",
    "    lower = np.expand_dims(lower, axis=-1)\n",
    "    upper = np.expand_dims(upper, axis=-1)\n",
    "    data = np.hstack((ohlcs, lower, upper))\n",
    "    \n",
    "    dset = savefile.create_dataset(symbol, shape=data.shape, data=data)\n",
    "    dset.attrs['name'] = pinfo[symbol]['name']\n",
    "    dset.attrs['symbol'] = symbol"
   ]
  },
  {
   "cell_type": "code",
   "execution_count": 21,
   "metadata": {
    "collapsed": true
   },
   "outputs": [],
   "source": [
    "savefile.close()"
   ]
  },
  {
   "cell_type": "code",
   "execution_count": 6,
   "metadata": {
    "collapsed": true
   },
   "outputs": [],
   "source": [
    "test = open_file('h5py', 'etc/ohlc_sr.h5', mode='r')"
   ]
  },
  {
   "cell_type": "code",
   "execution_count": 15,
   "metadata": {
    "collapsed": true
   },
   "outputs": [],
   "source": [
    "test.close()"
   ]
  },
  {
   "cell_type": "code",
   "execution_count": 11,
   "metadata": {
    "collapsed": true
   },
   "outputs": [],
   "source": [
    "import matplotlib.pyplot as plt"
   ]
  },
  {
   "cell_type": "code",
   "execution_count": 13,
   "metadata": {},
   "outputs": [
    {
     "data": {
      "text/plain": [
       "[<matplotlib.lines.Line2D at 0x2225e66eb70>]"
      ]
     },
     "execution_count": 13,
     "metadata": {},
     "output_type": "execute_result"
    },
    {
     "data": {
      "image/png": "[encoded data removed]",
      "text/plain": [
       "<matplotlib.figure.Figure at 0x2225b61a4a8>"
      ]
     },
     "metadata": {},
     "output_type": "display_data"
    }
   ],
   "source": [
    "plt.plot(s[:,5])"
   ]
  },
  {
   "cell_type": "code",
   "execution_count": null,
   "metadata": {
    "collapsed": true
   },
   "outputs": [],
   "source": []
  }
 ],
 "metadata": {
  "kernelspec": {
   "display_name": "Python 3",
   "language": "python",
   "name": "python3"
  },
  "language_info": {
   "codemirror_mode": {
    "name": "ipython",
    "version": 3
   },
   "file_extension": ".py",
   "mimetype": "text/x-python",
   "name": "python",
   "nbconvert_exporter": "python",
   "pygments_lexer": "ipython3",
   "version": "3.6.2"
  }
 },
 "nbformat": 4,
 "nbformat_minor": 2
}
